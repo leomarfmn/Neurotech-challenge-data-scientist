{
 "cells": [
  {
   "cell_type": "markdown",
   "metadata": {},
   "source": [
    "BINNING <br>\n",
    "SCALER <br>\n",
    "FEATURE SELECTION <br>\n",
    "MODEL FIT <br>"
   ]
  },
  {
   "cell_type": "markdown",
   "metadata": {},
   "source": [
    "## README"
   ]
  },
  {
   "cell_type": "markdown",
   "metadata": {},
   "source": [
    "## SETUP"
   ]
  },
  {
   "cell_type": "code",
   "execution_count": 1,
   "metadata": {},
   "outputs": [
    {
     "name": "stdout",
     "output_type": "stream",
     "text": [
      "(CVXPY) Nov 26 07:36:57 PM: Encountered unexpected exception importing solver GLOP:\n",
      "RuntimeError('Unrecognized new version of ortools (9.11.4210). Expected < 9.10.0. Please open a feature request on cvxpy to enable support for this version.')\n",
      "(CVXPY) Nov 26 07:36:57 PM: Encountered unexpected exception importing solver PDLP:\n",
      "RuntimeError('Unrecognized new version of ortools (9.11.4210). Expected < 9.10.0. Please open a feature request on cvxpy to enable support for this version.')\n"
     ]
    }
   ],
   "source": [
    "# Bibliotecas de uso geral\n",
    "import numpy as np\n",
    "import pandas as pd\n",
    "import seaborn as sns\n",
    "import matplotlib.pyplot as plt\n",
    "\n",
    "# Tratamento dos dados\n",
    "from sklearn.preprocessing import LabelEncoder\n",
    "\n",
    "# Configurações do pandas\n",
    "pd.set_option('display.max_rows', 50)"
   ]
  },
  {
   "cell_type": "markdown",
   "metadata": {},
   "source": [
    "## FUNÇÕES E CONSTANTES"
   ]
  },
  {
   "cell_type": "code",
   "execution_count": 17,
   "metadata": {},
   "outputs": [],
   "source": [
    "def plot_categorical_distribution(df, var):\n",
    "    # Cria os plots das variáveis categóricas\n",
    "    plt.figure(figsize=(8, 6))\n",
    "    sns.countplot(data=df, x=var, palette='Set2')\n",
    "    plt.title(f'Distribuição da variável: {var}')\n",
    "    plt.xlabel(var)\n",
    "    plt.ylabel('Contagem')\n",
    "    plt.xticks(rotation=45)\n",
    "    plt.tight_layout()\n",
    "    plt.show()"
   ]
  },
  {
   "cell_type": "code",
   "execution_count": 18,
   "metadata": {},
   "outputs": [],
   "source": [
    "def plot_numerical_distribution(df, var, bins=20):\n",
    "    # Cria os plots das variáveis numéricas\n",
    "    plt.figure(figsize=(8, 6))\n",
    "    sns.histplot(df, x=var, hue='TARGET', bins=bins, kde=True, palette='Set1', edgecolor='black')\n",
    "    plt.title(f'Distribuição da variável: {var} pelo TARGET')\n",
    "    plt.xlabel(var)\n",
    "    plt.ylabel('Frequência')\n",
    "    plt.tight_layout()\n",
    "    plt.show()"
   ]
  },
  {
   "cell_type": "markdown",
   "metadata": {},
   "source": [
    "## INGESTÃO DE DADOS"
   ]
  },
  {
   "cell_type": "code",
   "execution_count": 19,
   "metadata": {},
   "outputs": [
    {
     "data": {
      "text/plain": [
       "(120750, 151)"
      ]
     },
     "execution_count": 19,
     "metadata": {},
     "output_type": "execute_result"
    }
   ],
   "source": [
    "df_train = pd.read_csv('train.gz')\n",
    "df_train.shape"
   ]
  },
  {
   "cell_type": "code",
   "execution_count": 20,
   "metadata": {},
   "outputs": [
    {
     "data": {
      "text/plain": [
       "(51751, 151)"
      ]
     },
     "execution_count": 20,
     "metadata": {},
     "output_type": "execute_result"
    }
   ],
   "source": [
    "df_test = pd.read_csv('test.gz')\n",
    "df_test.shape"
   ]
  },
  {
   "cell_type": "code",
   "execution_count": 21,
   "metadata": {},
   "outputs": [
    {
     "data": {
      "text/plain": [
       "(91965, 150)"
      ]
     },
     "execution_count": 21,
     "metadata": {},
     "output_type": "execute_result"
    }
   ],
   "source": [
    "df_oof = pd.read_csv('oot.gz')\n",
    "df_oof.shape"
   ]
  },
  {
   "cell_type": "markdown",
   "metadata": {},
   "source": [
    "## EDA E FEATURE ENGINEERING"
   ]
  },
  {
   "cell_type": "markdown",
   "metadata": {},
   "source": [
    "### ANÁLISES MACRO"
   ]
  },
  {
   "cell_type": "code",
   "execution_count": 22,
   "metadata": {},
   "outputs": [
    {
     "data": {
      "text/plain": [
       "REF_DATE     object\n",
       "TARGET        int64\n",
       "VAR2         object\n",
       "IDADE       float64\n",
       "VAR4         object\n",
       "             ...   \n",
       "VAR146      float64\n",
       "VAR147        int64\n",
       "VAR148       object\n",
       "VAR149       object\n",
       "ID            int64\n",
       "Length: 151, dtype: object"
      ]
     },
     "execution_count": 22,
     "metadata": {},
     "output_type": "execute_result"
    }
   ],
   "source": [
    "df_train.dtypes"
   ]
  },
  {
   "cell_type": "code",
   "execution_count": 23,
   "metadata": {},
   "outputs": [
    {
     "data": {
      "text/html": [
       "<div>\n",
       "<style scoped>\n",
       "    .dataframe tbody tr th:only-of-type {\n",
       "        vertical-align: middle;\n",
       "    }\n",
       "\n",
       "    .dataframe tbody tr th {\n",
       "        vertical-align: top;\n",
       "    }\n",
       "\n",
       "    .dataframe thead th {\n",
       "        text-align: right;\n",
       "    }\n",
       "</style>\n",
       "<table border=\"1\" class=\"dataframe\">\n",
       "  <thead>\n",
       "    <tr style=\"text-align: right;\">\n",
       "      <th></th>\n",
       "      <th>REF_DATE</th>\n",
       "      <th>TARGET</th>\n",
       "      <th>VAR2</th>\n",
       "      <th>IDADE</th>\n",
       "      <th>VAR4</th>\n",
       "      <th>VAR5</th>\n",
       "      <th>VAR6</th>\n",
       "      <th>VAR7</th>\n",
       "      <th>VAR8</th>\n",
       "      <th>VAR9</th>\n",
       "      <th>...</th>\n",
       "      <th>VAR141</th>\n",
       "      <th>VAR142</th>\n",
       "      <th>VAR143</th>\n",
       "      <th>VAR144</th>\n",
       "      <th>VAR145</th>\n",
       "      <th>VAR146</th>\n",
       "      <th>VAR147</th>\n",
       "      <th>VAR148</th>\n",
       "      <th>VAR149</th>\n",
       "      <th>ID</th>\n",
       "    </tr>\n",
       "  </thead>\n",
       "  <tbody>\n",
       "    <tr>\n",
       "      <th>0</th>\n",
       "      <td>2017-06-01 00:00:00+00:00</td>\n",
       "      <td>0</td>\n",
       "      <td>M</td>\n",
       "      <td>34.137</td>\n",
       "      <td>NaN</td>\n",
       "      <td>RO</td>\n",
       "      <td>-8.808779</td>\n",
       "      <td>-63.87847</td>\n",
       "      <td>D</td>\n",
       "      <td>E</td>\n",
       "      <td>...</td>\n",
       "      <td>2680.289259</td>\n",
       "      <td>D</td>\n",
       "      <td>NaN</td>\n",
       "      <td>NaN</td>\n",
       "      <td>NaN</td>\n",
       "      <td>NaN</td>\n",
       "      <td>102</td>\n",
       "      <td>EMAIL INEXISTENTE#@#NOME INEXISTENTE#@#CEP INE...</td>\n",
       "      <td>2.6.1</td>\n",
       "      <td>181755</td>\n",
       "    </tr>\n",
       "    <tr>\n",
       "      <th>1</th>\n",
       "      <td>2017-08-18 00:00:00+00:00</td>\n",
       "      <td>0</td>\n",
       "      <td>M</td>\n",
       "      <td>40.447</td>\n",
       "      <td>NaN</td>\n",
       "      <td>PB</td>\n",
       "      <td>-7.146537</td>\n",
       "      <td>-34.92608</td>\n",
       "      <td>E</td>\n",
       "      <td>E</td>\n",
       "      <td>...</td>\n",
       "      <td>1777.725469</td>\n",
       "      <td>E</td>\n",
       "      <td>NaN</td>\n",
       "      <td>NaN</td>\n",
       "      <td>NaN</td>\n",
       "      <td>NaN</td>\n",
       "      <td>102</td>\n",
       "      <td>EMAIL INEXISTENTE#@#NOME INEXISTENTE#@#CEP INE...</td>\n",
       "      <td>2.6.1</td>\n",
       "      <td>287633</td>\n",
       "    </tr>\n",
       "  </tbody>\n",
       "</table>\n",
       "<p>2 rows × 151 columns</p>\n",
       "</div>"
      ],
      "text/plain": [
       "                    REF_DATE  TARGET VAR2   IDADE VAR4 VAR5      VAR6  \\\n",
       "0  2017-06-01 00:00:00+00:00       0    M  34.137  NaN   RO -8.808779   \n",
       "1  2017-08-18 00:00:00+00:00       0    M  40.447  NaN   PB -7.146537   \n",
       "\n",
       "       VAR7 VAR8 VAR9  ...       VAR141  VAR142  VAR143  VAR144  VAR145  \\\n",
       "0 -63.87847    D    E  ...  2680.289259       D     NaN     NaN     NaN   \n",
       "1 -34.92608    E    E  ...  1777.725469       E     NaN     NaN     NaN   \n",
       "\n",
       "   VAR146  VAR147                                             VAR148  VAR149  \\\n",
       "0     NaN     102  EMAIL INEXISTENTE#@#NOME INEXISTENTE#@#CEP INE...   2.6.1   \n",
       "1     NaN     102  EMAIL INEXISTENTE#@#NOME INEXISTENTE#@#CEP INE...   2.6.1   \n",
       "\n",
       "       ID  \n",
       "0  181755  \n",
       "1  287633  \n",
       "\n",
       "[2 rows x 151 columns]"
      ]
     },
     "execution_count": 23,
     "metadata": {},
     "output_type": "execute_result"
    }
   ],
   "source": [
    "df_train.head(2)"
   ]
  },
  {
   "cell_type": "code",
   "execution_count": 24,
   "metadata": {},
   "outputs": [],
   "source": [
    "# Divisão das variáveis entre numéricas e categóricas\n",
    "vars_discretas = df_train.select_dtypes(include=['int']).columns.tolist()\n",
    "vars_continuas = df_train.select_dtypes(include=['float']).columns.tolist()\n",
    "vars_categoricas = df_train.select_dtypes(exclude=['float', 'int']).columns.tolist()\n",
    "vars_numericas = df_train.select_dtypes(include='number').columns.tolist()\n",
    "\n",
    "# Remoção dos campos que não entrarão no loop de EDA\n",
    "vars_categoricas.remove('REF_DATE')\n",
    "vars_discretas.remove('TARGET')\n",
    "vars_discretas.remove('ID')\n",
    "vars_numericas.remove('TARGET')\n",
    "vars_numericas.remove('ID')"
   ]
  },
  {
   "cell_type": "code",
   "execution_count": 25,
   "metadata": {},
   "outputs": [
    {
     "name": "stdout",
     "output_type": "stream",
     "text": [
      "Referência mais antiga: 2017-01-02 00:00:00+00:00\n",
      "Referência mais recente: 2017-08-31 00:00:00+00:00\n"
     ]
    }
   ],
   "source": [
    "# Valores mínimos e máximos da referência\n",
    "print(f\"Referência mais antiga: {df_train['REF_DATE'].min()}\")\n",
    "print(f\"Referência mais recente: {df_train['REF_DATE'].max()}\")"
   ]
  },
  {
   "cell_type": "markdown",
   "metadata": {},
   "source": [
    "### VARIÁVEIS ID E TARGET\n",
    "\n",
    "Conclusões: \n",
    "1. Cada cliente é único, não há IDs repetidos\n",
    "2. Os dados estão desbalanceados em termos de target\n",
    "3. A taxa de concessão parece ser constante (aproximadamente 4 em cada 5 clientes), mas algo parece ter acontecido em março de 2017, quando o número de IDs atingiu um pico localizado e a taxa de concessão caiu de 80% para 50% (valores aproximados)."
   ]
  },
  {
   "cell_type": "code",
   "execution_count": 26,
   "metadata": {},
   "outputs": [
    {
     "data": {
      "text/plain": [
       "120750"
      ]
     },
     "execution_count": 26,
     "metadata": {},
     "output_type": "execute_result"
    }
   ],
   "source": [
    "# Não existem valores repetidos de ID\n",
    "df_train['ID'].nunique()"
   ]
  },
  {
   "cell_type": "code",
   "execution_count": 27,
   "metadata": {},
   "outputs": [
    {
     "name": "stdout",
     "output_type": "stream",
     "text": [
      "Distribuição da variável target:\n"
     ]
    },
    {
     "data": {
      "text/plain": [
       "TARGET\n",
       "0    0.754973\n",
       "1    0.245027\n",
       "Name: proportion, dtype: float64"
      ]
     },
     "execution_count": 27,
     "metadata": {},
     "output_type": "execute_result"
    }
   ],
   "source": [
    "# Variável target\n",
    "print(f'Distribuição da variável target:')\n",
    "df_train['TARGET'].value_counts(normalize=True)"
   ]
  },
  {
   "cell_type": "code",
   "execution_count": 28,
   "metadata": {},
   "outputs": [
    {
     "data": {
      "text/plain": [
       "ref_date_trunc\n",
       "2017-01-01    3441\n",
       "2017-02-01    3087\n",
       "2017-03-01    7950\n",
       "2017-04-01    2795\n",
       "2017-05-01    2971\n",
       "2017-06-01    2964\n",
       "2017-07-01    3084\n",
       "2017-08-01    3295\n",
       "Name: TARGET, dtype: int64"
      ]
     },
     "metadata": {},
     "output_type": "display_data"
    },
    {
     "ename": "OptionError",
     "evalue": "\"No such keys(s): 'mode.use_inf_as_null'\"",
     "output_type": "error",
     "traceback": [
      "\u001b[0;31m---------------------------------------------------------------------------\u001b[0m",
      "\u001b[0;31mOptionError\u001b[0m                               Traceback (most recent call last)",
      "\u001b[0;32m/var/folders/nz/py9tl9994k5dyc2gp_kb7nt80000gn/T/ipykernel_15093/386442573.py\u001b[0m in \u001b[0;36m<cell line: 8>\u001b[0;34m()\u001b[0m\n\u001b[1;32m      6\u001b[0m \u001b[0mtarget_counts\u001b[0m \u001b[0;34m=\u001b[0m \u001b[0mdf_train\u001b[0m\u001b[0;34m[\u001b[0m\u001b[0mdf_train\u001b[0m\u001b[0;34m[\u001b[0m\u001b[0;34m'TARGET'\u001b[0m\u001b[0;34m]\u001b[0m \u001b[0;34m==\u001b[0m \u001b[0;36m1\u001b[0m\u001b[0;34m]\u001b[0m\u001b[0;34m.\u001b[0m\u001b[0mgroupby\u001b[0m\u001b[0;34m(\u001b[0m\u001b[0;34m'ref_date_trunc'\u001b[0m\u001b[0;34m)\u001b[0m\u001b[0;34m[\u001b[0m\u001b[0;34m'TARGET'\u001b[0m\u001b[0;34m]\u001b[0m\u001b[0;34m.\u001b[0m\u001b[0mcount\u001b[0m\u001b[0;34m(\u001b[0m\u001b[0;34m)\u001b[0m\u001b[0;34m\u001b[0m\u001b[0;34m\u001b[0m\u001b[0m\n\u001b[1;32m      7\u001b[0m \u001b[0mplt\u001b[0m\u001b[0;34m.\u001b[0m\u001b[0mfigure\u001b[0m\u001b[0;34m(\u001b[0m\u001b[0mfigsize\u001b[0m\u001b[0;34m=\u001b[0m\u001b[0;34m(\u001b[0m\u001b[0;36m10\u001b[0m\u001b[0;34m,\u001b[0m \u001b[0;36m6\u001b[0m\u001b[0;34m)\u001b[0m\u001b[0;34m)\u001b[0m\u001b[0;34m\u001b[0m\u001b[0;34m\u001b[0m\u001b[0m\n\u001b[0;32m----> 8\u001b[0;31m \u001b[0msns\u001b[0m\u001b[0;34m.\u001b[0m\u001b[0mlineplot\u001b[0m\u001b[0;34m(\u001b[0m\u001b[0mx\u001b[0m\u001b[0;34m=\u001b[0m\u001b[0mtarget_counts\u001b[0m\u001b[0;34m.\u001b[0m\u001b[0mindex\u001b[0m\u001b[0;34m,\u001b[0m \u001b[0my\u001b[0m\u001b[0;34m=\u001b[0m\u001b[0mtarget_counts\u001b[0m\u001b[0;34m.\u001b[0m\u001b[0mvalues\u001b[0m\u001b[0;34m)\u001b[0m\u001b[0;34m\u001b[0m\u001b[0;34m\u001b[0m\u001b[0m\n\u001b[0m",
      "\u001b[0;32m/Library/Frameworks/Python.framework/Versions/3.8/lib/python3.8/site-packages/seaborn/relational.py\u001b[0m in \u001b[0;36mlineplot\u001b[0;34m(data, x, y, hue, size, style, units, palette, hue_order, hue_norm, sizes, size_order, size_norm, dashes, markers, style_order, estimator, errorbar, n_boot, seed, orient, sort, err_style, err_kws, legend, ci, ax, **kwargs)\u001b[0m\n\u001b[1;32m    637\u001b[0m     \u001b[0mkwargs\u001b[0m\u001b[0;34m[\u001b[0m\u001b[0;34m\"color\"\u001b[0m\u001b[0;34m]\u001b[0m \u001b[0;34m=\u001b[0m \u001b[0m_default_color\u001b[0m\u001b[0;34m(\u001b[0m\u001b[0max\u001b[0m\u001b[0;34m.\u001b[0m\u001b[0mplot\u001b[0m\u001b[0;34m,\u001b[0m \u001b[0mhue\u001b[0m\u001b[0;34m,\u001b[0m \u001b[0mcolor\u001b[0m\u001b[0;34m,\u001b[0m \u001b[0mkwargs\u001b[0m\u001b[0;34m)\u001b[0m\u001b[0;34m\u001b[0m\u001b[0;34m\u001b[0m\u001b[0m\n\u001b[1;32m    638\u001b[0m \u001b[0;34m\u001b[0m\u001b[0m\n\u001b[0;32m--> 639\u001b[0;31m     \u001b[0mp\u001b[0m\u001b[0;34m.\u001b[0m\u001b[0mplot\u001b[0m\u001b[0;34m(\u001b[0m\u001b[0max\u001b[0m\u001b[0;34m,\u001b[0m \u001b[0mkwargs\u001b[0m\u001b[0;34m)\u001b[0m\u001b[0;34m\u001b[0m\u001b[0;34m\u001b[0m\u001b[0m\n\u001b[0m\u001b[1;32m    640\u001b[0m     \u001b[0;32mreturn\u001b[0m \u001b[0max\u001b[0m\u001b[0;34m\u001b[0m\u001b[0;34m\u001b[0m\u001b[0m\n\u001b[1;32m    641\u001b[0m \u001b[0;34m\u001b[0m\u001b[0m\n",
      "\u001b[0;32m/Library/Frameworks/Python.framework/Versions/3.8/lib/python3.8/site-packages/seaborn/relational.py\u001b[0m in \u001b[0;36mplot\u001b[0;34m(self, ax, kws)\u001b[0m\n\u001b[1;32m    421\u001b[0m         \u001b[0;31m# Loop over the semantic subsets and add to the plot\u001b[0m\u001b[0;34m\u001b[0m\u001b[0;34m\u001b[0m\u001b[0;34m\u001b[0m\u001b[0m\n\u001b[1;32m    422\u001b[0m         \u001b[0mgrouping_vars\u001b[0m \u001b[0;34m=\u001b[0m \u001b[0;34m\"hue\"\u001b[0m\u001b[0;34m,\u001b[0m \u001b[0;34m\"size\"\u001b[0m\u001b[0;34m,\u001b[0m \u001b[0;34m\"style\"\u001b[0m\u001b[0;34m\u001b[0m\u001b[0;34m\u001b[0m\u001b[0m\n\u001b[0;32m--> 423\u001b[0;31m         \u001b[0;32mfor\u001b[0m \u001b[0msub_vars\u001b[0m\u001b[0;34m,\u001b[0m \u001b[0msub_data\u001b[0m \u001b[0;32min\u001b[0m \u001b[0mself\u001b[0m\u001b[0;34m.\u001b[0m\u001b[0miter_data\u001b[0m\u001b[0;34m(\u001b[0m\u001b[0mgrouping_vars\u001b[0m\u001b[0;34m,\u001b[0m \u001b[0mfrom_comp_data\u001b[0m\u001b[0;34m=\u001b[0m\u001b[0;32mTrue\u001b[0m\u001b[0;34m)\u001b[0m\u001b[0;34m:\u001b[0m\u001b[0;34m\u001b[0m\u001b[0;34m\u001b[0m\u001b[0m\n\u001b[0m\u001b[1;32m    424\u001b[0m \u001b[0;34m\u001b[0m\u001b[0m\n\u001b[1;32m    425\u001b[0m             \u001b[0;32mif\u001b[0m \u001b[0mself\u001b[0m\u001b[0;34m.\u001b[0m\u001b[0msort\u001b[0m\u001b[0;34m:\u001b[0m\u001b[0;34m\u001b[0m\u001b[0;34m\u001b[0m\u001b[0m\n",
      "\u001b[0;32m/Library/Frameworks/Python.framework/Versions/3.8/lib/python3.8/site-packages/seaborn/_oldcore.py\u001b[0m in \u001b[0;36miter_data\u001b[0;34m(self, grouping_vars, reverse, from_comp_data, by_facet, allow_empty, dropna)\u001b[0m\n\u001b[1;32m   1026\u001b[0m \u001b[0;34m\u001b[0m\u001b[0m\n\u001b[1;32m   1027\u001b[0m         \u001b[0;32mif\u001b[0m \u001b[0mfrom_comp_data\u001b[0m\u001b[0;34m:\u001b[0m\u001b[0;34m\u001b[0m\u001b[0;34m\u001b[0m\u001b[0m\n\u001b[0;32m-> 1028\u001b[0;31m             \u001b[0mdata\u001b[0m \u001b[0;34m=\u001b[0m \u001b[0mself\u001b[0m\u001b[0;34m.\u001b[0m\u001b[0mcomp_data\u001b[0m\u001b[0;34m\u001b[0m\u001b[0;34m\u001b[0m\u001b[0m\n\u001b[0m\u001b[1;32m   1029\u001b[0m         \u001b[0;32melse\u001b[0m\u001b[0;34m:\u001b[0m\u001b[0;34m\u001b[0m\u001b[0;34m\u001b[0m\u001b[0m\n\u001b[1;32m   1030\u001b[0m             \u001b[0mdata\u001b[0m \u001b[0;34m=\u001b[0m \u001b[0mself\u001b[0m\u001b[0;34m.\u001b[0m\u001b[0mplot_data\u001b[0m\u001b[0;34m\u001b[0m\u001b[0;34m\u001b[0m\u001b[0m\n",
      "\u001b[0;32m/Library/Frameworks/Python.framework/Versions/3.8/lib/python3.8/site-packages/seaborn/_oldcore.py\u001b[0m in \u001b[0;36mcomp_data\u001b[0;34m(self)\u001b[0m\n\u001b[1;32m   1117\u001b[0m                 \u001b[0mgrouped\u001b[0m \u001b[0;34m=\u001b[0m \u001b[0mself\u001b[0m\u001b[0;34m.\u001b[0m\u001b[0mplot_data\u001b[0m\u001b[0;34m[\u001b[0m\u001b[0mvar\u001b[0m\u001b[0;34m]\u001b[0m\u001b[0;34m.\u001b[0m\u001b[0mgroupby\u001b[0m\u001b[0;34m(\u001b[0m\u001b[0mself\u001b[0m\u001b[0;34m.\u001b[0m\u001b[0mconverters\u001b[0m\u001b[0;34m[\u001b[0m\u001b[0mvar\u001b[0m\u001b[0;34m]\u001b[0m\u001b[0;34m,\u001b[0m \u001b[0msort\u001b[0m\u001b[0;34m=\u001b[0m\u001b[0;32mFalse\u001b[0m\u001b[0;34m)\u001b[0m\u001b[0;34m\u001b[0m\u001b[0;34m\u001b[0m\u001b[0m\n\u001b[1;32m   1118\u001b[0m                 \u001b[0;32mfor\u001b[0m \u001b[0mconverter\u001b[0m\u001b[0;34m,\u001b[0m \u001b[0morig\u001b[0m \u001b[0;32min\u001b[0m \u001b[0mgrouped\u001b[0m\u001b[0;34m:\u001b[0m\u001b[0;34m\u001b[0m\u001b[0;34m\u001b[0m\u001b[0m\n\u001b[0;32m-> 1119\u001b[0;31m                     \u001b[0;32mwith\u001b[0m \u001b[0mpd\u001b[0m\u001b[0;34m.\u001b[0m\u001b[0moption_context\u001b[0m\u001b[0;34m(\u001b[0m\u001b[0;34m'mode.use_inf_as_null'\u001b[0m\u001b[0;34m,\u001b[0m \u001b[0;32mTrue\u001b[0m\u001b[0;34m)\u001b[0m\u001b[0;34m:\u001b[0m\u001b[0;34m\u001b[0m\u001b[0;34m\u001b[0m\u001b[0m\n\u001b[0m\u001b[1;32m   1120\u001b[0m                         \u001b[0morig\u001b[0m \u001b[0;34m=\u001b[0m \u001b[0morig\u001b[0m\u001b[0;34m.\u001b[0m\u001b[0mdropna\u001b[0m\u001b[0;34m(\u001b[0m\u001b[0;34m)\u001b[0m\u001b[0;34m\u001b[0m\u001b[0;34m\u001b[0m\u001b[0m\n\u001b[1;32m   1121\u001b[0m                         \u001b[0;32mif\u001b[0m \u001b[0mvar\u001b[0m \u001b[0;32min\u001b[0m \u001b[0mself\u001b[0m\u001b[0;34m.\u001b[0m\u001b[0mvar_levels\u001b[0m\u001b[0;34m:\u001b[0m\u001b[0;34m\u001b[0m\u001b[0;34m\u001b[0m\u001b[0m\n",
      "\u001b[0;32m/Library/Frameworks/Python.framework/Versions/3.8/lib/python3.8/site-packages/pandas/_config/config.py\u001b[0m in \u001b[0;36m__enter__\u001b[0;34m(self)\u001b[0m\n\u001b[1;32m    439\u001b[0m \u001b[0;34m\u001b[0m\u001b[0m\n\u001b[1;32m    440\u001b[0m     \u001b[0;32mdef\u001b[0m \u001b[0m__enter__\u001b[0m\u001b[0;34m(\u001b[0m\u001b[0mself\u001b[0m\u001b[0;34m)\u001b[0m \u001b[0;34m->\u001b[0m \u001b[0;32mNone\u001b[0m\u001b[0;34m:\u001b[0m\u001b[0;34m\u001b[0m\u001b[0;34m\u001b[0m\u001b[0m\n\u001b[0;32m--> 441\u001b[0;31m         \u001b[0mself\u001b[0m\u001b[0;34m.\u001b[0m\u001b[0mundo\u001b[0m \u001b[0;34m=\u001b[0m \u001b[0;34m[\u001b[0m\u001b[0;34m(\u001b[0m\u001b[0mpat\u001b[0m\u001b[0;34m,\u001b[0m \u001b[0m_get_option\u001b[0m\u001b[0;34m(\u001b[0m\u001b[0mpat\u001b[0m\u001b[0;34m,\u001b[0m \u001b[0msilent\u001b[0m\u001b[0;34m=\u001b[0m\u001b[0;32mTrue\u001b[0m\u001b[0;34m)\u001b[0m\u001b[0;34m)\u001b[0m \u001b[0;32mfor\u001b[0m \u001b[0mpat\u001b[0m\u001b[0;34m,\u001b[0m \u001b[0mval\u001b[0m \u001b[0;32min\u001b[0m \u001b[0mself\u001b[0m\u001b[0;34m.\u001b[0m\u001b[0mops\u001b[0m\u001b[0;34m]\u001b[0m\u001b[0;34m\u001b[0m\u001b[0;34m\u001b[0m\u001b[0m\n\u001b[0m\u001b[1;32m    442\u001b[0m \u001b[0;34m\u001b[0m\u001b[0m\n\u001b[1;32m    443\u001b[0m         \u001b[0;32mfor\u001b[0m \u001b[0mpat\u001b[0m\u001b[0;34m,\u001b[0m \u001b[0mval\u001b[0m \u001b[0;32min\u001b[0m \u001b[0mself\u001b[0m\u001b[0;34m.\u001b[0m\u001b[0mops\u001b[0m\u001b[0;34m:\u001b[0m\u001b[0;34m\u001b[0m\u001b[0;34m\u001b[0m\u001b[0m\n",
      "\u001b[0;32m/Library/Frameworks/Python.framework/Versions/3.8/lib/python3.8/site-packages/pandas/_config/config.py\u001b[0m in \u001b[0;36m<listcomp>\u001b[0;34m(.0)\u001b[0m\n\u001b[1;32m    439\u001b[0m \u001b[0;34m\u001b[0m\u001b[0m\n\u001b[1;32m    440\u001b[0m     \u001b[0;32mdef\u001b[0m \u001b[0m__enter__\u001b[0m\u001b[0;34m(\u001b[0m\u001b[0mself\u001b[0m\u001b[0;34m)\u001b[0m \u001b[0;34m->\u001b[0m \u001b[0;32mNone\u001b[0m\u001b[0;34m:\u001b[0m\u001b[0;34m\u001b[0m\u001b[0;34m\u001b[0m\u001b[0m\n\u001b[0;32m--> 441\u001b[0;31m         \u001b[0mself\u001b[0m\u001b[0;34m.\u001b[0m\u001b[0mundo\u001b[0m \u001b[0;34m=\u001b[0m \u001b[0;34m[\u001b[0m\u001b[0;34m(\u001b[0m\u001b[0mpat\u001b[0m\u001b[0;34m,\u001b[0m \u001b[0m_get_option\u001b[0m\u001b[0;34m(\u001b[0m\u001b[0mpat\u001b[0m\u001b[0;34m,\u001b[0m \u001b[0msilent\u001b[0m\u001b[0;34m=\u001b[0m\u001b[0;32mTrue\u001b[0m\u001b[0;34m)\u001b[0m\u001b[0;34m)\u001b[0m \u001b[0;32mfor\u001b[0m \u001b[0mpat\u001b[0m\u001b[0;34m,\u001b[0m \u001b[0mval\u001b[0m \u001b[0;32min\u001b[0m \u001b[0mself\u001b[0m\u001b[0;34m.\u001b[0m\u001b[0mops\u001b[0m\u001b[0;34m]\u001b[0m\u001b[0;34m\u001b[0m\u001b[0;34m\u001b[0m\u001b[0m\n\u001b[0m\u001b[1;32m    442\u001b[0m \u001b[0;34m\u001b[0m\u001b[0m\n\u001b[1;32m    443\u001b[0m         \u001b[0;32mfor\u001b[0m \u001b[0mpat\u001b[0m\u001b[0;34m,\u001b[0m \u001b[0mval\u001b[0m \u001b[0;32min\u001b[0m \u001b[0mself\u001b[0m\u001b[0;34m.\u001b[0m\u001b[0mops\u001b[0m\u001b[0;34m:\u001b[0m\u001b[0;34m\u001b[0m\u001b[0;34m\u001b[0m\u001b[0m\n",
      "\u001b[0;32m/Library/Frameworks/Python.framework/Versions/3.8/lib/python3.8/site-packages/pandas/_config/config.py\u001b[0m in \u001b[0;36m_get_option\u001b[0;34m(pat, silent)\u001b[0m\n\u001b[1;32m    133\u001b[0m \u001b[0;34m\u001b[0m\u001b[0m\n\u001b[1;32m    134\u001b[0m \u001b[0;32mdef\u001b[0m \u001b[0m_get_option\u001b[0m\u001b[0;34m(\u001b[0m\u001b[0mpat\u001b[0m\u001b[0;34m:\u001b[0m \u001b[0mstr\u001b[0m\u001b[0;34m,\u001b[0m \u001b[0msilent\u001b[0m\u001b[0;34m:\u001b[0m \u001b[0mbool\u001b[0m \u001b[0;34m=\u001b[0m \u001b[0;32mFalse\u001b[0m\u001b[0;34m)\u001b[0m \u001b[0;34m->\u001b[0m \u001b[0mAny\u001b[0m\u001b[0;34m:\u001b[0m\u001b[0;34m\u001b[0m\u001b[0;34m\u001b[0m\u001b[0m\n\u001b[0;32m--> 135\u001b[0;31m     \u001b[0mkey\u001b[0m \u001b[0;34m=\u001b[0m \u001b[0m_get_single_key\u001b[0m\u001b[0;34m(\u001b[0m\u001b[0mpat\u001b[0m\u001b[0;34m,\u001b[0m \u001b[0msilent\u001b[0m\u001b[0;34m)\u001b[0m\u001b[0;34m\u001b[0m\u001b[0;34m\u001b[0m\u001b[0m\n\u001b[0m\u001b[1;32m    136\u001b[0m \u001b[0;34m\u001b[0m\u001b[0m\n\u001b[1;32m    137\u001b[0m     \u001b[0;31m# walk the nested dict\u001b[0m\u001b[0;34m\u001b[0m\u001b[0;34m\u001b[0m\u001b[0;34m\u001b[0m\u001b[0m\n",
      "\u001b[0;32m/Library/Frameworks/Python.framework/Versions/3.8/lib/python3.8/site-packages/pandas/_config/config.py\u001b[0m in \u001b[0;36m_get_single_key\u001b[0;34m(pat, silent)\u001b[0m\n\u001b[1;32m    119\u001b[0m         \u001b[0;32mif\u001b[0m \u001b[0;32mnot\u001b[0m \u001b[0msilent\u001b[0m\u001b[0;34m:\u001b[0m\u001b[0;34m\u001b[0m\u001b[0;34m\u001b[0m\u001b[0m\n\u001b[1;32m    120\u001b[0m             \u001b[0m_warn_if_deprecated\u001b[0m\u001b[0;34m(\u001b[0m\u001b[0mpat\u001b[0m\u001b[0;34m)\u001b[0m\u001b[0;34m\u001b[0m\u001b[0;34m\u001b[0m\u001b[0m\n\u001b[0;32m--> 121\u001b[0;31m         \u001b[0;32mraise\u001b[0m \u001b[0mOptionError\u001b[0m\u001b[0;34m(\u001b[0m\u001b[0;34mf\"No such keys(s): {repr(pat)}\"\u001b[0m\u001b[0;34m)\u001b[0m\u001b[0;34m\u001b[0m\u001b[0;34m\u001b[0m\u001b[0m\n\u001b[0m\u001b[1;32m    122\u001b[0m     \u001b[0;32mif\u001b[0m \u001b[0mlen\u001b[0m\u001b[0;34m(\u001b[0m\u001b[0mkeys\u001b[0m\u001b[0;34m)\u001b[0m \u001b[0;34m>\u001b[0m \u001b[0;36m1\u001b[0m\u001b[0;34m:\u001b[0m\u001b[0;34m\u001b[0m\u001b[0;34m\u001b[0m\u001b[0m\n\u001b[1;32m    123\u001b[0m         \u001b[0;32mraise\u001b[0m \u001b[0mOptionError\u001b[0m\u001b[0;34m(\u001b[0m\u001b[0;34m\"Pattern matched multiple keys\"\u001b[0m\u001b[0;34m)\u001b[0m\u001b[0;34m\u001b[0m\u001b[0;34m\u001b[0m\u001b[0m\n",
      "\u001b[0;31mOptionError\u001b[0m: \"No such keys(s): 'mode.use_inf_as_null'\""
     ]
    },
    {
     "data": {
      "image/png": "[encoded data removed]",
      "text/plain": [
       "<Figure size 720x432 with 1 Axes>"
      ]
     },
     "metadata": {
      "needs_background": "light"
     },
     "output_type": "display_data"
    }
   ],
   "source": [
    "# Distribuição da variável target ao longo do tempo\n",
    "df_train['ref_date_trunc'] = pd.to_datetime(df_train['REF_DATE']).dt.strftime('%Y-%m-01')\n",
    "\n",
    "display(df_train[df_train['TARGET'] == 1].groupby('ref_date_trunc')['TARGET'].count())\n",
    "\n",
    "target_counts = df_train[df_train['TARGET'] == 1].groupby('ref_date_trunc')['TARGET'].count()\n",
    "plt.figure(figsize=(10, 6))\n",
    "sns.lineplot(x=target_counts.index, y=target_counts.values)"
   ]
  },
  {
   "cell_type": "code",
   "execution_count": null,
   "metadata": {},
   "outputs": [
    {
     "data": {
      "text/plain": [
       "ref_date_trunc\n",
       "2017-01-01    0.236706\n",
       "2017-02-01    0.225378\n",
       "2017-03-01    0.495451\n",
       "2017-04-01    0.207037\n",
       "2017-05-01    0.208931\n",
       "2017-06-01    0.196852\n",
       "2017-07-01    0.187534\n",
       "2017-08-01    0.191037\n",
       "Name: TARGET, dtype: float64"
      ]
     },
     "metadata": {},
     "output_type": "display_data"
    }
   ],
   "source": [
    "# Distribuição da variável target ao longo do tempo\n",
    "display(df_train.groupby('ref_date_trunc')['TARGET'].mean())"
   ]
  },
  {
   "cell_type": "code",
   "execution_count": null,
   "metadata": {},
   "outputs": [
    {
     "data": {
      "text/plain": [
       "ref_date_trunc\n",
       "2017-01-01    14537\n",
       "2017-02-01    13697\n",
       "2017-03-01    16046\n",
       "2017-04-01    13500\n",
       "2017-05-01    14220\n",
       "2017-06-01    15057\n",
       "2017-07-01    16445\n",
       "2017-08-01    17248\n",
       "Name: ID, dtype: int64"
      ]
     },
     "metadata": {},
     "output_type": "display_data"
    },
    {
     "data": {
      "text/plain": [
       "<AxesSubplot: xlabel='ref_date_trunc'>"
      ]
     },
     "execution_count": 30,
     "metadata": {},
     "output_type": "execute_result"
    },
    {
     "data": {
      "image/png": "[encoded data removed]",
      "text/plain": [
       "<Figure size 720x432 with 1 Axes>"
      ]
     },
     "metadata": {
      "needs_background": "light"
     },
     "output_type": "display_data"
    }
   ],
   "source": [
    "# Distribuição da variável ID ao longo do tempo\n",
    "display(df_train.groupby('ref_date_trunc')['ID'].count())\n",
    "\n",
    "target_counts = df_train.groupby('ref_date_trunc')['ID'].count()\n",
    "\n",
    "plt.figure(figsize=(10, 6))  # Optional: set the size of the plot\n",
    "sns.lineplot(x=target_counts.index, y=target_counts.values)"
   ]
  },
  {
   "cell_type": "markdown",
   "metadata": {},
   "source": [
    "### PLOT DE VARIÁVEIS\n",
    "\n",
    "Como as variáveis estão mascaradas e não há muita interpretação, os códigos abaixo apenas ilustram o tipo de análise por gráfico que pode ser feito."
   ]
  },
  {
   "cell_type": "markdown",
   "metadata": {},
   "source": [
    "#### VARIÁVEIS CATEGÓRICAS"
   ]
  },
  {
   "cell_type": "code",
   "execution_count": null,
   "metadata": {},
   "outputs": [
    {
     "data": {
      "image/png": "[encoded data removed]",
      "text/plain": [
       "<Figure size 576x432 with 1 Axes>"
      ]
     },
     "metadata": {
      "needs_background": "light"
     },
     "output_type": "display_data"
    },
    {
     "data": {
      "image/png": "[encoded data removed]",
      "text/plain": [
       "<Figure size 576x432 with 1 Axes>"
      ]
     },
     "metadata": {
      "needs_background": "light"
     },
     "output_type": "display_data"
    },
    {
     "data": {
      "image/png": "[encoded data removed]",
      "text/plain": [
       "<Figure size 576x432 with 1 Axes>"
      ]
     },
     "metadata": {
      "needs_background": "light"
     },
     "output_type": "display_data"
    }
   ],
   "source": [
    "# Loop para gerar o gráfico de cada variável\n",
    "for var in vars_categoricas[:3]:\n",
    "    plot_categorical_distribution(df_train, var)"
   ]
  },
  {
   "cell_type": "markdown",
   "metadata": {},
   "source": [
    "#### VARIÁVEIS NUMÉRICAS"
   ]
  },
  {
   "cell_type": "code",
   "execution_count": null,
   "metadata": {},
   "outputs": [
    {
     "data": {
      "image/png": "[encoded data removed]",
      "text/plain": [
       "<Figure size 576x432 with 1 Axes>"
      ]
     },
     "metadata": {
      "needs_background": "light"
     },
     "output_type": "display_data"
    },
    {
     "data": {
      "image/png": "[encoded data removed]",
      "text/plain": [
       "<Figure size 576x432 with 1 Axes>"
      ]
     },
     "metadata": {
      "needs_background": "light"
     },
     "output_type": "display_data"
    },
    {
     "data": {
      "image/png": "[encoded data removed]",
      "text/plain": [
       "<Figure size 576x432 with 1 Axes>"
      ]
     },
     "metadata": {
      "needs_background": "light"
     },
     "output_type": "display_data"
    }
   ],
   "source": [
    "# Loop para gerar o gráfico de cada variável\n",
    "for var in vars_numericas[:3]:\n",
    "    plot_numerical_distribution(df_train, var)"
   ]
  },
  {
   "cell_type": "markdown",
   "metadata": {},
   "source": [
    "### NULOS, NEGATIVOS E INFINITO\n",
    "\n",
    "Conclusões:\n",
    "1. Não é possível saber se os valores negativos estão incorretos, visto que os nomes dos campos estão mascarados\n",
    "2. Não há valores mais ou menos infinito\n",
    "3. Aparentemente, boa parte dos campos tem valores nulos. Com exceção do campo IDADE, todos os demais campos estão mascarados. Assim, os campos numéricos serão preenchidos com a mediana e os campos categóricos com a moda"
   ]
  },
  {
   "cell_type": "code",
   "execution_count": null,
   "metadata": {},
   "outputs": [
    {
     "name": "stdout",
     "output_type": "stream",
     "text": [
      "Valores negativos em VAR6: 115892\n",
      "Valores negativos em VAR7: 117394\n",
      "Valores negativos em VAR11: 583\n"
     ]
    }
   ],
   "source": [
    "# Lista de variáveis com valores negativos\n",
    "lst_vars_with_negative = list()\n",
    "\n",
    "# Loop que checa as colunas com valores negativos\n",
    "for column in df_train.columns:\n",
    "    if(df_train[column].dtype != 'object'):\n",
    "        if((df_train[column] < 0).sum() > 0): \n",
    "            print(f\"Valores negativos em {column}: {(df_train[column] < 0).sum()}\")\n",
    "            lst_vars_with_negative.append(column)"
   ]
  },
  {
   "cell_type": "code",
   "execution_count": null,
   "metadata": {},
   "outputs": [],
   "source": [
    "# Lista de variáveis com valores infinitos\n",
    "lst_vars_with_inf = list()\n",
    "\n",
    "# Loop que checa as colunas com valores nulos\n",
    "for column in df_train.columns:\n",
    "    if(df_train[column].dtype != 'object'):\n",
    "        if((np.isneginf(df_train[column]).sum() > 0) | (np.isposinf(df_train[column]).sum() > 0)): \n",
    "            print(f\"Valores infiinitos em {column}: {np.isneginf(df_train[column]).sum() + np.isposinf(df_train[column]).sum()}\")\n",
    "            lst_vars_with_inf.append(column)"
   ]
  },
  {
   "cell_type": "code",
   "execution_count": null,
   "metadata": {},
   "outputs": [
    {
     "name": "stdout",
     "output_type": "stream",
     "text": [
      "Nulos em VAR2: 14619\n",
      "Nulos em IDADE: 13710\n",
      "Nulos em VAR4: 120548\n",
      "Nulos em VAR5: 3356\n",
      "Nulos em VAR6: 3356\n",
      "Nulos em VAR7: 3356\n",
      "Nulos em VAR8: 53110\n",
      "Nulos em VAR9: 3303\n",
      "Nulos em VAR10: 3276\n",
      "Nulos em VAR11: 46262\n",
      "Nulos em VAR12: 55026\n",
      "Nulos em VAR13: 105220\n",
      "Nulos em VAR14: 25553\n",
      "Nulos em VAR15: 62481\n",
      "Nulos em VAR16: 75769\n",
      "Nulos em VAR17: 105220\n",
      "Nulos em VAR18: 25553\n",
      "Nulos em VAR19: 62481\n",
      "Nulos em VAR20: 109397\n",
      "Nulos em VAR21: 105157\n",
      "Nulos em VAR22: 62421\n",
      "Nulos em VAR23: 105220\n",
      "Nulos em VAR24: 23465\n",
      "Nulos em VAR25: 62481\n",
      "Nulos em VAR26: 119742\n",
      "Nulos em VAR27: 119708\n",
      "Nulos em VAR28: 108031\n",
      "Nulos em VAR29: 96026\n",
      "Nulos em VAR30: 108031\n",
      "Nulos em VAR31: 116833\n",
      "Nulos em VAR32: 78698\n",
      "Nulos em VAR33: 112129\n",
      "Nulos em VAR34: 112129\n",
      "Nulos em VAR35: 94654\n",
      "Nulos em VAR36: 95706\n",
      "Nulos em VAR37: 95706\n",
      "Nulos em VAR38: 119981\n",
      "Nulos em VAR39: 71\n",
      "Nulos em VAR40: 3284\n",
      "Nulos em VAR41: 2939\n",
      "Nulos em VAR42: 13702\n",
      "Nulos em VAR43: 120349\n",
      "Nulos em VAR44: 120349\n",
      "Nulos em VAR45: 120456\n",
      "Nulos em VAR46: 120456\n",
      "Nulos em VAR48: 112338\n",
      "Nulos em VAR49: 13706\n",
      "Nulos em VAR50: 13706\n",
      "Nulos em VAR51: 13706\n",
      "Nulos em VAR52: 13706\n",
      "Nulos em VAR53: 13706\n",
      "Nulos em VAR54: 13706\n",
      "Nulos em VAR55: 13706\n",
      "Nulos em VAR56: 13706\n",
      "Nulos em VAR57: 13706\n",
      "Nulos em VAR58: 13706\n",
      "Nulos em VAR59: 13706\n",
      "Nulos em VAR60: 13706\n",
      "Nulos em VAR61: 13706\n",
      "Nulos em VAR62: 13706\n",
      "Nulos em VAR63: 13706\n",
      "Nulos em VAR64: 13706\n",
      "Nulos em VAR65: 13706\n",
      "Nulos em VAR66: 2939\n",
      "Nulos em VAR67: 2939\n",
      "Nulos em VAR68: 2939\n",
      "Nulos em VAR69: 2939\n",
      "Nulos em VAR70: 2939\n",
      "Nulos em VAR71: 2939\n",
      "Nulos em VAR72: 2939\n",
      "Nulos em VAR73: 2939\n",
      "Nulos em VAR74: 2939\n",
      "Nulos em VAR75: 2939\n",
      "Nulos em VAR76: 2939\n",
      "Nulos em VAR77: 2939\n",
      "Nulos em VAR78: 2939\n",
      "Nulos em VAR79: 2939\n",
      "Nulos em VAR80: 2939\n",
      "Nulos em VAR81: 2939\n",
      "Nulos em VAR82: 2939\n",
      "Nulos em VAR83: 2939\n",
      "Nulos em VAR84: 2939\n",
      "Nulos em VAR85: 2939\n",
      "Nulos em VAR86: 2939\n",
      "Nulos em VAR87: 2939\n",
      "Nulos em VAR88: 2939\n",
      "Nulos em VAR89: 2939\n",
      "Nulos em VAR90: 2939\n",
      "Nulos em VAR91: 2939\n",
      "Nulos em VAR92: 2939\n",
      "Nulos em VAR93: 2939\n",
      "Nulos em VAR94: 2939\n",
      "Nulos em VAR95: 2939\n",
      "Nulos em VAR96: 2939\n",
      "Nulos em VAR97: 2939\n",
      "Nulos em VAR98: 2939\n",
      "Nulos em VAR99: 2939\n",
      "Nulos em VAR100: 2939\n",
      "Nulos em VAR101: 2939\n",
      "Nulos em VAR102: 2939\n",
      "Nulos em VAR103: 2939\n",
      "Nulos em VAR104: 2939\n",
      "Nulos em VAR105: 2939\n",
      "Nulos em VAR106: 2939\n",
      "Nulos em VAR107: 2939\n",
      "Nulos em VAR108: 2939\n",
      "Nulos em VAR109: 2939\n",
      "Nulos em VAR110: 2939\n",
      "Nulos em VAR111: 2939\n",
      "Nulos em VAR112: 2939\n",
      "Nulos em VAR113: 2939\n",
      "Nulos em VAR114: 2939\n",
      "Nulos em VAR115: 2939\n",
      "Nulos em VAR116: 2939\n",
      "Nulos em VAR117: 2939\n",
      "Nulos em VAR118: 2939\n",
      "Nulos em VAR119: 2939\n",
      "Nulos em VAR120: 2939\n",
      "Nulos em VAR121: 2939\n",
      "Nulos em VAR122: 2939\n",
      "Nulos em VAR123: 2939\n",
      "Nulos em VAR124: 2939\n",
      "Nulos em VAR125: 2939\n",
      "Nulos em VAR126: 2939\n",
      "Nulos em VAR127: 2939\n",
      "Nulos em VAR128: 2939\n",
      "Nulos em VAR129: 2939\n",
      "Nulos em VAR130: 2939\n",
      "Nulos em VAR131: 2939\n",
      "Nulos em VAR132: 2939\n",
      "Nulos em VAR133: 2939\n",
      "Nulos em VAR134: 2939\n",
      "Nulos em VAR135: 2939\n",
      "Nulos em VAR136: 2939\n",
      "Nulos em VAR137: 2939\n",
      "Nulos em VAR138: 2939\n",
      "Nulos em VAR139: 2939\n",
      "Nulos em VAR140: 2939\n",
      "Nulos em VAR142: 165\n",
      "Nulos em VAR143: 119174\n",
      "Nulos em VAR144: 119174\n",
      "Nulos em VAR145: 120071\n",
      "Nulos em VAR146: 120582\n"
     ]
    }
   ],
   "source": [
    "# Lista de variáveis com valores nulos\n",
    "lst_vars_with_null = list()\n",
    "\n",
    "# Loop que checa as colunas com valores nulos\n",
    "for column in df_train.columns:\n",
    "    if(df_train[column].isnull().sum() > 0): \n",
    "        print(f\"Nulos em {column}: {df_train[column].isnull().sum()}\")\n",
    "        lst_vars_with_null.append(column)"
   ]
  },
  {
   "cell_type": "code",
   "execution_count": null,
   "metadata": {},
   "outputs": [],
   "source": [
    "# Cálculo das modas e medianas para preencher os valores nulos\n",
    "mode_values = df_train[vars_categoricas].mode().iloc[0]\n",
    "median_values = df_train[vars_numericas].median()\n",
    "\n",
    "# Preenchimento de valores nulos\n",
    "df_train[vars_categoricas] = df_train[vars_categoricas].fillna(mode_values)\n",
    "df_train[vars_numericas] = df_train[vars_numericas].fillna(median_values)\n",
    "df_test[vars_categoricas] = df_test[vars_categoricas].fillna(mode_values)\n",
    "df_test[vars_numericas] = df_test[vars_numericas].fillna(median_values)"
   ]
  },
  {
   "cell_type": "markdown",
   "metadata": {},
   "source": [
    "### VARIÁVEIS CATEGÓRICAS\n",
    "\n",
    "Conclusão:\n",
    "1. Remover a VAR148, cujo conteúdo não é interessante para modelagem\n",
    "2. Algumas variáveis tem apenas um valor - essas serão removidas nos métodos de feature selection\n",
    "3. As variáveis onde existe uma noção clara de escalonamento, como a VAR10, receberão label encoding. As variáveis que não tem essa ideia de escala receberão one hot encoding."
   ]
  },
  {
   "cell_type": "code",
   "execution_count": null,
   "metadata": {},
   "outputs": [
    {
     "data": {
      "text/plain": [
       "F    74750\n",
       "M    46000\n",
       "Name: VAR2, dtype: int64"
      ]
     },
     "metadata": {},
     "output_type": "display_data"
    },
    {
     "data": {
      "text/plain": [
       "S    120750\n",
       "Name: VAR4, dtype: int64"
      ]
     },
     "metadata": {},
     "output_type": "display_data"
    },
    {
     "data": {
      "text/plain": [
       "SP    22435\n",
       "BA    10306\n",
       "PA    10159\n",
       "RS     8410\n",
       "CE     8262\n",
       "MG     7757\n",
       "PE     7056\n",
       "RJ     4617\n",
       "AM     4145\n",
       "RN     3800\n",
       "PR     3668\n",
       "PB     3085\n",
       "AL     2800\n",
       "ES     2765\n",
       "MS     2515\n",
       "GO     2369\n",
       "AC     2304\n",
       "MA     2083\n",
       "MT     2015\n",
       "SC     2013\n",
       "PI     1858\n",
       "RO     1731\n",
       "AP     1292\n",
       "SE     1175\n",
       "DF      790\n",
       "TO      767\n",
       "RR      573\n",
       "Name: VAR5, dtype: int64"
      ]
     },
     "metadata": {},
     "output_type": "display_data"
    },
    {
     "data": {
      "text/plain": [
       "E    108038\n",
       "D      9130\n",
       "C      2972\n",
       "B       449\n",
       "A       161\n",
       "Name: VAR8, dtype: int64"
      ]
     },
     "metadata": {},
     "output_type": "display_data"
    },
    {
     "data": {
      "text/plain": [
       "E    119433\n",
       "C       726\n",
       "D       537\n",
       "B        47\n",
       "A         7\n",
       "Name: VAR9, dtype: int64"
      ]
     },
     "metadata": {},
     "output_type": "display_data"
    },
    {
     "data": {
      "text/plain": [
       "MEDIA         43533\n",
       "ALTISSIMA     37260\n",
       "ALTA          20842\n",
       "BAIXA         13577\n",
       "BAIXISSIMA     5538\n",
       "Name: VAR10, dtype: int64"
      ]
     },
     "metadata": {},
     "output_type": "display_data"
    },
    {
     "data": {
      "text/plain": [
       "BANCO DO BRASIL                         118270\n",
       "CAIXA ECONOMICA FEDERAL                    779\n",
       "BANCO BRADESCO                             776\n",
       "BANCO ITAU                                 471\n",
       "BANCO SANTANDER                            265\n",
       "BANCO DO ESTADO DO RIO GRANDE DO SUL       137\n",
       "HSBC BANK BRASIL                            52\n",
       "Name: VAR31, dtype: int64"
      ]
     },
     "metadata": {},
     "output_type": "display_data"
    },
    {
     "data": {
      "text/plain": [
       "DECLARACAO NAO ENVIADA         113671\n",
       "CREDITADA                        3667\n",
       "SALDO INEXISTENTE                1669\n",
       "IMPOSTO A PAGAR                  1229\n",
       "DECLARACAO ENVIADA                415\n",
       "DEVOLVIDA A RECEITA FEDERAL        61\n",
       "AGUARDANDO REAGENDAMENTO           38\n",
       "Name: VAR32, dtype: int64"
      ]
     },
     "metadata": {},
     "output_type": "display_data"
    },
    {
     "data": {
      "text/plain": [
       "S    120750\n",
       "Name: VAR33, dtype: int64"
      ]
     },
     "metadata": {},
     "output_type": "display_data"
    },
    {
     "data": {
      "text/plain": [
       "PMDB       113171\n",
       "PT            832\n",
       "PSDB          800\n",
       "PDT           691\n",
       "PP            639\n",
       "PTB           594\n",
       "DEM           526\n",
       "PR            408\n",
       "PSB           351\n",
       "PRB           326\n",
       "PC DO B       251\n",
       "PPS           230\n",
       "PSC           227\n",
       "PV            211\n",
       "PMN           147\n",
       "PSD           145\n",
       "PSL           132\n",
       "PSDC          123\n",
       "PHS           113\n",
       "PRP           112\n",
       "PSOL          112\n",
       "PT DO B       108\n",
       "PTC           100\n",
       "PTN            91\n",
       "SD             82\n",
       "PRTB           67\n",
       "PROS           52\n",
       "PEN            46\n",
       "PPL            30\n",
       "PCB            15\n",
       "PSTU            8\n",
       "REDE            7\n",
       "PCO             2\n",
       "NOVO            1\n",
       "Name: VAR34, dtype: int64"
      ]
     },
     "metadata": {},
     "output_type": "display_data"
    },
    {
     "data": {
      "text/plain": [
       "S    120750\n",
       "Name: VAR35, dtype: int64"
      ]
     },
     "metadata": {},
     "output_type": "display_data"
    },
    {
     "data": {
      "text/plain": [
       "S    120750\n",
       "Name: VAR36, dtype: int64"
      ]
     },
     "metadata": {},
     "output_type": "display_data"
    },
    {
     "data": {
      "text/plain": [
       "S    120750\n",
       "Name: VAR38, dtype: int64"
      ]
     },
     "metadata": {},
     "output_type": "display_data"
    },
    {
     "data": {
      "text/plain": [
       "S    120750\n",
       "Name: VAR43, dtype: int64"
      ]
     },
     "metadata": {},
     "output_type": "display_data"
    },
    {
     "data": {
      "text/plain": [
       "S    120750\n",
       "Name: VAR45, dtype: int64"
      ]
     },
     "metadata": {},
     "output_type": "display_data"
    },
    {
     "data": {
      "text/plain": [
       "N    116933\n",
       "S      3817\n",
       "Name: VAR48, dtype: int64"
      ]
     },
     "metadata": {},
     "output_type": "display_data"
    },
    {
     "data": {
      "text/plain": [
       "S    112868\n",
       "N      7882\n",
       "Name: VAR49, dtype: int64"
      ]
     },
     "metadata": {},
     "output_type": "display_data"
    },
    {
     "data": {
      "text/plain": [
       "N    91021\n",
       "S    29729\n",
       "Name: VAR50, dtype: int64"
      ]
     },
     "metadata": {},
     "output_type": "display_data"
    },
    {
     "data": {
      "text/plain": [
       "N    117458\n",
       "S      3292\n",
       "Name: VAR51, dtype: int64"
      ]
     },
     "metadata": {},
     "output_type": "display_data"
    },
    {
     "data": {
      "text/plain": [
       "N    112702\n",
       "S      8048\n",
       "Name: VAR52, dtype: int64"
      ]
     },
     "metadata": {},
     "output_type": "display_data"
    },
    {
     "data": {
      "text/plain": [
       "N    118547\n",
       "S      2203\n",
       "Name: VAR53, dtype: int64"
      ]
     },
     "metadata": {},
     "output_type": "display_data"
    },
    {
     "data": {
      "text/plain": [
       "N    117435\n",
       "S      3315\n",
       "Name: VAR54, dtype: int64"
      ]
     },
     "metadata": {},
     "output_type": "display_data"
    },
    {
     "data": {
      "text/plain": [
       "N    114087\n",
       "S      6663\n",
       "Name: VAR55, dtype: int64"
      ]
     },
     "metadata": {},
     "output_type": "display_data"
    },
    {
     "data": {
      "text/plain": [
       "N    103216\n",
       "S     17534\n",
       "Name: VAR56, dtype: int64"
      ]
     },
     "metadata": {},
     "output_type": "display_data"
    },
    {
     "data": {
      "text/plain": [
       "N    118897\n",
       "S      1853\n",
       "Name: VAR57, dtype: int64"
      ]
     },
     "metadata": {},
     "output_type": "display_data"
    },
    {
     "data": {
      "text/plain": [
       "N    119504\n",
       "S      1246\n",
       "Name: VAR58, dtype: int64"
      ]
     },
     "metadata": {},
     "output_type": "display_data"
    },
    {
     "data": {
      "text/plain": [
       "N    116786\n",
       "S      3964\n",
       "Name: VAR59, dtype: int64"
      ]
     },
     "metadata": {},
     "output_type": "display_data"
    },
    {
     "data": {
      "text/plain": [
       "N    114361\n",
       "S      6389\n",
       "Name: VAR60, dtype: int64"
      ]
     },
     "metadata": {},
     "output_type": "display_data"
    },
    {
     "data": {
      "text/plain": [
       "N    106622\n",
       "S     14128\n",
       "Name: VAR61, dtype: int64"
      ]
     },
     "metadata": {},
     "output_type": "display_data"
    },
    {
     "data": {
      "text/plain": [
       "N    117113\n",
       "S      3637\n",
       "Name: VAR62, dtype: int64"
      ]
     },
     "metadata": {},
     "output_type": "display_data"
    },
    {
     "data": {
      "text/plain": [
       "N    109949\n",
       "S     10801\n",
       "Name: VAR63, dtype: int64"
      ]
     },
     "metadata": {},
     "output_type": "display_data"
    },
    {
     "data": {
      "text/plain": [
       "N    114196\n",
       "S      6554\n",
       "Name: VAR64, dtype: int64"
      ]
     },
     "metadata": {},
     "output_type": "display_data"
    },
    {
     "data": {
      "text/plain": [
       "N    102397\n",
       "S     18353\n",
       "Name: VAR65, dtype: int64"
      ]
     },
     "metadata": {},
     "output_type": "display_data"
    },
    {
     "data": {
      "text/plain": [
       "MEDIA         37809\n",
       "BAIXISSIMA    32366\n",
       "ALTA          27288\n",
       "ALTISSIMA     23287\n",
       "Name: VAR66, dtype: int64"
      ]
     },
     "metadata": {},
     "output_type": "display_data"
    },
    {
     "data": {
      "text/plain": [
       "BAIXISSIMA    77875\n",
       "ALTISSIMA     25899\n",
       "ALTA          16976\n",
       "Name: VAR67, dtype: int64"
      ]
     },
     "metadata": {},
     "output_type": "display_data"
    },
    {
     "data": {
      "text/plain": [
       "BAIXISSIMA    50768\n",
       "ALTA          29591\n",
       "MEDIA         21427\n",
       "ALTISSIMA     18964\n",
       "Name: VAR68, dtype: int64"
      ]
     },
     "metadata": {},
     "output_type": "display_data"
    },
    {
     "data": {
      "text/plain": [
       "BAIXISSIMA    68153\n",
       "ALTA          29546\n",
       "ALTISSIMA     14415\n",
       "MEDIA          8636\n",
       "Name: VAR69, dtype: int64"
      ]
     },
     "metadata": {},
     "output_type": "display_data"
    },
    {
     "data": {
      "text/plain": [
       "MEDIA         41826\n",
       "BAIXISSIMA    29369\n",
       "ALTA          27906\n",
       "ALTISSIMA     21649\n",
       "Name: VAR70, dtype: int64"
      ]
     },
     "metadata": {},
     "output_type": "display_data"
    },
    {
     "data": {
      "text/plain": [
       "MEDIA         34129\n",
       "ALTA          29947\n",
       "ALTISSIMA     26824\n",
       "BAIXISSIMA    23980\n",
       "BAIXA          5870\n",
       "Name: VAR71, dtype: int64"
      ]
     },
     "metadata": {},
     "output_type": "display_data"
    },
    {
     "data": {
      "text/plain": [
       "BAIXISSIMA    55760\n",
       "ALTA          30482\n",
       "MEDIA         18258\n",
       "ALTISSIMA     16250\n",
       "Name: VAR72, dtype: int64"
      ]
     },
     "metadata": {},
     "output_type": "display_data"
    },
    {
     "data": {
      "text/plain": [
       "BAIXISSIMA    54600\n",
       "ALTA          30410\n",
       "ALTISSIMA     18624\n",
       "MEDIA         17116\n",
       "Name: VAR73, dtype: int64"
      ]
     },
     "metadata": {},
     "output_type": "display_data"
    },
    {
     "data": {
      "text/plain": [
       "MEDIA         36246\n",
       "BAIXISSIMA    32654\n",
       "ALTA          26409\n",
       "ALTISSIMA     25441\n",
       "Name: VAR74, dtype: int64"
      ]
     },
     "metadata": {},
     "output_type": "display_data"
    },
    {
     "data": {
      "text/plain": [
       "BAIXISSIMA    37848\n",
       "MEDIA         33412\n",
       "ALTA          25364\n",
       "ALTISSIMA     24126\n",
       "Name: VAR75, dtype: int64"
      ]
     },
     "metadata": {},
     "output_type": "display_data"
    },
    {
     "data": {
      "text/plain": [
       "ALTA          42888\n",
       "BAIXISSIMA    38211\n",
       "ALTISSIMA     22257\n",
       "MEDIA         17394\n",
       "Name: VAR76, dtype: int64"
      ]
     },
     "metadata": {},
     "output_type": "display_data"
    },
    {
     "data": {
      "text/plain": [
       "BAIXISSIMA    57235\n",
       "ALTA          27569\n",
       "ALTISSIMA     18821\n",
       "MEDIA         17125\n",
       "Name: VAR77, dtype: int64"
      ]
     },
     "metadata": {},
     "output_type": "display_data"
    },
    {
     "data": {
      "text/plain": [
       "BAIXISSIMA    40168\n",
       "MEDIA         33584\n",
       "ALTA          24975\n",
       "ALTISSIMA     22023\n",
       "Name: VAR78, dtype: int64"
      ]
     },
     "metadata": {},
     "output_type": "display_data"
    },
    {
     "data": {
      "text/plain": [
       "BAIXISSIMA    53246\n",
       "ALTA          33755\n",
       "ALTISSIMA     18676\n",
       "MEDIA         15073\n",
       "Name: VAR79, dtype: int64"
      ]
     },
     "metadata": {},
     "output_type": "display_data"
    },
    {
     "data": {
      "text/plain": [
       "BAIXISSIMA    59898\n",
       "ALTA          26700\n",
       "ALTISSIMA     19102\n",
       "MEDIA         15050\n",
       "Name: VAR80, dtype: int64"
      ]
     },
     "metadata": {},
     "output_type": "display_data"
    },
    {
     "data": {
      "text/plain": [
       "ALTISSIMA     36953\n",
       "MEDIA         26580\n",
       "ALTA          24571\n",
       "BAIXA         17175\n",
       "BAIXISSIMA    15471\n",
       "Name: VAR81, dtype: int64"
      ]
     },
     "metadata": {},
     "output_type": "display_data"
    },
    {
     "data": {
      "text/plain": [
       "BAIXISSIMA    65499\n",
       "ALTA          29722\n",
       "ALTISSIMA     25529\n",
       "Name: VAR82, dtype: int64"
      ]
     },
     "metadata": {},
     "output_type": "display_data"
    },
    {
     "data": {
      "text/plain": [
       "BAIXISSIMA    51743\n",
       "ALTA          25963\n",
       "MEDIA         25662\n",
       "ALTISSIMA     17382\n",
       "Name: VAR83, dtype: int64"
      ]
     },
     "metadata": {},
     "output_type": "display_data"
    },
    {
     "data": {
      "text/plain": [
       "BAIXISSIMA    65810\n",
       "ALTA          28177\n",
       "ALTISSIMA     25609\n",
       "MEDIA          1154\n",
       "Name: VAR84, dtype: int64"
      ]
     },
     "metadata": {},
     "output_type": "display_data"
    },
    {
     "data": {
      "text/plain": [
       "BAIXISSIMA    44325\n",
       "ALTA          30812\n",
       "MEDIA         23267\n",
       "ALTISSIMA     22346\n",
       "Name: VAR85, dtype: int64"
      ]
     },
     "metadata": {},
     "output_type": "display_data"
    },
    {
     "data": {
      "text/plain": [
       "BAIXISSIMA    37426\n",
       "MEDIA         31083\n",
       "ALTA          27750\n",
       "ALTISSIMA     24491\n",
       "Name: VAR86, dtype: int64"
      ]
     },
     "metadata": {},
     "output_type": "display_data"
    },
    {
     "data": {
      "text/plain": [
       "MEDIA         35053\n",
       "ALTA          28290\n",
       "ALTISSIMA     26086\n",
       "BAIXISSIMA    24289\n",
       "BAIXA          7032\n",
       "Name: VAR87, dtype: int64"
      ]
     },
     "metadata": {},
     "output_type": "display_data"
    },
    {
     "data": {
      "text/plain": [
       "ALTISSIMA     35604\n",
       "MEDIA         28230\n",
       "ALTA          24599\n",
       "BAIXISSIMA    21921\n",
       "BAIXA         10396\n",
       "Name: VAR88, dtype: int64"
      ]
     },
     "metadata": {},
     "output_type": "display_data"
    },
    {
     "data": {
      "text/plain": [
       "BAIXISSIMA    42291\n",
       "ALTA          30849\n",
       "MEDIA         30666\n",
       "ALTISSIMA     16944\n",
       "Name: VAR89, dtype: int64"
      ]
     },
     "metadata": {},
     "output_type": "display_data"
    },
    {
     "data": {
      "text/plain": [
       "BAIXISSIMA    106186\n",
       "ALTISSIMA      14564\n",
       "Name: VAR90, dtype: int64"
      ]
     },
     "metadata": {},
     "output_type": "display_data"
    },
    {
     "data": {
      "text/plain": [
       "ALTISSIMA     32846\n",
       "MEDIA         28909\n",
       "BAIXISSIMA    25997\n",
       "ALTA          25093\n",
       "BAIXA          7905\n",
       "Name: VAR91, dtype: int64"
      ]
     },
     "metadata": {},
     "output_type": "display_data"
    },
    {
     "data": {
      "text/plain": [
       "MEDIA         38791\n",
       "BAIXISSIMA    32408\n",
       "ALTISSIMA     25014\n",
       "ALTA          24537\n",
       "Name: VAR92, dtype: int64"
      ]
     },
     "metadata": {},
     "output_type": "display_data"
    },
    {
     "data": {
      "text/plain": [
       "BAIXISSIMA    74062\n",
       "ALTISSIMA     25619\n",
       "ALTA          21069\n",
       "Name: VAR93, dtype: int64"
      ]
     },
     "metadata": {},
     "output_type": "display_data"
    },
    {
     "data": {
      "text/plain": [
       "BAIXISSIMA    46254\n",
       "ALTA          31279\n",
       "ALTISSIMA     23039\n",
       "MEDIA         20178\n",
       "Name: VAR94, dtype: int64"
      ]
     },
     "metadata": {},
     "output_type": "display_data"
    },
    {
     "data": {
      "text/plain": [
       "BAIXISSIMA    63289\n",
       "ALTA          39679\n",
       "ALTISSIMA     17782\n",
       "Name: VAR95, dtype: int64"
      ]
     },
     "metadata": {},
     "output_type": "display_data"
    },
    {
     "data": {
      "text/plain": [
       "ALTA          31969\n",
       "MEDIA         28947\n",
       "ALTISSIMA     26196\n",
       "BAIXISSIMA    24034\n",
       "BAIXA          9604\n",
       "Name: VAR96, dtype: int64"
      ]
     },
     "metadata": {},
     "output_type": "display_data"
    },
    {
     "data": {
      "text/plain": [
       "MEDIA         41475\n",
       "BAIXISSIMA    30749\n",
       "ALTA          27246\n",
       "ALTISSIMA     21280\n",
       "Name: VAR97, dtype: int64"
      ]
     },
     "metadata": {},
     "output_type": "display_data"
    },
    {
     "data": {
      "text/plain": [
       "BAIXISSIMA    41309\n",
       "MEDIA         31222\n",
       "ALTA          26286\n",
       "ALTISSIMA     21933\n",
       "Name: VAR98, dtype: int64"
      ]
     },
     "metadata": {},
     "output_type": "display_data"
    },
    {
     "data": {
      "text/plain": [
       "ALTISSIMA     34151\n",
       "ALTA          27331\n",
       "MEDIA         26316\n",
       "BAIXISSIMA    23616\n",
       "BAIXA          9336\n",
       "Name: VAR99, dtype: int64"
      ]
     },
     "metadata": {},
     "output_type": "display_data"
    },
    {
     "data": {
      "text/plain": [
       "BAIXISSIMA    101340\n",
       "ALTISSIMA      19410\n",
       "Name: VAR100, dtype: int64"
      ]
     },
     "metadata": {},
     "output_type": "display_data"
    },
    {
     "data": {
      "text/plain": [
       "BAIXISSIMA    44655\n",
       "MEDIA         27963\n",
       "ALTA          27687\n",
       "ALTISSIMA     20445\n",
       "Name: VAR101, dtype: int64"
      ]
     },
     "metadata": {},
     "output_type": "display_data"
    },
    {
     "data": {
      "text/plain": [
       "LONGE            40346\n",
       "MUITO LONGE      32923\n",
       "MEDIO            23967\n",
       "PROXIMO          22345\n",
       "MUITO PROXIMO     1169\n",
       "Name: VAR102, dtype: int64"
      ]
     },
     "metadata": {},
     "output_type": "display_data"
    },
    {
     "data": {
      "text/plain": [
       "MUITO LONGE      37359\n",
       "LONGE            31591\n",
       "MEDIO            27052\n",
       "PROXIMO          20470\n",
       "MUITO PROXIMO     4278\n",
       "Name: VAR103, dtype: int64"
      ]
     },
     "metadata": {},
     "output_type": "display_data"
    },
    {
     "data": {
      "text/plain": [
       "MUITO LONGE      37668\n",
       "LONGE            33534\n",
       "MEDIO            25068\n",
       "PROXIMO          21955\n",
       "MUITO PROXIMO     2525\n",
       "Name: VAR104, dtype: int64"
      ]
     },
     "metadata": {},
     "output_type": "display_data"
    },
    {
     "data": {
      "text/plain": [
       "MUITO LONGE      43056\n",
       "LONGE            35069\n",
       "MEDIO            30095\n",
       "PROXIMO           9328\n",
       "MUITO PROXIMO     3202\n",
       "Name: VAR105, dtype: int64"
      ]
     },
     "metadata": {},
     "output_type": "display_data"
    },
    {
     "data": {
      "text/plain": [
       "MUITO LONGE      37402\n",
       "LONGE            31475\n",
       "MEDIO            27237\n",
       "PROXIMO          23240\n",
       "MUITO PROXIMO     1396\n",
       "Name: VAR106, dtype: int64"
      ]
     },
     "metadata": {},
     "output_type": "display_data"
    },
    {
     "data": {
      "text/plain": [
       "LONGE            37906\n",
       "MUITO LONGE      33681\n",
       "MEDIO            29120\n",
       "PROXIMO          19910\n",
       "MUITO PROXIMO      133\n",
       "Name: VAR107, dtype: int64"
      ]
     },
     "metadata": {},
     "output_type": "display_data"
    },
    {
     "data": {
      "text/plain": [
       "MEDIO            36798\n",
       "MUITO LONGE      32933\n",
       "LONGE            26054\n",
       "PROXIMO          22703\n",
       "MUITO PROXIMO     2262\n",
       "Name: VAR108, dtype: int64"
      ]
     },
     "metadata": {},
     "output_type": "display_data"
    },
    {
     "data": {
      "text/plain": [
       "LONGE            42766\n",
       "MUITO LONGE      34815\n",
       "MEDIO            32165\n",
       "PROXIMO           9099\n",
       "MUITO PROXIMO     1905\n",
       "Name: VAR109, dtype: int64"
      ]
     },
     "metadata": {},
     "output_type": "display_data"
    },
    {
     "data": {
      "text/plain": [
       "MUITO LONGE      37998\n",
       "LONGE            34575\n",
       "MEDIO            25222\n",
       "PROXIMO          22426\n",
       "MUITO PROXIMO      529\n",
       "Name: VAR110, dtype: int64"
      ]
     },
     "metadata": {},
     "output_type": "display_data"
    },
    {
     "data": {
      "text/plain": [
       "MUITO LONGE      37052\n",
       "MEDIO            31590\n",
       "LONGE            29511\n",
       "PROXIMO          20598\n",
       "MUITO PROXIMO     1999\n",
       "Name: VAR111, dtype: int64"
      ]
     },
     "metadata": {},
     "output_type": "display_data"
    },
    {
     "data": {
      "text/plain": [
       "MUITO LONGE      36875\n",
       "LONGE            30324\n",
       "MEDIO            29396\n",
       "PROXIMO          23286\n",
       "MUITO PROXIMO      869\n",
       "Name: VAR112, dtype: int64"
      ]
     },
     "metadata": {},
     "output_type": "display_data"
    },
    {
     "data": {
      "text/plain": [
       "MUITO LONGE      37346\n",
       "LONGE            30195\n",
       "PROXIMO          27344\n",
       "MEDIO            25756\n",
       "MUITO PROXIMO      109\n",
       "Name: VAR113, dtype: int64"
      ]
     },
     "metadata": {},
     "output_type": "display_data"
    },
    {
     "data": {
      "text/plain": [
       "MUITO LONGE      37722\n",
       "LONGE            34375\n",
       "MEDIO            27933\n",
       "PROXIMO          20532\n",
       "MUITO PROXIMO      188\n",
       "Name: VAR114, dtype: int64"
      ]
     },
     "metadata": {},
     "output_type": "display_data"
    },
    {
     "data": {
      "text/plain": [
       "LONGE            37600\n",
       "MUITO LONGE      32487\n",
       "MEDIO            32224\n",
       "PROXIMO          16714\n",
       "MUITO PROXIMO     1725\n",
       "Name: VAR115, dtype: int64"
      ]
     },
     "metadata": {},
     "output_type": "display_data"
    },
    {
     "data": {
      "text/plain": [
       "MUITO LONGE      35450\n",
       "MEDIO            31117\n",
       "LONGE            24874\n",
       "PROXIMO          16619\n",
       "MUITO PROXIMO    12690\n",
       "Name: VAR116, dtype: int64"
      ]
     },
     "metadata": {},
     "output_type": "display_data"
    },
    {
     "data": {
      "text/plain": [
       "MUITO LONGE      40428\n",
       "LONGE            33181\n",
       "PROXIMO          23987\n",
       "MEDIO            20376\n",
       "MUITO PROXIMO     2778\n",
       "Name: VAR117, dtype: int64"
      ]
     },
     "metadata": {},
     "output_type": "display_data"
    },
    {
     "data": {
      "text/plain": [
       "MUITO LONGE      35326\n",
       "LONGE            32351\n",
       "MEDIO            25596\n",
       "MUITO PROXIMO    14651\n",
       "PROXIMO          12826\n",
       "Name: VAR118, dtype: int64"
      ]
     },
     "metadata": {},
     "output_type": "display_data"
    },
    {
     "data": {
      "text/plain": [
       "MUITO LONGE      34635\n",
       "LONGE            29967\n",
       "MEDIO            29748\n",
       "PROXIMO          26373\n",
       "MUITO PROXIMO       27\n",
       "Name: VAR119, dtype: int64"
      ]
     },
     "metadata": {},
     "output_type": "display_data"
    },
    {
     "data": {
      "text/plain": [
       "MUITO LONGE    105177\n",
       "PROXIMO         15573\n",
       "Name: VAR120, dtype: int64"
      ]
     },
     "metadata": {},
     "output_type": "display_data"
    },
    {
     "data": {
      "text/plain": [
       "MUITO LONGE    35628\n",
       "MEDIO          31134\n",
       "LONGE          27087\n",
       "PROXIMO        26901\n",
       "Name: VAR121, dtype: int64"
      ]
     },
     "metadata": {},
     "output_type": "display_data"
    },
    {
     "data": {
      "text/plain": [
       "MUITO LONGE      36835\n",
       "LONGE            31957\n",
       "MEDIO            26533\n",
       "PROXIMO          24755\n",
       "MUITO PROXIMO      670\n",
       "Name: VAR122, dtype: int64"
      ]
     },
     "metadata": {},
     "output_type": "display_data"
    },
    {
     "data": {
      "text/plain": [
       "MUITO LONGE      38272\n",
       "MEDIO            33099\n",
       "LONGE            25473\n",
       "PROXIMO          21115\n",
       "MUITO PROXIMO     2791\n",
       "Name: VAR123, dtype: int64"
      ]
     },
     "metadata": {},
     "output_type": "display_data"
    },
    {
     "data": {
      "text/plain": [
       "MUITO LONGE      34959\n",
       "LONGE            29931\n",
       "MEDIO            29866\n",
       "PROXIMO          21342\n",
       "MUITO PROXIMO     4652\n",
       "Name: VAR124, dtype: int64"
      ]
     },
     "metadata": {},
     "output_type": "display_data"
    },
    {
     "data": {
      "text/plain": [
       "MUITO LONGE      37466\n",
       "MEDIO            31507\n",
       "PROXIMO          24845\n",
       "LONGE            24304\n",
       "MUITO PROXIMO     2628\n",
       "Name: VAR125, dtype: int64"
      ]
     },
     "metadata": {},
     "output_type": "display_data"
    },
    {
     "data": {
      "text/plain": [
       "MEDIO            38025\n",
       "LONGE            34042\n",
       "MUITO LONGE      33420\n",
       "PROXIMO          14446\n",
       "MUITO PROXIMO      817\n",
       "Name: VAR126, dtype: int64"
      ]
     },
     "metadata": {},
     "output_type": "display_data"
    },
    {
     "data": {
      "text/plain": [
       "MUITO LONGE      41950\n",
       "LONGE            30749\n",
       "MEDIO            28409\n",
       "PROXIMO          19535\n",
       "MUITO PROXIMO      107\n",
       "Name: VAR127, dtype: int64"
      ]
     },
     "metadata": {},
     "output_type": "display_data"
    },
    {
     "data": {
      "text/plain": [
       "MUITO LONGE      38057\n",
       "MEDIO            29096\n",
       "LONGE            27399\n",
       "PROXIMO          20715\n",
       "MUITO PROXIMO     5483\n",
       "Name: VAR128, dtype: int64"
      ]
     },
     "metadata": {},
     "output_type": "display_data"
    },
    {
     "data": {
      "text/plain": [
       "MUITO LONGE      37893\n",
       "LONGE            31658\n",
       "MEDIO            28969\n",
       "PROXIMO          21660\n",
       "MUITO PROXIMO      570\n",
       "Name: VAR129, dtype: int64"
      ]
     },
     "metadata": {},
     "output_type": "display_data"
    },
    {
     "data": {
      "text/plain": [
       "MUITO LONGE      37546\n",
       "LONGE            33591\n",
       "MEDIO            27857\n",
       "PROXIMO          21655\n",
       "MUITO PROXIMO      101\n",
       "Name: VAR130, dtype: int64"
      ]
     },
     "metadata": {},
     "output_type": "display_data"
    },
    {
     "data": {
      "text/plain": [
       "LONGE            36895\n",
       "MEDIO            32281\n",
       "MUITO LONGE      28442\n",
       "PROXIMO          20779\n",
       "MUITO PROXIMO     2353\n",
       "Name: VAR131, dtype: int64"
      ]
     },
     "metadata": {},
     "output_type": "display_data"
    },
    {
     "data": {
      "text/plain": [
       "MUITO LONGE      36128\n",
       "LONGE            28189\n",
       "MEDIO            28140\n",
       "PROXIMO          23089\n",
       "MUITO PROXIMO     5204\n",
       "Name: VAR132, dtype: int64"
      ]
     },
     "metadata": {},
     "output_type": "display_data"
    },
    {
     "data": {
      "text/plain": [
       "MUITO LONGE      37861\n",
       "LONGE            32708\n",
       "MEDIO            28096\n",
       "PROXIMO          19114\n",
       "MUITO PROXIMO     2971\n",
       "Name: VAR133, dtype: int64"
      ]
     },
     "metadata": {},
     "output_type": "display_data"
    },
    {
     "data": {
      "text/plain": [
       "MUITO LONGE      35692\n",
       "LONGE            32193\n",
       "MEDIO            28142\n",
       "PROXIMO          23646\n",
       "MUITO PROXIMO     1077\n",
       "Name: VAR134, dtype: int64"
      ]
     },
     "metadata": {},
     "output_type": "display_data"
    },
    {
     "data": {
      "text/plain": [
       "MUITO LONGE      36641\n",
       "MEDIO            30992\n",
       "LONGE            25006\n",
       "PROXIMO          22864\n",
       "MUITO PROXIMO     5247\n",
       "Name: VAR135, dtype: int64"
      ]
     },
     "metadata": {},
     "output_type": "display_data"
    },
    {
     "data": {
      "text/plain": [
       "MUITO LONGE      43895\n",
       "LONGE            32081\n",
       "MEDIO            25467\n",
       "PROXIMO          19218\n",
       "MUITO PROXIMO       89\n",
       "Name: VAR136, dtype: int64"
      ]
     },
     "metadata": {},
     "output_type": "display_data"
    },
    {
     "data": {
      "text/plain": [
       "MUITO LONGE      39245\n",
       "LONGE            36261\n",
       "MEDIO            31761\n",
       "PROXIMO          12445\n",
       "MUITO PROXIMO     1038\n",
       "Name: VAR137, dtype: int64"
      ]
     },
     "metadata": {},
     "output_type": "display_data"
    },
    {
     "data": {
      "text/plain": [
       "MUITO LONGE      38334\n",
       "LONGE            35280\n",
       "MEDIO            29585\n",
       "PROXIMO          17086\n",
       "MUITO PROXIMO      465\n",
       "Name: VAR138, dtype: int64"
      ]
     },
     "metadata": {},
     "output_type": "display_data"
    },
    {
     "data": {
      "text/plain": [
       "LONGE            38458\n",
       "MUITO LONGE      31978\n",
       "MEDIO            28485\n",
       "PROXIMO          21104\n",
       "MUITO PROXIMO      725\n",
       "Name: VAR139, dtype: int64"
      ]
     },
     "metadata": {},
     "output_type": "display_data"
    },
    {
     "data": {
      "text/plain": [
       "MUITO LONGE      55345\n",
       "MUITO PROXIMO    25652\n",
       "MEDIO            19219\n",
       "LONGE            17006\n",
       "PROXIMO           3528\n",
       "Name: VAR140, dtype: int64"
      ]
     },
     "metadata": {},
     "output_type": "display_data"
    },
    {
     "data": {
      "text/plain": [
       "E    94223\n",
       "D    23072\n",
       "C     3221\n",
       "B      204\n",
       "A       30\n",
       "Name: VAR142, dtype: int64"
      ]
     },
     "metadata": {},
     "output_type": "display_data"
    },
    {
     "data": {
      "text/plain": [
       "N    120071\n",
       "S       679\n",
       "Name: VAR143, dtype: int64"
      ]
     },
     "metadata": {},
     "output_type": "display_data"
    },
    {
     "data": {
      "text/plain": [
       "N    120582\n",
       "S       168\n",
       "Name: VAR144, dtype: int64"
      ]
     },
     "metadata": {},
     "output_type": "display_data"
    },
    {
     "data": {
      "text/plain": [
       "EMAIL INEXISTENTE                                         52379\n",
       "EMAIL INEXISTENTE#@#NOME INEXISTENTE#@#CEP INEXISTENTE    50779\n",
       "OPERACAO REALIZADA COM SUCESSO                             9560\n",
       "NOME INEXISTENTE#@#EMAIL INEXISTENTE                       7130\n",
       "CEP INEXISTENTE#@#EMAIL INEXISTENTE                         480\n",
       "NOME INEXISTENTE                                            413\n",
       "CEP INEXISTENTE                                               6\n",
       "NOME INEXISTENTE#@#CEP INEXISTENTE                            3\n",
       "Name: VAR148, dtype: int64"
      ]
     },
     "metadata": {},
     "output_type": "display_data"
    },
    {
     "data": {
      "text/plain": [
       "2.6.1    120750\n",
       "Name: VAR149, dtype: int64"
      ]
     },
     "metadata": {},
     "output_type": "display_data"
    }
   ],
   "source": [
    "# Checagem das variáveis categóricas e seus valores\n",
    "for column in df_train[vars_categoricas].columns:\n",
    "    display(df_train[column].value_counts())"
   ]
  },
  {
   "cell_type": "code",
   "execution_count": null,
   "metadata": {},
   "outputs": [],
   "source": [
    "# Remoção de coluna descenessária\n",
    "df_train.drop(columns='VAR148', inplace=True)\n",
    "vars_categoricas.remove('VAR148')"
   ]
  },
  {
   "cell_type": "code",
   "execution_count": null,
   "metadata": {},
   "outputs": [],
   "source": [
    "# Lista de variaveis para aplicação de one hot encoding\n",
    "lst_one_hot_encoding = [x for x in vars_categoricas if x not in ['VAR10', *[f'VAR{i}' for i in range(66, 141)]]]\n",
    "\n",
    "# One Hot Encoding df_train\n",
    "df_train = pd.get_dummies(df_train, columns=lst_one_hot_encoding)\n",
    "\n",
    "# Selecionando as colunas no df_train\n",
    "train_columns = df_train.columns\n",
    "\n",
    "# One Hot Encoding df_test\n",
    "df_test = pd.get_dummies(df_test, columns=lst_one_hot_encoding)\n",
    "\n",
    "# Mantendo apenas as colunas resultado no encoding no df_train\n",
    "df_test = df_test.reindex(columns=train_columns, fill_value=0)\n"
   ]
  },
  {
   "cell_type": "code",
   "execution_count": null,
   "metadata": {},
   "outputs": [],
   "source": [
    "# Lista de variáveis para label encoder\n",
    "lst_label_encode = ['VAR10', *[f'VAR{i}' for i in range(66, 141)]]\n",
    "\n",
    "# Instanciando o método de label encoder\n",
    "label_encoder = LabelEncoder()\n",
    "\n",
    "# Dicionário para guardar os valores do mapeamento\n",
    "label_encoders = {}\n",
    "\n",
    "# Label Encoding df_train\n",
    "for var in lst_label_encode:\n",
    "    label_encoders[var] = label_encoder.fit(df_train[var])\n",
    "    df_train[var] = label_encoder.transform(df_train[var])\n",
    "\n",
    "# Label Encoding df_train\n",
    "for var in lst_label_encode:\n",
    "\n",
    "    # Adicionando a categoria desconhecido\n",
    "    label_encoder.classes_ = np.append(label_encoder.classes_, 'DESCONHECIDO')\n",
    "    \n",
    "    # Aplicando a classe desconhecida\n",
    "    df_test[var] = df_test[var].apply(lambda x: x if x in label_encoder.classes_[:-1] else 'DESCONHECIDO')\n",
    "    \n",
    "    # Aplicação final do encoding\n",
    "    df_test[var] = label_encoder.transform(df_test[var])"
   ]
  },
  {
   "cell_type": "markdown",
   "metadata": {},
   "source": [
    "### BINNING"
   ]
  },
  {
   "cell_type": "code",
   "execution_count": null,
   "metadata": {},
   "outputs": [
    {
     "name": "stderr",
     "output_type": "stream",
     "text": [
      "C:\\Users\\Servidor Estatistica\\AppData\\Local\\Packages\\PythonSoftwareFoundation.Python.3.11_qbz5n2kfra8p0\\LocalCache\\local-packages\\Python311\\site-packages\\optbinning\\binning\\binning.py:1086: RuntimeWarning: invalid value encountered in cast\n",
      "  n_nonevent = np.empty(n_bins).astype(np.int64)\n",
      "C:\\Users\\Servidor Estatistica\\AppData\\Local\\Packages\\PythonSoftwareFoundation.Python.3.11_qbz5n2kfra8p0\\LocalCache\\local-packages\\Python311\\site-packages\\optbinning\\binning\\binning.py:1087: RuntimeWarning: invalid value encountered in cast\n",
      "  n_event = np.empty(n_bins).astype(np.int64)\n",
      "C:\\Users\\Servidor Estatistica\\AppData\\Local\\Packages\\PythonSoftwareFoundation.Python.3.11_qbz5n2kfra8p0\\LocalCache\\local-packages\\Python311\\site-packages\\optbinning\\binning\\binning.py:1086: RuntimeWarning: invalid value encountered in cast\n",
      "  n_nonevent = np.empty(n_bins).astype(np.int64)\n",
      "C:\\Users\\Servidor Estatistica\\AppData\\Local\\Packages\\PythonSoftwareFoundation.Python.3.11_qbz5n2kfra8p0\\LocalCache\\local-packages\\Python311\\site-packages\\optbinning\\binning\\binning.py:1087: RuntimeWarning: invalid value encountered in cast\n",
      "  n_event = np.empty(n_bins).astype(np.int64)\n",
      "C:\\Users\\Servidor Estatistica\\AppData\\Local\\Packages\\PythonSoftwareFoundation.Python.3.11_qbz5n2kfra8p0\\LocalCache\\local-packages\\Python311\\site-packages\\optbinning\\binning\\binning.py:1086: RuntimeWarning: invalid value encountered in cast\n",
      "  n_nonevent = np.empty(n_bins).astype(np.int64)\n",
      "C:\\Users\\Servidor Estatistica\\AppData\\Local\\Packages\\PythonSoftwareFoundation.Python.3.11_qbz5n2kfra8p0\\LocalCache\\local-packages\\Python311\\site-packages\\optbinning\\binning\\binning.py:1087: RuntimeWarning: invalid value encountered in cast\n",
      "  n_event = np.empty(n_bins).astype(np.int64)\n",
      "C:\\Users\\Servidor Estatistica\\AppData\\Local\\Packages\\PythonSoftwareFoundation.Python.3.11_qbz5n2kfra8p0\\LocalCache\\local-packages\\Python311\\site-packages\\optbinning\\binning\\binning.py:1086: RuntimeWarning: invalid value encountered in cast\n",
      "  n_nonevent = np.empty(n_bins).astype(np.int64)\n",
      "C:\\Users\\Servidor Estatistica\\AppData\\Local\\Packages\\PythonSoftwareFoundation.Python.3.11_qbz5n2kfra8p0\\LocalCache\\local-packages\\Python311\\site-packages\\optbinning\\binning\\binning.py:1087: RuntimeWarning: invalid value encountered in cast\n",
      "  n_event = np.empty(n_bins).astype(np.int64)\n"
     ]
    },
    {
     "data": {
      "text/html": [
       "<div>\n",
       "<style scoped>\n",
       "    .dataframe tbody tr th:only-of-type {\n",
       "        vertical-align: middle;\n",
       "    }\n",
       "\n",
       "    .dataframe tbody tr th {\n",
       "        vertical-align: top;\n",
       "    }\n",
       "\n",
       "    .dataframe thead th {\n",
       "        text-align: right;\n",
       "    }\n",
       "</style>\n",
       "<table border=\"1\" class=\"dataframe\">\n",
       "  <thead>\n",
       "    <tr style=\"text-align: right;\">\n",
       "      <th></th>\n",
       "      <th>name</th>\n",
       "      <th>status</th>\n",
       "    </tr>\n",
       "  </thead>\n",
       "  <tbody>\n",
       "    <tr>\n",
       "      <th>0</th>\n",
       "      <td>v290</td>\n",
       "      <td>OPTIMAL</td>\n",
       "    </tr>\n",
       "    <tr>\n",
       "      <th>1</th>\n",
       "      <td>v150</td>\n",
       "      <td>OPTIMAL</td>\n",
       "    </tr>\n",
       "    <tr>\n",
       "      <th>2</th>\n",
       "      <td>v160</td>\n",
       "      <td>OPTIMAL</td>\n",
       "    </tr>\n",
       "    <tr>\n",
       "      <th>3</th>\n",
       "      <td>v245</td>\n",
       "      <td>OPTIMAL</td>\n",
       "    </tr>\n",
       "    <tr>\n",
       "      <th>4</th>\n",
       "      <td>v140</td>\n",
       "      <td>OPTIMAL</td>\n",
       "    </tr>\n",
       "    <tr>\n",
       "      <th>5</th>\n",
       "      <td>v165</td>\n",
       "      <td>OPTIMAL</td>\n",
       "    </tr>\n",
       "    <tr>\n",
       "      <th>6</th>\n",
       "      <td>v110</td>\n",
       "      <td>OPTIMAL</td>\n",
       "    </tr>\n",
       "    <tr>\n",
       "      <th>7</th>\n",
       "      <td>v120</td>\n",
       "      <td>OPTIMAL</td>\n",
       "    </tr>\n",
       "    <tr>\n",
       "      <th>8</th>\n",
       "      <td>v130</td>\n",
       "      <td>OPTIMAL</td>\n",
       "    </tr>\n",
       "    <tr>\n",
       "      <th>9</th>\n",
       "      <td>v170</td>\n",
       "      <td>OPTIMAL</td>\n",
       "    </tr>\n",
       "    <tr>\n",
       "      <th>10</th>\n",
       "      <td>v175</td>\n",
       "      <td>OPTIMAL</td>\n",
       "    </tr>\n",
       "    <tr>\n",
       "      <th>11</th>\n",
       "      <td>v180</td>\n",
       "      <td>OPTIMAL</td>\n",
       "    </tr>\n",
       "    <tr>\n",
       "      <th>12</th>\n",
       "      <td>v310</td>\n",
       "      <td>OPTIMAL</td>\n",
       "    </tr>\n",
       "    <tr>\n",
       "      <th>13</th>\n",
       "      <td>v20</td>\n",
       "      <td>OPTIMAL</td>\n",
       "    </tr>\n",
       "    <tr>\n",
       "      <th>14</th>\n",
       "      <td>v250</td>\n",
       "      <td>OPTIMAL</td>\n",
       "    </tr>\n",
       "    <tr>\n",
       "      <th>15</th>\n",
       "      <td>v255</td>\n",
       "      <td>OPTIMAL</td>\n",
       "    </tr>\n",
       "    <tr>\n",
       "      <th>16</th>\n",
       "      <td>v330</td>\n",
       "      <td>OPTIMAL</td>\n",
       "    </tr>\n",
       "    <tr>\n",
       "      <th>17</th>\n",
       "      <td>v270</td>\n",
       "      <td>OPTIMAL</td>\n",
       "    </tr>\n",
       "    <tr>\n",
       "      <th>18</th>\n",
       "      <td>v230</td>\n",
       "      <td>OPTIMAL</td>\n",
       "    </tr>\n",
       "    <tr>\n",
       "      <th>19</th>\n",
       "      <td>v240</td>\n",
       "      <td>OPTIMAL</td>\n",
       "    </tr>\n",
       "    <tr>\n",
       "      <th>20</th>\n",
       "      <td>v320</td>\n",
       "      <td>OPTIMAL</td>\n",
       "    </tr>\n",
       "    <tr>\n",
       "      <th>21</th>\n",
       "      <td>v220</td>\n",
       "      <td>OPTIMAL</td>\n",
       "    </tr>\n",
       "    <tr>\n",
       "      <th>22</th>\n",
       "      <td>v210</td>\n",
       "      <td>OPTIMAL</td>\n",
       "    </tr>\n",
       "    <tr>\n",
       "      <th>23</th>\n",
       "      <td>v260</td>\n",
       "      <td>OPTIMAL</td>\n",
       "    </tr>\n",
       "    <tr>\n",
       "      <th>24</th>\n",
       "      <td>v205</td>\n",
       "      <td>OPTIMAL</td>\n",
       "    </tr>\n",
       "    <tr>\n",
       "      <th>25</th>\n",
       "      <td>v40</td>\n",
       "      <td>OPTIMAL</td>\n",
       "    </tr>\n",
       "    <tr>\n",
       "      <th>26</th>\n",
       "      <td>v280</td>\n",
       "      <td>OPTIMAL</td>\n",
       "    </tr>\n",
       "    <tr>\n",
       "      <th>27</th>\n",
       "      <td>v199</td>\n",
       "      <td>OPTIMAL</td>\n",
       "    </tr>\n",
       "    <tr>\n",
       "      <th>28</th>\n",
       "      <td>v60</td>\n",
       "      <td>OPTIMAL</td>\n",
       "    </tr>\n",
       "    <tr>\n",
       "      <th>29</th>\n",
       "      <td>v190</td>\n",
       "      <td>OPTIMAL</td>\n",
       "    </tr>\n",
       "    <tr>\n",
       "      <th>30</th>\n",
       "      <td>limite</td>\n",
       "      <td>OPTIMAL</td>\n",
       "    </tr>\n",
       "    <tr>\n",
       "      <th>31</th>\n",
       "      <td>v80</td>\n",
       "      <td>OPTIMAL</td>\n",
       "    </tr>\n",
       "    <tr>\n",
       "      <th>32</th>\n",
       "      <td>valores_atraso_mean_2M</td>\n",
       "      <td>OPTIMAL</td>\n",
       "    </tr>\n",
       "    <tr>\n",
       "      <th>33</th>\n",
       "      <td>valores_atraso_mean_3M</td>\n",
       "      <td>OPTIMAL</td>\n",
       "    </tr>\n",
       "    <tr>\n",
       "      <th>34</th>\n",
       "      <td>valores_atraso_mean_6M</td>\n",
       "      <td>OPTIMAL</td>\n",
       "    </tr>\n",
       "    <tr>\n",
       "      <th>35</th>\n",
       "      <td>soma_saldo_atraso_30</td>\n",
       "      <td>OPTIMAL</td>\n",
       "    </tr>\n",
       "    <tr>\n",
       "      <th>36</th>\n",
       "      <td>soma_saldo_atraso_60</td>\n",
       "      <td>OPTIMAL</td>\n",
       "    </tr>\n",
       "    <tr>\n",
       "      <th>37</th>\n",
       "      <td>soma_saldo_atraso_180</td>\n",
       "      <td>OPTIMAL</td>\n",
       "    </tr>\n",
       "    <tr>\n",
       "      <th>38</th>\n",
       "      <td>tend_saldo_atraso_30_60</td>\n",
       "      <td>OPTIMAL</td>\n",
       "    </tr>\n",
       "    <tr>\n",
       "      <th>39</th>\n",
       "      <td>tend_saldo_atraso_60_90</td>\n",
       "      <td>OPTIMAL</td>\n",
       "    </tr>\n",
       "    <tr>\n",
       "      <th>40</th>\n",
       "      <td>tend_saldo_atraso_90_180</td>\n",
       "      <td>OPTIMAL</td>\n",
       "    </tr>\n",
       "    <tr>\n",
       "      <th>41</th>\n",
       "      <td>tend_saldo_soma_atraso_30_60</td>\n",
       "      <td>OPTIMAL</td>\n",
       "    </tr>\n",
       "    <tr>\n",
       "      <th>42</th>\n",
       "      <td>valor_credito_liberar_ate_360</td>\n",
       "      <td>OPTIMAL</td>\n",
       "    </tr>\n",
       "    <tr>\n",
       "      <th>43</th>\n",
       "      <td>valor_credito_liberar_acima_360</td>\n",
       "      <td>OPTIMAL</td>\n",
       "    </tr>\n",
       "    <tr>\n",
       "      <th>44</th>\n",
       "      <td>tipo_pessoa</td>\n",
       "      <td>OPTIMAL</td>\n",
       "    </tr>\n",
       "    <tr>\n",
       "      <th>45</th>\n",
       "      <td>porte</td>\n",
       "      <td>OPTIMAL</td>\n",
       "    </tr>\n",
       "    <tr>\n",
       "      <th>46</th>\n",
       "      <td>situacao_operacao</td>\n",
       "      <td>OPTIMAL</td>\n",
       "    </tr>\n",
       "    <tr>\n",
       "      <th>47</th>\n",
       "      <td>atraso_lag_1</td>\n",
       "      <td>OPTIMAL</td>\n",
       "    </tr>\n",
       "    <tr>\n",
       "      <th>48</th>\n",
       "      <td>atraso_lag_2</td>\n",
       "      <td>OPTIMAL</td>\n",
       "    </tr>\n",
       "    <tr>\n",
       "      <th>49</th>\n",
       "      <td>atraso_lag_3</td>\n",
       "      <td>OPTIMAL</td>\n",
       "    </tr>\n",
       "    <tr>\n",
       "      <th>50</th>\n",
       "      <td>atraso_lag_4</td>\n",
       "      <td>OPTIMAL</td>\n",
       "    </tr>\n",
       "    <tr>\n",
       "      <th>51</th>\n",
       "      <td>atraso_lag_5</td>\n",
       "      <td>OPTIMAL</td>\n",
       "    </tr>\n",
       "    <tr>\n",
       "      <th>52</th>\n",
       "      <td>atraso_lag_6</td>\n",
       "      <td>OPTIMAL</td>\n",
       "    </tr>\n",
       "    <tr>\n",
       "      <th>53</th>\n",
       "      <td>atraso_lag_7</td>\n",
       "      <td>OPTIMAL</td>\n",
       "    </tr>\n",
       "    <tr>\n",
       "      <th>54</th>\n",
       "      <td>atraso_lag_8</td>\n",
       "      <td>OPTIMAL</td>\n",
       "    </tr>\n",
       "    <tr>\n",
       "      <th>55</th>\n",
       "      <td>atraso_lag_9</td>\n",
       "      <td>OPTIMAL</td>\n",
       "    </tr>\n",
       "    <tr>\n",
       "      <th>56</th>\n",
       "      <td>atraso_lag_10</td>\n",
       "      <td>OPTIMAL</td>\n",
       "    </tr>\n",
       "    <tr>\n",
       "      <th>57</th>\n",
       "      <td>atraso_lag_11</td>\n",
       "      <td>OPTIMAL</td>\n",
       "    </tr>\n",
       "    <tr>\n",
       "      <th>58</th>\n",
       "      <td>atraso_lag_12</td>\n",
       "      <td>OPTIMAL</td>\n",
       "    </tr>\n",
       "    <tr>\n",
       "      <th>59</th>\n",
       "      <td>dias_atraso_cli</td>\n",
       "      <td>OPTIMAL</td>\n",
       "    </tr>\n",
       "    <tr>\n",
       "      <th>60</th>\n",
       "      <td>atraso_lag_1_cli</td>\n",
       "      <td>OPTIMAL</td>\n",
       "    </tr>\n",
       "    <tr>\n",
       "      <th>61</th>\n",
       "      <td>atraso_lag_2_cli</td>\n",
       "      <td>OPTIMAL</td>\n",
       "    </tr>\n",
       "    <tr>\n",
       "      <th>62</th>\n",
       "      <td>atraso_lag_3_cli</td>\n",
       "      <td>OPTIMAL</td>\n",
       "    </tr>\n",
       "    <tr>\n",
       "      <th>63</th>\n",
       "      <td>atraso_lag_4_cli</td>\n",
       "      <td>OPTIMAL</td>\n",
       "    </tr>\n",
       "    <tr>\n",
       "      <th>64</th>\n",
       "      <td>atraso_lag_5_cli</td>\n",
       "      <td>OPTIMAL</td>\n",
       "    </tr>\n",
       "    <tr>\n",
       "      <th>65</th>\n",
       "      <td>atraso_lag_6_cli</td>\n",
       "      <td>OPTIMAL</td>\n",
       "    </tr>\n",
       "    <tr>\n",
       "      <th>66</th>\n",
       "      <td>atraso_lag_7_cli</td>\n",
       "      <td>OPTIMAL</td>\n",
       "    </tr>\n",
       "    <tr>\n",
       "      <th>67</th>\n",
       "      <td>atraso_lag_8_cli</td>\n",
       "      <td>OPTIMAL</td>\n",
       "    </tr>\n",
       "    <tr>\n",
       "      <th>68</th>\n",
       "      <td>atraso_lag_9_cli</td>\n",
       "      <td>OPTIMAL</td>\n",
       "    </tr>\n",
       "    <tr>\n",
       "      <th>69</th>\n",
       "      <td>atraso_lag_10_cli</td>\n",
       "      <td>OPTIMAL</td>\n",
       "    </tr>\n",
       "    <tr>\n",
       "      <th>70</th>\n",
       "      <td>atraso_lag_11_cli</td>\n",
       "      <td>OPTIMAL</td>\n",
       "    </tr>\n",
       "    <tr>\n",
       "      <th>71</th>\n",
       "      <td>atraso_lag_12_cli</td>\n",
       "      <td>OPTIMAL</td>\n",
       "    </tr>\n",
       "    <tr>\n",
       "      <th>72</th>\n",
       "      <td>dias_atraso_mean_3M</td>\n",
       "      <td>OPTIMAL</td>\n",
       "    </tr>\n",
       "    <tr>\n",
       "      <th>73</th>\n",
       "      <td>dias_atraso_mean_6M</td>\n",
       "      <td>OPTIMAL</td>\n",
       "    </tr>\n",
       "    <tr>\n",
       "      <th>74</th>\n",
       "      <td>dias_atraso_mean_9M</td>\n",
       "      <td>OPTIMAL</td>\n",
       "    </tr>\n",
       "    <tr>\n",
       "      <th>75</th>\n",
       "      <td>dias_atraso_mean_12M</td>\n",
       "      <td>OPTIMAL</td>\n",
       "    </tr>\n",
       "    <tr>\n",
       "      <th>76</th>\n",
       "      <td>dias_atraso_cli_mean_3M</td>\n",
       "      <td>OPTIMAL</td>\n",
       "    </tr>\n",
       "    <tr>\n",
       "      <th>77</th>\n",
       "      <td>dias_atraso_cli_mean_6M</td>\n",
       "      <td>OPTIMAL</td>\n",
       "    </tr>\n",
       "    <tr>\n",
       "      <th>78</th>\n",
       "      <td>dias_atraso_cli_mean_9M</td>\n",
       "      <td>OPTIMAL</td>\n",
       "    </tr>\n",
       "    <tr>\n",
       "      <th>79</th>\n",
       "      <td>dias_atraso_cli_mean_12M</td>\n",
       "      <td>OPTIMAL</td>\n",
       "    </tr>\n",
       "    <tr>\n",
       "      <th>80</th>\n",
       "      <td>dias_atraso_max_3M</td>\n",
       "      <td>OPTIMAL</td>\n",
       "    </tr>\n",
       "    <tr>\n",
       "      <th>81</th>\n",
       "      <td>dias_atraso_max_6M</td>\n",
       "      <td>OPTIMAL</td>\n",
       "    </tr>\n",
       "    <tr>\n",
       "      <th>82</th>\n",
       "      <td>dias_atraso_max_9M</td>\n",
       "      <td>OPTIMAL</td>\n",
       "    </tr>\n",
       "    <tr>\n",
       "      <th>83</th>\n",
       "      <td>dias_atraso_max_12M</td>\n",
       "      <td>OPTIMAL</td>\n",
       "    </tr>\n",
       "    <tr>\n",
       "      <th>84</th>\n",
       "      <td>dias_atraso_max_cli_3M</td>\n",
       "      <td>OPTIMAL</td>\n",
       "    </tr>\n",
       "    <tr>\n",
       "      <th>85</th>\n",
       "      <td>dias_atraso_max_cli_6M</td>\n",
       "      <td>OPTIMAL</td>\n",
       "    </tr>\n",
       "    <tr>\n",
       "      <th>86</th>\n",
       "      <td>dias_atraso_max_cli_9M</td>\n",
       "      <td>OPTIMAL</td>\n",
       "    </tr>\n",
       "    <tr>\n",
       "      <th>87</th>\n",
       "      <td>dias_atraso_max_cli_12M</td>\n",
       "      <td>OPTIMAL</td>\n",
       "    </tr>\n",
       "    <tr>\n",
       "      <th>88</th>\n",
       "      <td>ind_utilizacao_60_80</td>\n",
       "      <td>OPTIMAL</td>\n",
       "    </tr>\n",
       "    <tr>\n",
       "      <th>89</th>\n",
       "      <td>ind_utilizacao_20_80</td>\n",
       "      <td>OPTIMAL</td>\n",
       "    </tr>\n",
       "    <tr>\n",
       "      <th>90</th>\n",
       "      <td>TEMPO_RELACIONAMENTO</td>\n",
       "      <td>OPTIMAL</td>\n",
       "    </tr>\n",
       "  </tbody>\n",
       "</table>\n",
       "</div>"
      ],
      "text/plain": [
       "                               name   status\n",
       "0                              v290  OPTIMAL\n",
       "1                              v150  OPTIMAL\n",
       "2                              v160  OPTIMAL\n",
       "3                              v245  OPTIMAL\n",
       "4                              v140  OPTIMAL\n",
       "5                              v165  OPTIMAL\n",
       "6                              v110  OPTIMAL\n",
       "7                              v120  OPTIMAL\n",
       "8                              v130  OPTIMAL\n",
       "9                              v170  OPTIMAL\n",
       "10                             v175  OPTIMAL\n",
       "11                             v180  OPTIMAL\n",
       "12                             v310  OPTIMAL\n",
       "13                              v20  OPTIMAL\n",
       "14                             v250  OPTIMAL\n",
       "15                             v255  OPTIMAL\n",
       "16                             v330  OPTIMAL\n",
       "17                             v270  OPTIMAL\n",
       "18                             v230  OPTIMAL\n",
       "19                             v240  OPTIMAL\n",
       "20                             v320  OPTIMAL\n",
       "21                             v220  OPTIMAL\n",
       "22                             v210  OPTIMAL\n",
       "23                             v260  OPTIMAL\n",
       "24                             v205  OPTIMAL\n",
       "25                              v40  OPTIMAL\n",
       "26                             v280  OPTIMAL\n",
       "27                             v199  OPTIMAL\n",
       "28                              v60  OPTIMAL\n",
       "29                             v190  OPTIMAL\n",
       "30                           limite  OPTIMAL\n",
       "31                              v80  OPTIMAL\n",
       "32           valores_atraso_mean_2M  OPTIMAL\n",
       "33           valores_atraso_mean_3M  OPTIMAL\n",
       "34           valores_atraso_mean_6M  OPTIMAL\n",
       "35             soma_saldo_atraso_30  OPTIMAL\n",
       "36             soma_saldo_atraso_60  OPTIMAL\n",
       "37            soma_saldo_atraso_180  OPTIMAL\n",
       "38          tend_saldo_atraso_30_60  OPTIMAL\n",
       "39          tend_saldo_atraso_60_90  OPTIMAL\n",
       "40         tend_saldo_atraso_90_180  OPTIMAL\n",
       "41     tend_saldo_soma_atraso_30_60  OPTIMAL\n",
       "42    valor_credito_liberar_ate_360  OPTIMAL\n",
       "43  valor_credito_liberar_acima_360  OPTIMAL\n",
       "44                      tipo_pessoa  OPTIMAL\n",
       "45                            porte  OPTIMAL\n",
       "46                situacao_operacao  OPTIMAL\n",
       "47                     atraso_lag_1  OPTIMAL\n",
       "48                     atraso_lag_2  OPTIMAL\n",
       "49                     atraso_lag_3  OPTIMAL\n",
       "50                     atraso_lag_4  OPTIMAL\n",
       "51                     atraso_lag_5  OPTIMAL\n",
       "52                     atraso_lag_6  OPTIMAL\n",
       "53                     atraso_lag_7  OPTIMAL\n",
       "54                     atraso_lag_8  OPTIMAL\n",
       "55                     atraso_lag_9  OPTIMAL\n",
       "56                    atraso_lag_10  OPTIMAL\n",
       "57                    atraso_lag_11  OPTIMAL\n",
       "58                    atraso_lag_12  OPTIMAL\n",
       "59                  dias_atraso_cli  OPTIMAL\n",
       "60                 atraso_lag_1_cli  OPTIMAL\n",
       "61                 atraso_lag_2_cli  OPTIMAL\n",
       "62                 atraso_lag_3_cli  OPTIMAL\n",
       "63                 atraso_lag_4_cli  OPTIMAL\n",
       "64                 atraso_lag_5_cli  OPTIMAL\n",
       "65                 atraso_lag_6_cli  OPTIMAL\n",
       "66                 atraso_lag_7_cli  OPTIMAL\n",
       "67                 atraso_lag_8_cli  OPTIMAL\n",
       "68                 atraso_lag_9_cli  OPTIMAL\n",
       "69                atraso_lag_10_cli  OPTIMAL\n",
       "70                atraso_lag_11_cli  OPTIMAL\n",
       "71                atraso_lag_12_cli  OPTIMAL\n",
       "72              dias_atraso_mean_3M  OPTIMAL\n",
       "73              dias_atraso_mean_6M  OPTIMAL\n",
       "74              dias_atraso_mean_9M  OPTIMAL\n",
       "75             dias_atraso_mean_12M  OPTIMAL\n",
       "76          dias_atraso_cli_mean_3M  OPTIMAL\n",
       "77          dias_atraso_cli_mean_6M  OPTIMAL\n",
       "78          dias_atraso_cli_mean_9M  OPTIMAL\n",
       "79         dias_atraso_cli_mean_12M  OPTIMAL\n",
       "80               dias_atraso_max_3M  OPTIMAL\n",
       "81               dias_atraso_max_6M  OPTIMAL\n",
       "82               dias_atraso_max_9M  OPTIMAL\n",
       "83              dias_atraso_max_12M  OPTIMAL\n",
       "84           dias_atraso_max_cli_3M  OPTIMAL\n",
       "85           dias_atraso_max_cli_6M  OPTIMAL\n",
       "86           dias_atraso_max_cli_9M  OPTIMAL\n",
       "87          dias_atraso_max_cli_12M  OPTIMAL\n",
       "88             ind_utilizacao_60_80  OPTIMAL\n",
       "89             ind_utilizacao_20_80  OPTIMAL\n",
       "90             TEMPO_RELACIONAMENTO  OPTIMAL"
      ]
     },
     "metadata": {},
     "output_type": "display_data"
    }
   ],
   "source": [
    "# Criando dataframe de resumo\n",
    "binning_summary = pd.DataFrame(columns=['name', 'status'])\n",
    "\n",
    "# Criando dataframe de análise\n",
    "binning_to_excel = pd.DataFrame()\n",
    "\n",
    "# Criando o dicionário de variáveis\n",
    "dict_binning = dict()\n",
    "\n",
    "# Criando o dicionário de binnings\n",
    "optb = dict()\n",
    "\n",
    "# Definindo loop de binning para variáveis numéricas\n",
    "for var in vars_numericas:\n",
    "\n",
    "    # Instantiating binning object\n",
    "    optb[var] = OptimalBinning(name=var, dtype='numerical', max_n_bins=10, min_prebin_size=0.05, monotonic_trend='auto_asc_desc')\n",
    "\n",
    "    # Aplicação dos dados das variáveis no objeto binning\n",
    "    X = df_train[var].values\n",
    "    y = df_train['perf_fim'].values\n",
    "    optb[var].fit(X, y)\n",
    "\n",
    "    # Alimentando a dataframe de resumo\n",
    "    binning_summary.loc[-1] = [var, optb[var].status]\n",
    "    binning_summary.reset_index(inplace=True, drop=True)\n",
    "\n",
    "    # Alimentando o dicionário de variáveis\n",
    "    dict_binning[var] = optb[var].binning_table.build()\n",
    "    dict_binning[var]['variavel'] = var\n",
    "    dict_binning[var]['status'] = optb[var].status\n",
    "\n",
    "\n",
    "# Criação do arquivo Excel de análise\n",
    "for var in dict_binning.keys():\n",
    "    binning_to_excel = pd.concat(objs=[binning_to_excel, dict_binning[var]])\n",
    "\n",
    "#binning_to_excel.to_excel(f'PD_FOMENTO_BINNING_RESULTS_{today}.xlsx')\n",
    "display(binning_summary)"
   ]
  }
 ],
 "metadata": {
  "kernelspec": {
   "display_name": "Python 3.8.0 64-bit",
   "language": "python",
   "name": "python3"
  },
  "language_info": {
   "codemirror_mode": {
    "name": "ipython",
    "version": 3
   },
   "file_extension": ".py",
   "mimetype": "text/x-python",
   "name": "python",
   "nbconvert_exporter": "python",
   "pygments_lexer": "ipython3",
   "version": "3.8.0"
  },
  "orig_nbformat": 4,
  "vscode": {
   "interpreter": {
    "hash": "aee8b7b246df8f9039afb4144a1f6fd8d2ca17a180786b69acc140d282b71a49"
   }
  }
 },
 "nbformat": 4,
 "nbformat_minor": 2
}
