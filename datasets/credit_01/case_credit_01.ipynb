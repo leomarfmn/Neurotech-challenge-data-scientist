{
 "cells": [
  {
   "cell_type": "markdown",
   "metadata": {},
   "source": [
    "##### PENDENTE\n",
    "- MODEL FIT\n",
    "- VALIDACAO OOT\n",
    "- ANALISE FINANCEIRA\n",
    "- SLIDES"
   ]
  },
  {
   "cell_type": "markdown",
   "metadata": {},
   "source": [
    "## README"
   ]
  },
  {
   "cell_type": "markdown",
   "metadata": {},
   "source": [
    "## SETUP"
   ]
  },
  {
   "cell_type": "code",
   "execution_count": 1,
   "metadata": {},
   "outputs": [],
   "source": [
    "# Bibliotecas de uso geral\n",
    "import numpy as np\n",
    "import pandas as pd\n",
    "import seaborn as sns\n",
    "import matplotlib.pyplot as plt\n",
    "\n",
    "# Tratamento dos dados\n",
    "from sklearn.preprocessing import LabelEncoder\n",
    "from sklearn.preprocessing import MinMaxScaler\n",
    "from imblearn.over_sampling import SMOTE\n",
    "\n",
    "# Bibliotecas utilizadas para as etapas iniciais de Feature Selection\n",
    "from sklearn.feature_selection import SelectKBest, chi2\n",
    "\n",
    "# Bibliotecas de modelagem\n",
    "from sklearn.linear_model import LogisticRegression\n",
    "import xgboost as xgb\n",
    "from sklearn.svm import SVC\n",
    "from sklearn.neighbors import KNeighborsClassifier\n",
    "\n",
    "# Bibliotecas utilizadas para a avaliação dos modelos\n",
    "from sklearn.metrics import accuracy_score\n",
    "from sklearn.metrics import confusion_matrix\n",
    "from sklearn.metrics import classification_report\n",
    "from sklearn.metrics import roc_curve, roc_auc_score\n",
    "from statsmodels.stats.outliers_influence import variance_inflation_factor\n",
    "\n",
    "# Avaliação de propriedades estatísticas\n",
    "import statsmodels.api as sm\n",
    "from scipy.stats import ks_2samp\n",
    "\n",
    "# Configurações do pandas\n",
    "pd.set_option('display.max_rows', 50)"
   ]
  },
  {
   "cell_type": "markdown",
   "metadata": {},
   "source": [
    "## FUNÇÕES E CONSTANTES"
   ]
  },
  {
   "cell_type": "code",
   "execution_count": 2,
   "metadata": {},
   "outputs": [],
   "source": [
    "# Definição de variável para reproducibilidade\n",
    "seed = 101"
   ]
  },
  {
   "cell_type": "code",
   "execution_count": 3,
   "metadata": {},
   "outputs": [],
   "source": [
    "def plot_categorical_distribution(df, var):\n",
    "    # Cria os plots das variáveis categóricas\n",
    "    plt.figure(figsize=(8, 6))\n",
    "    sns.countplot(data=df, x=var, palette='Set2')\n",
    "    plt.title(f'Distribuição da variável: {var}')\n",
    "    plt.xlabel(var)\n",
    "    plt.ylabel('Contagem')\n",
    "    plt.xticks(rotation=45)\n",
    "    plt.tight_layout()\n",
    "    plt.show()"
   ]
  },
  {
   "cell_type": "code",
   "execution_count": 4,
   "metadata": {},
   "outputs": [],
   "source": [
    "def plot_numerical_distribution(df, var, bins=20):\n",
    "    # Cria os plots das variáveis numéricas\n",
    "    plt.figure(figsize=(8, 6))\n",
    "    sns.histplot(df, x=var, hue='TARGET', bins=bins, kde=True, palette='Set1', edgecolor='black')\n",
    "    plt.title(f'Distribuição da variável: {var} pelo TARGET')\n",
    "    plt.xlabel(var)\n",
    "    plt.ylabel('Frequência')\n",
    "    plt.tight_layout()\n",
    "    plt.show()"
   ]
  },
  {
   "cell_type": "markdown",
   "metadata": {},
   "source": [
    "## INGESTÃO DE DADOS"
   ]
  },
  {
   "cell_type": "code",
   "execution_count": 5,
   "metadata": {},
   "outputs": [
    {
     "data": {
      "text/plain": [
       "(120750, 151)"
      ]
     },
     "execution_count": 5,
     "metadata": {},
     "output_type": "execute_result"
    }
   ],
   "source": [
    "df_train = pd.read_csv('train.gz')\n",
    "df_train.shape"
   ]
  },
  {
   "cell_type": "code",
   "execution_count": 6,
   "metadata": {},
   "outputs": [
    {
     "data": {
      "text/plain": [
       "(51751, 151)"
      ]
     },
     "execution_count": 6,
     "metadata": {},
     "output_type": "execute_result"
    }
   ],
   "source": [
    "df_test = pd.read_csv('test.gz')\n",
    "df_test.shape"
   ]
  },
  {
   "cell_type": "code",
   "execution_count": 7,
   "metadata": {},
   "outputs": [
    {
     "data": {
      "text/plain": [
       "(91965, 150)"
      ]
     },
     "execution_count": 7,
     "metadata": {},
     "output_type": "execute_result"
    }
   ],
   "source": [
    "df_oof = pd.read_csv('oot.gz')\n",
    "df_oof.shape"
   ]
  },
  {
   "cell_type": "markdown",
   "metadata": {},
   "source": [
    "## EDA E FEATURE ENGINEERING"
   ]
  },
  {
   "cell_type": "markdown",
   "metadata": {},
   "source": [
    "### ANÁLISES MACRO"
   ]
  },
  {
   "cell_type": "code",
   "execution_count": 8,
   "metadata": {},
   "outputs": [
    {
     "data": {
      "text/plain": [
       "REF_DATE     object\n",
       "TARGET        int64\n",
       "VAR2         object\n",
       "IDADE       float64\n",
       "VAR4         object\n",
       "             ...   \n",
       "VAR146      float64\n",
       "VAR147        int64\n",
       "VAR148       object\n",
       "VAR149       object\n",
       "ID            int64\n",
       "Length: 151, dtype: object"
      ]
     },
     "execution_count": 8,
     "metadata": {},
     "output_type": "execute_result"
    }
   ],
   "source": [
    "df_train.dtypes"
   ]
  },
  {
   "cell_type": "code",
   "execution_count": 9,
   "metadata": {},
   "outputs": [
    {
     "data": {
      "text/html": [
       "<div>\n",
       "<style scoped>\n",
       "    .dataframe tbody tr th:only-of-type {\n",
       "        vertical-align: middle;\n",
       "    }\n",
       "\n",
       "    .dataframe tbody tr th {\n",
       "        vertical-align: top;\n",
       "    }\n",
       "\n",
       "    .dataframe thead th {\n",
       "        text-align: right;\n",
       "    }\n",
       "</style>\n",
       "<table border=\"1\" class=\"dataframe\">\n",
       "  <thead>\n",
       "    <tr style=\"text-align: right;\">\n",
       "      <th></th>\n",
       "      <th>REF_DATE</th>\n",
       "      <th>TARGET</th>\n",
       "      <th>VAR2</th>\n",
       "      <th>IDADE</th>\n",
       "      <th>VAR4</th>\n",
       "      <th>VAR5</th>\n",
       "      <th>VAR6</th>\n",
       "      <th>VAR7</th>\n",
       "      <th>VAR8</th>\n",
       "      <th>VAR9</th>\n",
       "      <th>...</th>\n",
       "      <th>VAR141</th>\n",
       "      <th>VAR142</th>\n",
       "      <th>VAR143</th>\n",
       "      <th>VAR144</th>\n",
       "      <th>VAR145</th>\n",
       "      <th>VAR146</th>\n",
       "      <th>VAR147</th>\n",
       "      <th>VAR148</th>\n",
       "      <th>VAR149</th>\n",
       "      <th>ID</th>\n",
       "    </tr>\n",
       "  </thead>\n",
       "  <tbody>\n",
       "    <tr>\n",
       "      <th>0</th>\n",
       "      <td>2017-06-01 00:00:00+00:00</td>\n",
       "      <td>0</td>\n",
       "      <td>M</td>\n",
       "      <td>34.137</td>\n",
       "      <td>NaN</td>\n",
       "      <td>RO</td>\n",
       "      <td>-8.808779</td>\n",
       "      <td>-63.87847</td>\n",
       "      <td>D</td>\n",
       "      <td>E</td>\n",
       "      <td>...</td>\n",
       "      <td>2680.289259</td>\n",
       "      <td>D</td>\n",
       "      <td>NaN</td>\n",
       "      <td>NaN</td>\n",
       "      <td>NaN</td>\n",
       "      <td>NaN</td>\n",
       "      <td>102</td>\n",
       "      <td>EMAIL INEXISTENTE#@#NOME INEXISTENTE#@#CEP INE...</td>\n",
       "      <td>2.6.1</td>\n",
       "      <td>181755</td>\n",
       "    </tr>\n",
       "    <tr>\n",
       "      <th>1</th>\n",
       "      <td>2017-08-18 00:00:00+00:00</td>\n",
       "      <td>0</td>\n",
       "      <td>M</td>\n",
       "      <td>40.447</td>\n",
       "      <td>NaN</td>\n",
       "      <td>PB</td>\n",
       "      <td>-7.146537</td>\n",
       "      <td>-34.92608</td>\n",
       "      <td>E</td>\n",
       "      <td>E</td>\n",
       "      <td>...</td>\n",
       "      <td>1777.725469</td>\n",
       "      <td>E</td>\n",
       "      <td>NaN</td>\n",
       "      <td>NaN</td>\n",
       "      <td>NaN</td>\n",
       "      <td>NaN</td>\n",
       "      <td>102</td>\n",
       "      <td>EMAIL INEXISTENTE#@#NOME INEXISTENTE#@#CEP INE...</td>\n",
       "      <td>2.6.1</td>\n",
       "      <td>287633</td>\n",
       "    </tr>\n",
       "  </tbody>\n",
       "</table>\n",
       "<p>2 rows × 151 columns</p>\n",
       "</div>"
      ],
      "text/plain": [
       "                    REF_DATE  TARGET VAR2   IDADE VAR4 VAR5      VAR6  \\\n",
       "0  2017-06-01 00:00:00+00:00       0    M  34.137  NaN   RO -8.808779   \n",
       "1  2017-08-18 00:00:00+00:00       0    M  40.447  NaN   PB -7.146537   \n",
       "\n",
       "       VAR7 VAR8 VAR9  ...       VAR141  VAR142  VAR143  VAR144  VAR145  \\\n",
       "0 -63.87847    D    E  ...  2680.289259       D     NaN     NaN     NaN   \n",
       "1 -34.92608    E    E  ...  1777.725469       E     NaN     NaN     NaN   \n",
       "\n",
       "   VAR146  VAR147                                             VAR148  VAR149  \\\n",
       "0     NaN     102  EMAIL INEXISTENTE#@#NOME INEXISTENTE#@#CEP INE...   2.6.1   \n",
       "1     NaN     102  EMAIL INEXISTENTE#@#NOME INEXISTENTE#@#CEP INE...   2.6.1   \n",
       "\n",
       "       ID  \n",
       "0  181755  \n",
       "1  287633  \n",
       "\n",
       "[2 rows x 151 columns]"
      ]
     },
     "execution_count": 9,
     "metadata": {},
     "output_type": "execute_result"
    }
   ],
   "source": [
    "df_train.head(2)"
   ]
  },
  {
   "cell_type": "code",
   "execution_count": 10,
   "metadata": {},
   "outputs": [],
   "source": [
    "# Divisão das variáveis entre numéricas e categóricas\n",
    "vars_discretas = df_train.select_dtypes(include=['int']).columns.tolist()\n",
    "vars_continuas = df_train.select_dtypes(include=['float']).columns.tolist()\n",
    "vars_categoricas = df_train.select_dtypes(exclude=['float', 'int']).columns.tolist()\n",
    "vars_numericas = df_train.select_dtypes(include='number').columns.tolist()\n",
    "\n",
    "# Remoção dos campos que não entrarão no loop de EDA\n",
    "vars_categoricas.remove('REF_DATE')\n",
    "vars_discretas.remove('TARGET')\n",
    "vars_discretas.remove('ID')\n",
    "vars_numericas.remove('TARGET')\n",
    "vars_numericas.remove('ID')"
   ]
  },
  {
   "cell_type": "code",
   "execution_count": 11,
   "metadata": {},
   "outputs": [
    {
     "name": "stdout",
     "output_type": "stream",
     "text": [
      "Referência mais antiga: 2017-01-02 00:00:00+00:00\n",
      "Referência mais recente: 2017-08-31 00:00:00+00:00\n"
     ]
    }
   ],
   "source": [
    "# Valores mínimos e máximos da referência\n",
    "print(f\"Referência mais antiga: {df_train['REF_DATE'].min()}\")\n",
    "print(f\"Referência mais recente: {df_train['REF_DATE'].max()}\")"
   ]
  },
  {
   "cell_type": "code",
   "execution_count": 12,
   "metadata": {},
   "outputs": [
    {
     "data": {
      "text/html": [
       "<div>\n",
       "<style scoped>\n",
       "    .dataframe tbody tr th:only-of-type {\n",
       "        vertical-align: middle;\n",
       "    }\n",
       "\n",
       "    .dataframe tbody tr th {\n",
       "        vertical-align: top;\n",
       "    }\n",
       "\n",
       "    .dataframe thead th {\n",
       "        text-align: right;\n",
       "    }\n",
       "</style>\n",
       "<table border=\"1\" class=\"dataframe\">\n",
       "  <thead>\n",
       "    <tr style=\"text-align: right;\">\n",
       "      <th></th>\n",
       "      <th>IDADE</th>\n",
       "      <th>VAR6</th>\n",
       "      <th>VAR7</th>\n",
       "      <th>VAR11</th>\n",
       "      <th>VAR12</th>\n",
       "      <th>VAR13</th>\n",
       "      <th>VAR14</th>\n",
       "      <th>VAR15</th>\n",
       "      <th>VAR16</th>\n",
       "      <th>VAR17</th>\n",
       "      <th>...</th>\n",
       "      <th>VAR40</th>\n",
       "      <th>VAR41</th>\n",
       "      <th>VAR42</th>\n",
       "      <th>VAR44</th>\n",
       "      <th>VAR46</th>\n",
       "      <th>VAR47</th>\n",
       "      <th>VAR141</th>\n",
       "      <th>VAR145</th>\n",
       "      <th>VAR146</th>\n",
       "      <th>VAR147</th>\n",
       "    </tr>\n",
       "  </thead>\n",
       "  <tbody>\n",
       "    <tr>\n",
       "      <th>count</th>\n",
       "      <td>107040.000000</td>\n",
       "      <td>117394.000000</td>\n",
       "      <td>117394.000000</td>\n",
       "      <td>74488.000000</td>\n",
       "      <td>65724.000000</td>\n",
       "      <td>15530.000000</td>\n",
       "      <td>95197.000000</td>\n",
       "      <td>58269.000000</td>\n",
       "      <td>44981.000000</td>\n",
       "      <td>15530.000000</td>\n",
       "      <td>...</td>\n",
       "      <td>117466.000000</td>\n",
       "      <td>117811.000000</td>\n",
       "      <td>107048.000000</td>\n",
       "      <td>401.000000</td>\n",
       "      <td>294.000000</td>\n",
       "      <td>120750.000000</td>\n",
       "      <td>120750.000000</td>\n",
       "      <td>679.000000</td>\n",
       "      <td>168.000000</td>\n",
       "      <td>120750.000000</td>\n",
       "    </tr>\n",
       "    <tr>\n",
       "      <th>mean</th>\n",
       "      <td>42.125255</td>\n",
       "      <td>-14.411389</td>\n",
       "      <td>-45.903480</td>\n",
       "      <td>0.235917</td>\n",
       "      <td>0.290241</td>\n",
       "      <td>0.313850</td>\n",
       "      <td>0.241245</td>\n",
       "      <td>0.185754</td>\n",
       "      <td>2.044374</td>\n",
       "      <td>2.132795</td>\n",
       "      <td>...</td>\n",
       "      <td>0.531287</td>\n",
       "      <td>0.631175</td>\n",
       "      <td>0.504619</td>\n",
       "      <td>1691.738429</td>\n",
       "      <td>6984.218469</td>\n",
       "      <td>0.256543</td>\n",
       "      <td>1854.833006</td>\n",
       "      <td>4018.743785</td>\n",
       "      <td>1942.649762</td>\n",
       "      <td>101.841656</td>\n",
       "    </tr>\n",
       "    <tr>\n",
       "      <th>std</th>\n",
       "      <td>15.198476</td>\n",
       "      <td>8.995077</td>\n",
       "      <td>7.529788</td>\n",
       "      <td>0.625609</td>\n",
       "      <td>0.308937</td>\n",
       "      <td>0.241229</td>\n",
       "      <td>0.262687</td>\n",
       "      <td>0.195320</td>\n",
       "      <td>3.170869</td>\n",
       "      <td>2.171140</td>\n",
       "      <td>...</td>\n",
       "      <td>0.115968</td>\n",
       "      <td>0.222607</td>\n",
       "      <td>0.069614</td>\n",
       "      <td>2177.830516</td>\n",
       "      <td>4621.964093</td>\n",
       "      <td>0.406746</td>\n",
       "      <td>893.999792</td>\n",
       "      <td>3700.836248</td>\n",
       "      <td>3143.757850</td>\n",
       "      <td>0.540016</td>\n",
       "    </tr>\n",
       "    <tr>\n",
       "      <th>min</th>\n",
       "      <td>18.014000</td>\n",
       "      <td>-33.521563</td>\n",
       "      <td>-72.900276</td>\n",
       "      <td>-4.000000</td>\n",
       "      <td>0.000000</td>\n",
       "      <td>0.000000</td>\n",
       "      <td>0.000000</td>\n",
       "      <td>0.000000</td>\n",
       "      <td>0.083333</td>\n",
       "      <td>0.002740</td>\n",
       "      <td>...</td>\n",
       "      <td>0.208688</td>\n",
       "      <td>0.000000</td>\n",
       "      <td>0.006658</td>\n",
       "      <td>0.000000</td>\n",
       "      <td>0.000000</td>\n",
       "      <td>0.000000</td>\n",
       "      <td>0.000000</td>\n",
       "      <td>0.000000</td>\n",
       "      <td>0.000000</td>\n",
       "      <td>100.000000</td>\n",
       "    </tr>\n",
       "    <tr>\n",
       "      <th>25%</th>\n",
       "      <td>30.057250</td>\n",
       "      <td>-22.842778</td>\n",
       "      <td>-49.903564</td>\n",
       "      <td>0.000000</td>\n",
       "      <td>0.055000</td>\n",
       "      <td>0.056000</td>\n",
       "      <td>0.105000</td>\n",
       "      <td>0.078000</td>\n",
       "      <td>0.250000</td>\n",
       "      <td>0.493151</td>\n",
       "      <td>...</td>\n",
       "      <td>0.447559</td>\n",
       "      <td>0.440572</td>\n",
       "      <td>0.463579</td>\n",
       "      <td>642.000000</td>\n",
       "      <td>3888.995000</td>\n",
       "      <td>0.000000</td>\n",
       "      <td>1513.227400</td>\n",
       "      <td>1633.195000</td>\n",
       "      <td>0.000000</td>\n",
       "      <td>102.000000</td>\n",
       "    </tr>\n",
       "    <tr>\n",
       "      <th>50%</th>\n",
       "      <td>39.867000</td>\n",
       "      <td>-13.010590</td>\n",
       "      <td>-46.574908</td>\n",
       "      <td>0.000000</td>\n",
       "      <td>0.159000</td>\n",
       "      <td>0.318000</td>\n",
       "      <td>0.140000</td>\n",
       "      <td>0.112000</td>\n",
       "      <td>0.833333</td>\n",
       "      <td>0.816438</td>\n",
       "      <td>...</td>\n",
       "      <td>0.510023</td>\n",
       "      <td>0.542298</td>\n",
       "      <td>0.496036</td>\n",
       "      <td>769.000000</td>\n",
       "      <td>5386.310000</td>\n",
       "      <td>0.003000</td>\n",
       "      <td>1627.157652</td>\n",
       "      <td>3024.480000</td>\n",
       "      <td>935.120000</td>\n",
       "      <td>102.000000</td>\n",
       "    </tr>\n",
       "    <tr>\n",
       "      <th>75%</th>\n",
       "      <td>52.997000</td>\n",
       "      <td>-6.357067</td>\n",
       "      <td>-39.023621</td>\n",
       "      <td>0.000000</td>\n",
       "      <td>0.505000</td>\n",
       "      <td>0.507000</td>\n",
       "      <td>0.168000</td>\n",
       "      <td>0.153000</td>\n",
       "      <td>2.416667</td>\n",
       "      <td>4.079452</td>\n",
       "      <td>...</td>\n",
       "      <td>0.582701</td>\n",
       "      <td>0.898052</td>\n",
       "      <td>0.522576</td>\n",
       "      <td>1747.500000</td>\n",
       "      <td>9601.390000</td>\n",
       "      <td>0.421000</td>\n",
       "      <td>1820.670284</td>\n",
       "      <td>5217.670000</td>\n",
       "      <td>2260.125000</td>\n",
       "      <td>102.000000</td>\n",
       "    </tr>\n",
       "    <tr>\n",
       "      <th>max</th>\n",
       "      <td>105.477000</td>\n",
       "      <td>4.602823</td>\n",
       "      <td>-32.429516</td>\n",
       "      <td>4.000000</td>\n",
       "      <td>1.500000</td>\n",
       "      <td>1.000000</td>\n",
       "      <td>1.700000</td>\n",
       "      <td>1.000000</td>\n",
       "      <td>15.999999</td>\n",
       "      <td>8.999999</td>\n",
       "      <td>...</td>\n",
       "      <td>0.920685</td>\n",
       "      <td>1.000000</td>\n",
       "      <td>0.910865</td>\n",
       "      <td>17374.940000</td>\n",
       "      <td>26523.920000</td>\n",
       "      <td>1.000000</td>\n",
       "      <td>33954.140000</td>\n",
       "      <td>33954.140000</td>\n",
       "      <td>17229.200000</td>\n",
       "      <td>102.000000</td>\n",
       "    </tr>\n",
       "  </tbody>\n",
       "</table>\n",
       "<p>8 rows × 35 columns</p>\n",
       "</div>"
      ],
      "text/plain": [
       "               IDADE           VAR6           VAR7         VAR11  \\\n",
       "count  107040.000000  117394.000000  117394.000000  74488.000000   \n",
       "mean       42.125255     -14.411389     -45.903480      0.235917   \n",
       "std        15.198476       8.995077       7.529788      0.625609   \n",
       "min        18.014000     -33.521563     -72.900276     -4.000000   \n",
       "25%        30.057250     -22.842778     -49.903564      0.000000   \n",
       "50%        39.867000     -13.010590     -46.574908      0.000000   \n",
       "75%        52.997000      -6.357067     -39.023621      0.000000   \n",
       "max       105.477000       4.602823     -32.429516      4.000000   \n",
       "\n",
       "              VAR12         VAR13         VAR14         VAR15         VAR16  \\\n",
       "count  65724.000000  15530.000000  95197.000000  58269.000000  44981.000000   \n",
       "mean       0.290241      0.313850      0.241245      0.185754      2.044374   \n",
       "std        0.308937      0.241229      0.262687      0.195320      3.170869   \n",
       "min        0.000000      0.000000      0.000000      0.000000      0.083333   \n",
       "25%        0.055000      0.056000      0.105000      0.078000      0.250000   \n",
       "50%        0.159000      0.318000      0.140000      0.112000      0.833333   \n",
       "75%        0.505000      0.507000      0.168000      0.153000      2.416667   \n",
       "max        1.500000      1.000000      1.700000      1.000000     15.999999   \n",
       "\n",
       "              VAR17  ...          VAR40          VAR41          VAR42  \\\n",
       "count  15530.000000  ...  117466.000000  117811.000000  107048.000000   \n",
       "mean       2.132795  ...       0.531287       0.631175       0.504619   \n",
       "std        2.171140  ...       0.115968       0.222607       0.069614   \n",
       "min        0.002740  ...       0.208688       0.000000       0.006658   \n",
       "25%        0.493151  ...       0.447559       0.440572       0.463579   \n",
       "50%        0.816438  ...       0.510023       0.542298       0.496036   \n",
       "75%        4.079452  ...       0.582701       0.898052       0.522576   \n",
       "max        8.999999  ...       0.920685       1.000000       0.910865   \n",
       "\n",
       "              VAR44         VAR46          VAR47         VAR141        VAR145  \\\n",
       "count    401.000000    294.000000  120750.000000  120750.000000    679.000000   \n",
       "mean    1691.738429   6984.218469       0.256543    1854.833006   4018.743785   \n",
       "std     2177.830516   4621.964093       0.406746     893.999792   3700.836248   \n",
       "min        0.000000      0.000000       0.000000       0.000000      0.000000   \n",
       "25%      642.000000   3888.995000       0.000000    1513.227400   1633.195000   \n",
       "50%      769.000000   5386.310000       0.003000    1627.157652   3024.480000   \n",
       "75%     1747.500000   9601.390000       0.421000    1820.670284   5217.670000   \n",
       "max    17374.940000  26523.920000       1.000000   33954.140000  33954.140000   \n",
       "\n",
       "             VAR146         VAR147  \n",
       "count    168.000000  120750.000000  \n",
       "mean    1942.649762     101.841656  \n",
       "std     3143.757850       0.540016  \n",
       "min        0.000000     100.000000  \n",
       "25%        0.000000     102.000000  \n",
       "50%      935.120000     102.000000  \n",
       "75%     2260.125000     102.000000  \n",
       "max    17229.200000     102.000000  \n",
       "\n",
       "[8 rows x 35 columns]"
      ]
     },
     "execution_count": 12,
     "metadata": {},
     "output_type": "execute_result"
    }
   ],
   "source": [
    "# Mostrando a amplitude das variáveis numéricas\n",
    "df_train[vars_numericas].describe()"
   ]
  },
  {
   "cell_type": "markdown",
   "metadata": {},
   "source": [
    "### VARIÁVEIS ID E TARGET\n",
    "\n",
    "Conclusões: \n",
    "1. Cada cliente é único, não há IDs repetidos\n",
    "2. Os dados estão desbalanceados em termos de target\n",
    "3. A taxa de concessão parece ser constante (aproximadamente 4 em cada 5 clientes), mas algo parece ter acontecido em março de 2017, quando o número de IDs atingiu um pico localizado e a taxa de concessão caiu de 80% para 50% (valores aproximados)."
   ]
  },
  {
   "cell_type": "code",
   "execution_count": 13,
   "metadata": {},
   "outputs": [
    {
     "data": {
      "text/plain": [
       "120750"
      ]
     },
     "execution_count": 13,
     "metadata": {},
     "output_type": "execute_result"
    }
   ],
   "source": [
    "# Não existem valores repetidos de ID\n",
    "df_train['ID'].nunique()"
   ]
  },
  {
   "cell_type": "code",
   "execution_count": 14,
   "metadata": {},
   "outputs": [
    {
     "name": "stdout",
     "output_type": "stream",
     "text": [
      "Distribuição da variável target:\n"
     ]
    },
    {
     "data": {
      "text/plain": [
       "TARGET\n",
       "0    0.754973\n",
       "1    0.245027\n",
       "Name: proportion, dtype: float64"
      ]
     },
     "execution_count": 14,
     "metadata": {},
     "output_type": "execute_result"
    }
   ],
   "source": [
    "# Variável target\n",
    "print(f'Distribuição da variável target:')\n",
    "df_train['TARGET'].value_counts(normalize=True)"
   ]
  },
  {
   "cell_type": "code",
   "execution_count": 15,
   "metadata": {},
   "outputs": [
    {
     "data": {
      "text/plain": [
       "ref_date_trunc\n",
       "2017-01-01    3441\n",
       "2017-02-01    3087\n",
       "2017-03-01    7950\n",
       "2017-04-01    2795\n",
       "2017-05-01    2971\n",
       "2017-06-01    2964\n",
       "2017-07-01    3084\n",
       "2017-08-01    3295\n",
       "Name: TARGET, dtype: int64"
      ]
     },
     "metadata": {},
     "output_type": "display_data"
    },
    {
     "data": {
      "text/plain": [
       "<Axes: xlabel='ref_date_trunc'>"
      ]
     },
     "execution_count": 15,
     "metadata": {},
     "output_type": "execute_result"
    },
    {
     "data": {
      "image/png": "[encoded data removed]",
      "text/plain": [
       "<Figure size 1000x600 with 1 Axes>"
      ]
     },
     "metadata": {},
     "output_type": "display_data"
    }
   ],
   "source": [
    "# Distribuição da variável target ao longo do tempo\n",
    "df_train['ref_date_trunc'] = pd.to_datetime(df_train['REF_DATE']).dt.strftime('%Y-%m-01')\n",
    "\n",
    "display(df_train[df_train['TARGET'] == 1].groupby('ref_date_trunc')['TARGET'].count())\n",
    "\n",
    "target_counts = df_train[df_train['TARGET'] == 1].groupby('ref_date_trunc')['TARGET'].count()\n",
    "plt.figure(figsize=(10, 6))\n",
    "sns.lineplot(x=target_counts.index, y=target_counts.values)"
   ]
  },
  {
   "cell_type": "code",
   "execution_count": 16,
   "metadata": {},
   "outputs": [
    {
     "data": {
      "text/plain": [
       "ref_date_trunc\n",
       "2017-01-01    0.236706\n",
       "2017-02-01    0.225378\n",
       "2017-03-01    0.495451\n",
       "2017-04-01    0.207037\n",
       "2017-05-01    0.208931\n",
       "2017-06-01    0.196852\n",
       "2017-07-01    0.187534\n",
       "2017-08-01    0.191037\n",
       "Name: TARGET, dtype: float64"
      ]
     },
     "metadata": {},
     "output_type": "display_data"
    }
   ],
   "source": [
    "# Distribuição da variável target ao longo do tempo\n",
    "display(df_train.groupby('ref_date_trunc')['TARGET'].mean())"
   ]
  },
  {
   "cell_type": "code",
   "execution_count": 17,
   "metadata": {},
   "outputs": [
    {
     "data": {
      "text/plain": [
       "ref_date_trunc\n",
       "2017-01-01    14537\n",
       "2017-02-01    13697\n",
       "2017-03-01    16046\n",
       "2017-04-01    13500\n",
       "2017-05-01    14220\n",
       "2017-06-01    15057\n",
       "2017-07-01    16445\n",
       "2017-08-01    17248\n",
       "Name: ID, dtype: int64"
      ]
     },
     "metadata": {},
     "output_type": "display_data"
    },
    {
     "data": {
      "text/plain": [
       "<Axes: xlabel='ref_date_trunc'>"
      ]
     },
     "execution_count": 17,
     "metadata": {},
     "output_type": "execute_result"
    },
    {
     "data": {
      "image/png": "[encoded data removed]",
      "text/plain": [
       "<Figure size 1000x600 with 1 Axes>"
      ]
     },
     "metadata": {},
     "output_type": "display_data"
    }
   ],
   "source": [
    "# Distribuição da variável ID ao longo do tempo\n",
    "display(df_train.groupby('ref_date_trunc')['ID'].count())\n",
    "\n",
    "target_counts = df_train.groupby('ref_date_trunc')['ID'].count()\n",
    "\n",
    "plt.figure(figsize=(10, 6))  # Optional: set the size of the plot\n",
    "sns.lineplot(x=target_counts.index, y=target_counts.values)"
   ]
  },
  {
   "cell_type": "markdown",
   "metadata": {},
   "source": [
    "### PLOT DE VARIÁVEIS\n",
    "\n",
    "Como as variáveis estão mascaradas e não há muita interpretação, os códigos abaixo apenas ilustram o tipo de análise por gráfico que pode ser feito."
   ]
  },
  {
   "cell_type": "markdown",
   "metadata": {},
   "source": [
    "#### VARIÁVEIS CATEGÓRICAS"
   ]
  },
  {
   "cell_type": "code",
   "execution_count": 18,
   "metadata": {},
   "outputs": [
    {
     "name": "stderr",
     "output_type": "stream",
     "text": [
      "/var/folders/nz/py9tl9994k5dyc2gp_kb7nt80000gn/T/ipykernel_5507/661198602.py:4: FutureWarning: \n",
      "\n",
      "Passing `palette` without assigning `hue` is deprecated and will be removed in v0.14.0. Assign the `x` variable to `hue` and set `legend=False` for the same effect.\n",
      "\n",
      "  sns.countplot(data=df, x=var, palette='Set2')\n"
     ]
    },
    {
     "data": {
      "image/png": "[encoded data removed]",
      "text/plain": [
       "<Figure size 800x600 with 1 Axes>"
      ]
     },
     "metadata": {},
     "output_type": "display_data"
    },
    {
     "name": "stderr",
     "output_type": "stream",
     "text": [
      "/var/folders/nz/py9tl9994k5dyc2gp_kb7nt80000gn/T/ipykernel_5507/661198602.py:4: FutureWarning: \n",
      "\n",
      "Passing `palette` without assigning `hue` is deprecated and will be removed in v0.14.0. Assign the `x` variable to `hue` and set `legend=False` for the same effect.\n",
      "\n",
      "  sns.countplot(data=df, x=var, palette='Set2')\n"
     ]
    },
    {
     "data": {
      "image/png": "[encoded data removed]",
      "text/plain": [
       "<Figure size 800x600 with 1 Axes>"
      ]
     },
     "metadata": {},
     "output_type": "display_data"
    },
    {
     "name": "stderr",
     "output_type": "stream",
     "text": [
      "/var/folders/nz/py9tl9994k5dyc2gp_kb7nt80000gn/T/ipykernel_5507/661198602.py:4: FutureWarning: \n",
      "\n",
      "Passing `palette` without assigning `hue` is deprecated and will be removed in v0.14.0. Assign the `x` variable to `hue` and set `legend=False` for the same effect.\n",
      "\n",
      "  sns.countplot(data=df, x=var, palette='Set2')\n"
     ]
    },
    {
     "data": {
      "image/png": "[encoded data removed]",
      "text/plain": [
       "<Figure size 800x600 with 1 Axes>"
      ]
     },
     "metadata": {},
     "output_type": "display_data"
    }
   ],
   "source": [
    "# Loop para gerar o gráfico de cada variável\n",
    "for var in vars_categoricas[:3]:\n",
    "    plot_categorical_distribution(df_train, var)"
   ]
  },
  {
   "cell_type": "markdown",
   "metadata": {},
   "source": [
    "#### VARIÁVEIS NUMÉRICAS"
   ]
  },
  {
   "cell_type": "code",
   "execution_count": 19,
   "metadata": {},
   "outputs": [
    {
     "data": {
      "image/png": "[encoded data removed]",
      "text/plain": [
       "<Figure size 800x600 with 1 Axes>"
      ]
     },
     "metadata": {},
     "output_type": "display_data"
    },
    {
     "data": {
      "image/png": "[encoded data removed]",
      "text/plain": [
       "<Figure size 800x600 with 1 Axes>"
      ]
     },
     "metadata": {},
     "output_type": "display_data"
    },
    {
     "data": {
      "image/png": "[encoded data removed]",
      "text/plain": [
       "<Figure size 800x600 with 1 Axes>"
      ]
     },
     "metadata": {},
     "output_type": "display_data"
    }
   ],
   "source": [
    "# Loop para gerar o gráfico de cada variável\n",
    "for var in vars_numericas[:3]:\n",
    "    plot_numerical_distribution(df_train, var)"
   ]
  },
  {
   "cell_type": "markdown",
   "metadata": {},
   "source": [
    "### NULOS, NEGATIVOS E INFINITO\n",
    "\n",
    "Conclusões:\n",
    "1. Não é possível saber se os valores negativos estão incorretos, visto que os nomes dos campos estão mascarados\n",
    "2. Não há valores mais ou menos infinito\n",
    "3. Aparentemente, boa parte dos campos tem valores nulos. Com exceção do campo IDADE, todos os demais campos estão mascarados. Assim, os campos numéricos serão preenchidos com a mediana e os campos categóricos com a moda"
   ]
  },
  {
   "cell_type": "code",
   "execution_count": 20,
   "metadata": {},
   "outputs": [
    {
     "name": "stdout",
     "output_type": "stream",
     "text": [
      "Valores negativos em VAR6: 115892\n",
      "Valores negativos em VAR7: 117394\n",
      "Valores negativos em VAR11: 583\n"
     ]
    }
   ],
   "source": [
    "# Lista de variáveis com valores negativos\n",
    "lst_vars_with_negative = list()\n",
    "\n",
    "# Loop que checa as colunas com valores negativos\n",
    "for column in df_train.columns:\n",
    "    if(df_train[column].dtype != 'object'):\n",
    "        if((df_train[column] < 0).sum() > 0): \n",
    "            print(f\"Valores negativos em {column}: {(df_train[column] < 0).sum()}\")\n",
    "            lst_vars_with_negative.append(column)"
   ]
  },
  {
   "cell_type": "code",
   "execution_count": 21,
   "metadata": {},
   "outputs": [],
   "source": [
    "# Lista de variáveis com valores infinitos\n",
    "lst_vars_with_inf = list()\n",
    "\n",
    "# Loop que checa as colunas com valores nulos\n",
    "for column in df_train.columns:\n",
    "    if(df_train[column].dtype != 'object'):\n",
    "        if((np.isneginf(df_train[column]).sum() > 0) | (np.isposinf(df_train[column]).sum() > 0)): \n",
    "            print(f\"Valores infiinitos em {column}: {np.isneginf(df_train[column]).sum() + np.isposinf(df_train[column]).sum()}\")\n",
    "            lst_vars_with_inf.append(column)"
   ]
  },
  {
   "cell_type": "code",
   "execution_count": 22,
   "metadata": {},
   "outputs": [
    {
     "name": "stdout",
     "output_type": "stream",
     "text": [
      "Nulos em VAR2: 14619\n",
      "Nulos em IDADE: 13710\n",
      "Nulos em VAR4: 120548\n",
      "Nulos em VAR5: 3356\n",
      "Nulos em VAR6: 3356\n",
      "Nulos em VAR7: 3356\n",
      "Nulos em VAR8: 53110\n",
      "Nulos em VAR9: 3303\n",
      "Nulos em VAR10: 3276\n",
      "Nulos em VAR11: 46262\n",
      "Nulos em VAR12: 55026\n",
      "Nulos em VAR13: 105220\n",
      "Nulos em VAR14: 25553\n",
      "Nulos em VAR15: 62481\n",
      "Nulos em VAR16: 75769\n",
      "Nulos em VAR17: 105220\n",
      "Nulos em VAR18: 25553\n",
      "Nulos em VAR19: 62481\n",
      "Nulos em VAR20: 109397\n",
      "Nulos em VAR21: 105157\n",
      "Nulos em VAR22: 62421\n",
      "Nulos em VAR23: 105220\n",
      "Nulos em VAR24: 23465\n",
      "Nulos em VAR25: 62481\n",
      "Nulos em VAR26: 119742\n",
      "Nulos em VAR27: 119708\n",
      "Nulos em VAR28: 108031\n",
      "Nulos em VAR29: 96026\n",
      "Nulos em VAR30: 108031\n",
      "Nulos em VAR31: 116833\n",
      "Nulos em VAR32: 78698\n",
      "Nulos em VAR33: 112129\n",
      "Nulos em VAR34: 112129\n",
      "Nulos em VAR35: 94654\n",
      "Nulos em VAR36: 95706\n",
      "Nulos em VAR37: 95706\n",
      "Nulos em VAR38: 119981\n",
      "Nulos em VAR39: 71\n",
      "Nulos em VAR40: 3284\n",
      "Nulos em VAR41: 2939\n",
      "Nulos em VAR42: 13702\n",
      "Nulos em VAR43: 120349\n",
      "Nulos em VAR44: 120349\n",
      "Nulos em VAR45: 120456\n",
      "Nulos em VAR46: 120456\n",
      "Nulos em VAR48: 112338\n",
      "Nulos em VAR49: 13706\n",
      "Nulos em VAR50: 13706\n",
      "Nulos em VAR51: 13706\n",
      "Nulos em VAR52: 13706\n",
      "Nulos em VAR53: 13706\n",
      "Nulos em VAR54: 13706\n",
      "Nulos em VAR55: 13706\n",
      "Nulos em VAR56: 13706\n",
      "Nulos em VAR57: 13706\n",
      "Nulos em VAR58: 13706\n",
      "Nulos em VAR59: 13706\n",
      "Nulos em VAR60: 13706\n",
      "Nulos em VAR61: 13706\n",
      "Nulos em VAR62: 13706\n",
      "Nulos em VAR63: 13706\n",
      "Nulos em VAR64: 13706\n",
      "Nulos em VAR65: 13706\n",
      "Nulos em VAR66: 2939\n",
      "Nulos em VAR67: 2939\n",
      "Nulos em VAR68: 2939\n",
      "Nulos em VAR69: 2939\n",
      "Nulos em VAR70: 2939\n",
      "Nulos em VAR71: 2939\n",
      "Nulos em VAR72: 2939\n",
      "Nulos em VAR73: 2939\n",
      "Nulos em VAR74: 2939\n",
      "Nulos em VAR75: 2939\n",
      "Nulos em VAR76: 2939\n",
      "Nulos em VAR77: 2939\n",
      "Nulos em VAR78: 2939\n",
      "Nulos em VAR79: 2939\n",
      "Nulos em VAR80: 2939\n",
      "Nulos em VAR81: 2939\n",
      "Nulos em VAR82: 2939\n",
      "Nulos em VAR83: 2939\n",
      "Nulos em VAR84: 2939\n",
      "Nulos em VAR85: 2939\n",
      "Nulos em VAR86: 2939\n",
      "Nulos em VAR87: 2939\n",
      "Nulos em VAR88: 2939\n",
      "Nulos em VAR89: 2939\n",
      "Nulos em VAR90: 2939\n",
      "Nulos em VAR91: 2939\n",
      "Nulos em VAR92: 2939\n",
      "Nulos em VAR93: 2939\n",
      "Nulos em VAR94: 2939\n",
      "Nulos em VAR95: 2939\n",
      "Nulos em VAR96: 2939\n",
      "Nulos em VAR97: 2939\n",
      "Nulos em VAR98: 2939\n",
      "Nulos em VAR99: 2939\n",
      "Nulos em VAR100: 2939\n",
      "Nulos em VAR101: 2939\n",
      "Nulos em VAR102: 2939\n",
      "Nulos em VAR103: 2939\n",
      "Nulos em VAR104: 2939\n",
      "Nulos em VAR105: 2939\n",
      "Nulos em VAR106: 2939\n",
      "Nulos em VAR107: 2939\n",
      "Nulos em VAR108: 2939\n",
      "Nulos em VAR109: 2939\n",
      "Nulos em VAR110: 2939\n",
      "Nulos em VAR111: 2939\n",
      "Nulos em VAR112: 2939\n",
      "Nulos em VAR113: 2939\n",
      "Nulos em VAR114: 2939\n",
      "Nulos em VAR115: 2939\n",
      "Nulos em VAR116: 2939\n",
      "Nulos em VAR117: 2939\n",
      "Nulos em VAR118: 2939\n",
      "Nulos em VAR119: 2939\n",
      "Nulos em VAR120: 2939\n",
      "Nulos em VAR121: 2939\n",
      "Nulos em VAR122: 2939\n",
      "Nulos em VAR123: 2939\n",
      "Nulos em VAR124: 2939\n",
      "Nulos em VAR125: 2939\n",
      "Nulos em VAR126: 2939\n",
      "Nulos em VAR127: 2939\n",
      "Nulos em VAR128: 2939\n",
      "Nulos em VAR129: 2939\n",
      "Nulos em VAR130: 2939\n",
      "Nulos em VAR131: 2939\n",
      "Nulos em VAR132: 2939\n",
      "Nulos em VAR133: 2939\n",
      "Nulos em VAR134: 2939\n",
      "Nulos em VAR135: 2939\n",
      "Nulos em VAR136: 2939\n",
      "Nulos em VAR137: 2939\n",
      "Nulos em VAR138: 2939\n",
      "Nulos em VAR139: 2939\n",
      "Nulos em VAR140: 2939\n",
      "Nulos em VAR142: 165\n",
      "Nulos em VAR143: 119174\n",
      "Nulos em VAR144: 119174\n",
      "Nulos em VAR145: 120071\n",
      "Nulos em VAR146: 120582\n"
     ]
    }
   ],
   "source": [
    "# Lista de variáveis com valores nulos\n",
    "lst_vars_with_null = list()\n",
    "\n",
    "# Loop que checa as colunas com valores nulos\n",
    "for column in df_train.columns:\n",
    "    if(df_train[column].isnull().sum() > 0): \n",
    "        print(f\"Nulos em {column}: {df_train[column].isnull().sum()}\")\n",
    "        lst_vars_with_null.append(column)"
   ]
  },
  {
   "cell_type": "code",
   "execution_count": 23,
   "metadata": {},
   "outputs": [],
   "source": [
    "# Cálculo das modas e medianas para preencher os valores nulos\n",
    "mode_values = df_train[vars_categoricas].mode().iloc[0]\n",
    "median_values = df_train[vars_numericas].median()\n",
    "\n",
    "# Preenchimento de valores nulos\n",
    "df_train[vars_categoricas] = df_train[vars_categoricas].fillna(mode_values)\n",
    "df_train[vars_numericas] = df_train[vars_numericas].fillna(median_values)\n",
    "df_test[vars_categoricas] = df_test[vars_categoricas].fillna(mode_values)\n",
    "df_test[vars_numericas] = df_test[vars_numericas].fillna(median_values)"
   ]
  },
  {
   "cell_type": "markdown",
   "metadata": {},
   "source": [
    "### VARIÁVEIS CATEGÓRICAS\n",
    "\n",
    "Conclusão:\n",
    "1. Remover as VAR148 e VAR149, cujo conteúdo não é interessante para modelagem\n",
    "2. Algumas variáveis tem apenas um valor - essas serão removidas nos métodos de feature selection\n",
    "3. As variáveis onde existe uma noção clara de escalonamento, como a VAR10, receberão label encoding. \n",
    "4. As variáveis sim e não, serão substituídas por 1 e 0. \n",
    "5. As variáveis que são preenchidas de outras formas receberão one hot encoding."
   ]
  },
  {
   "cell_type": "markdown",
   "metadata": {},
   "source": []
  },
  {
   "cell_type": "code",
   "execution_count": 24,
   "metadata": {},
   "outputs": [
    {
     "data": {
      "text/plain": [
       "VAR2\n",
       "F    74750\n",
       "M    46000\n",
       "Name: count, dtype: int64"
      ]
     },
     "metadata": {},
     "output_type": "display_data"
    },
    {
     "data": {
      "text/plain": [
       "VAR4\n",
       "S    120750\n",
       "Name: count, dtype: int64"
      ]
     },
     "metadata": {},
     "output_type": "display_data"
    },
    {
     "data": {
      "text/plain": [
       "VAR5\n",
       "SP    22435\n",
       "BA    10306\n",
       "PA    10159\n",
       "RS     8410\n",
       "CE     8262\n",
       "MG     7757\n",
       "PE     7056\n",
       "RJ     4617\n",
       "AM     4145\n",
       "RN     3800\n",
       "PR     3668\n",
       "PB     3085\n",
       "AL     2800\n",
       "ES     2765\n",
       "MS     2515\n",
       "GO     2369\n",
       "AC     2304\n",
       "MA     2083\n",
       "MT     2015\n",
       "SC     2013\n",
       "PI     1858\n",
       "RO     1731\n",
       "AP     1292\n",
       "SE     1175\n",
       "DF      790\n",
       "TO      767\n",
       "RR      573\n",
       "Name: count, dtype: int64"
      ]
     },
     "metadata": {},
     "output_type": "display_data"
    },
    {
     "data": {
      "text/plain": [
       "VAR8\n",
       "E    108038\n",
       "D      9130\n",
       "C      2972\n",
       "B       449\n",
       "A       161\n",
       "Name: count, dtype: int64"
      ]
     },
     "metadata": {},
     "output_type": "display_data"
    },
    {
     "data": {
      "text/plain": [
       "VAR9\n",
       "E    119433\n",
       "C       726\n",
       "D       537\n",
       "B        47\n",
       "A         7\n",
       "Name: count, dtype: int64"
      ]
     },
     "metadata": {},
     "output_type": "display_data"
    },
    {
     "data": {
      "text/plain": [
       "VAR10\n",
       "MEDIA         43533\n",
       "ALTISSIMA     37260\n",
       "ALTA          20842\n",
       "BAIXA         13577\n",
       "BAIXISSIMA     5538\n",
       "Name: count, dtype: int64"
      ]
     },
     "metadata": {},
     "output_type": "display_data"
    },
    {
     "data": {
      "text/plain": [
       "VAR31\n",
       "BANCO DO BRASIL                         118270\n",
       "CAIXA ECONOMICA FEDERAL                    779\n",
       "BANCO BRADESCO                             776\n",
       "BANCO ITAU                                 471\n",
       "BANCO SANTANDER                            265\n",
       "BANCO DO ESTADO DO RIO GRANDE DO SUL       137\n",
       "HSBC BANK BRASIL                            52\n",
       "Name: count, dtype: int64"
      ]
     },
     "metadata": {},
     "output_type": "display_data"
    },
    {
     "data": {
      "text/plain": [
       "VAR32\n",
       "DECLARACAO NAO ENVIADA         113671\n",
       "CREDITADA                        3667\n",
       "SALDO INEXISTENTE                1669\n",
       "IMPOSTO A PAGAR                  1229\n",
       "DECLARACAO ENVIADA                415\n",
       "DEVOLVIDA A RECEITA FEDERAL        61\n",
       "AGUARDANDO REAGENDAMENTO           38\n",
       "Name: count, dtype: int64"
      ]
     },
     "metadata": {},
     "output_type": "display_data"
    },
    {
     "data": {
      "text/plain": [
       "VAR33\n",
       "S    120750\n",
       "Name: count, dtype: int64"
      ]
     },
     "metadata": {},
     "output_type": "display_data"
    },
    {
     "data": {
      "text/plain": [
       "VAR34\n",
       "PMDB       113171\n",
       "PT            832\n",
       "PSDB          800\n",
       "PDT           691\n",
       "PP            639\n",
       "PTB           594\n",
       "DEM           526\n",
       "PR            408\n",
       "PSB           351\n",
       "PRB           326\n",
       "PC DO B       251\n",
       "PPS           230\n",
       "PSC           227\n",
       "PV            211\n",
       "PMN           147\n",
       "PSD           145\n",
       "PSL           132\n",
       "PSDC          123\n",
       "PHS           113\n",
       "PRP           112\n",
       "PSOL          112\n",
       "PT DO B       108\n",
       "PTC           100\n",
       "PTN            91\n",
       "SD             82\n",
       "PRTB           67\n",
       "PROS           52\n",
       "PEN            46\n",
       "PPL            30\n",
       "PCB            15\n",
       "PSTU            8\n",
       "REDE            7\n",
       "PCO             2\n",
       "NOVO            1\n",
       "Name: count, dtype: int64"
      ]
     },
     "metadata": {},
     "output_type": "display_data"
    },
    {
     "data": {
      "text/plain": [
       "VAR35\n",
       "S    120750\n",
       "Name: count, dtype: int64"
      ]
     },
     "metadata": {},
     "output_type": "display_data"
    },
    {
     "data": {
      "text/plain": [
       "VAR36\n",
       "S    120750\n",
       "Name: count, dtype: int64"
      ]
     },
     "metadata": {},
     "output_type": "display_data"
    },
    {
     "data": {
      "text/plain": [
       "VAR38\n",
       "S    120750\n",
       "Name: count, dtype: int64"
      ]
     },
     "metadata": {},
     "output_type": "display_data"
    },
    {
     "data": {
      "text/plain": [
       "VAR43\n",
       "S    120750\n",
       "Name: count, dtype: int64"
      ]
     },
     "metadata": {},
     "output_type": "display_data"
    },
    {
     "data": {
      "text/plain": [
       "VAR45\n",
       "S    120750\n",
       "Name: count, dtype: int64"
      ]
     },
     "metadata": {},
     "output_type": "display_data"
    },
    {
     "data": {
      "text/plain": [
       "VAR48\n",
       "N    116933\n",
       "S      3817\n",
       "Name: count, dtype: int64"
      ]
     },
     "metadata": {},
     "output_type": "display_data"
    },
    {
     "data": {
      "text/plain": [
       "VAR49\n",
       "S    112868\n",
       "N      7882\n",
       "Name: count, dtype: int64"
      ]
     },
     "metadata": {},
     "output_type": "display_data"
    },
    {
     "data": {
      "text/plain": [
       "VAR50\n",
       "N    91021\n",
       "S    29729\n",
       "Name: count, dtype: int64"
      ]
     },
     "metadata": {},
     "output_type": "display_data"
    },
    {
     "data": {
      "text/plain": [
       "VAR51\n",
       "N    117458\n",
       "S      3292\n",
       "Name: count, dtype: int64"
      ]
     },
     "metadata": {},
     "output_type": "display_data"
    },
    {
     "data": {
      "text/plain": [
       "VAR52\n",
       "N    112702\n",
       "S      8048\n",
       "Name: count, dtype: int64"
      ]
     },
     "metadata": {},
     "output_type": "display_data"
    },
    {
     "data": {
      "text/plain": [
       "VAR53\n",
       "N    118547\n",
       "S      2203\n",
       "Name: count, dtype: int64"
      ]
     },
     "metadata": {},
     "output_type": "display_data"
    },
    {
     "data": {
      "text/plain": [
       "VAR54\n",
       "N    117435\n",
       "S      3315\n",
       "Name: count, dtype: int64"
      ]
     },
     "metadata": {},
     "output_type": "display_data"
    },
    {
     "data": {
      "text/plain": [
       "VAR55\n",
       "N    114087\n",
       "S      6663\n",
       "Name: count, dtype: int64"
      ]
     },
     "metadata": {},
     "output_type": "display_data"
    },
    {
     "data": {
      "text/plain": [
       "VAR56\n",
       "N    103216\n",
       "S     17534\n",
       "Name: count, dtype: int64"
      ]
     },
     "metadata": {},
     "output_type": "display_data"
    },
    {
     "data": {
      "text/plain": [
       "VAR57\n",
       "N    118897\n",
       "S      1853\n",
       "Name: count, dtype: int64"
      ]
     },
     "metadata": {},
     "output_type": "display_data"
    },
    {
     "data": {
      "text/plain": [
       "VAR58\n",
       "N    119504\n",
       "S      1246\n",
       "Name: count, dtype: int64"
      ]
     },
     "metadata": {},
     "output_type": "display_data"
    },
    {
     "data": {
      "text/plain": [
       "VAR59\n",
       "N    116786\n",
       "S      3964\n",
       "Name: count, dtype: int64"
      ]
     },
     "metadata": {},
     "output_type": "display_data"
    },
    {
     "data": {
      "text/plain": [
       "VAR60\n",
       "N    114361\n",
       "S      6389\n",
       "Name: count, dtype: int64"
      ]
     },
     "metadata": {},
     "output_type": "display_data"
    },
    {
     "data": {
      "text/plain": [
       "VAR61\n",
       "N    106622\n",
       "S     14128\n",
       "Name: count, dtype: int64"
      ]
     },
     "metadata": {},
     "output_type": "display_data"
    },
    {
     "data": {
      "text/plain": [
       "VAR62\n",
       "N    117113\n",
       "S      3637\n",
       "Name: count, dtype: int64"
      ]
     },
     "metadata": {},
     "output_type": "display_data"
    },
    {
     "data": {
      "text/plain": [
       "VAR63\n",
       "N    109949\n",
       "S     10801\n",
       "Name: count, dtype: int64"
      ]
     },
     "metadata": {},
     "output_type": "display_data"
    },
    {
     "data": {
      "text/plain": [
       "VAR64\n",
       "N    114196\n",
       "S      6554\n",
       "Name: count, dtype: int64"
      ]
     },
     "metadata": {},
     "output_type": "display_data"
    },
    {
     "data": {
      "text/plain": [
       "VAR65\n",
       "N    102397\n",
       "S     18353\n",
       "Name: count, dtype: int64"
      ]
     },
     "metadata": {},
     "output_type": "display_data"
    },
    {
     "data": {
      "text/plain": [
       "VAR66\n",
       "MEDIA         37809\n",
       "BAIXISSIMA    32366\n",
       "ALTA          27288\n",
       "ALTISSIMA     23287\n",
       "Name: count, dtype: int64"
      ]
     },
     "metadata": {},
     "output_type": "display_data"
    },
    {
     "data": {
      "text/plain": [
       "VAR67\n",
       "BAIXISSIMA    77875\n",
       "ALTISSIMA     25899\n",
       "ALTA          16976\n",
       "Name: count, dtype: int64"
      ]
     },
     "metadata": {},
     "output_type": "display_data"
    },
    {
     "data": {
      "text/plain": [
       "VAR68\n",
       "BAIXISSIMA    50768\n",
       "ALTA          29591\n",
       "MEDIA         21427\n",
       "ALTISSIMA     18964\n",
       "Name: count, dtype: int64"
      ]
     },
     "metadata": {},
     "output_type": "display_data"
    },
    {
     "data": {
      "text/plain": [
       "VAR69\n",
       "BAIXISSIMA    68153\n",
       "ALTA          29546\n",
       "ALTISSIMA     14415\n",
       "MEDIA          8636\n",
       "Name: count, dtype: int64"
      ]
     },
     "metadata": {},
     "output_type": "display_data"
    },
    {
     "data": {
      "text/plain": [
       "VAR70\n",
       "MEDIA         41826\n",
       "BAIXISSIMA    29369\n",
       "ALTA          27906\n",
       "ALTISSIMA     21649\n",
       "Name: count, dtype: int64"
      ]
     },
     "metadata": {},
     "output_type": "display_data"
    },
    {
     "data": {
      "text/plain": [
       "VAR71\n",
       "MEDIA         34129\n",
       "ALTA          29947\n",
       "ALTISSIMA     26824\n",
       "BAIXISSIMA    23980\n",
       "BAIXA          5870\n",
       "Name: count, dtype: int64"
      ]
     },
     "metadata": {},
     "output_type": "display_data"
    },
    {
     "data": {
      "text/plain": [
       "VAR72\n",
       "BAIXISSIMA    55760\n",
       "ALTA          30482\n",
       "MEDIA         18258\n",
       "ALTISSIMA     16250\n",
       "Name: count, dtype: int64"
      ]
     },
     "metadata": {},
     "output_type": "display_data"
    },
    {
     "data": {
      "text/plain": [
       "VAR73\n",
       "BAIXISSIMA    54600\n",
       "ALTA          30410\n",
       "ALTISSIMA     18624\n",
       "MEDIA         17116\n",
       "Name: count, dtype: int64"
      ]
     },
     "metadata": {},
     "output_type": "display_data"
    },
    {
     "data": {
      "text/plain": [
       "VAR74\n",
       "MEDIA         36246\n",
       "BAIXISSIMA    32654\n",
       "ALTA          26409\n",
       "ALTISSIMA     25441\n",
       "Name: count, dtype: int64"
      ]
     },
     "metadata": {},
     "output_type": "display_data"
    },
    {
     "data": {
      "text/plain": [
       "VAR75\n",
       "BAIXISSIMA    37848\n",
       "MEDIA         33412\n",
       "ALTA          25364\n",
       "ALTISSIMA     24126\n",
       "Name: count, dtype: int64"
      ]
     },
     "metadata": {},
     "output_type": "display_data"
    },
    {
     "data": {
      "text/plain": [
       "VAR76\n",
       "ALTA          42888\n",
       "BAIXISSIMA    38211\n",
       "ALTISSIMA     22257\n",
       "MEDIA         17394\n",
       "Name: count, dtype: int64"
      ]
     },
     "metadata": {},
     "output_type": "display_data"
    },
    {
     "data": {
      "text/plain": [
       "VAR77\n",
       "BAIXISSIMA    57235\n",
       "ALTA          27569\n",
       "ALTISSIMA     18821\n",
       "MEDIA         17125\n",
       "Name: count, dtype: int64"
      ]
     },
     "metadata": {},
     "output_type": "display_data"
    },
    {
     "data": {
      "text/plain": [
       "VAR78\n",
       "BAIXISSIMA    40168\n",
       "MEDIA         33584\n",
       "ALTA          24975\n",
       "ALTISSIMA     22023\n",
       "Name: count, dtype: int64"
      ]
     },
     "metadata": {},
     "output_type": "display_data"
    },
    {
     "data": {
      "text/plain": [
       "VAR79\n",
       "BAIXISSIMA    53246\n",
       "ALTA          33755\n",
       "ALTISSIMA     18676\n",
       "MEDIA         15073\n",
       "Name: count, dtype: int64"
      ]
     },
     "metadata": {},
     "output_type": "display_data"
    },
    {
     "data": {
      "text/plain": [
       "VAR80\n",
       "BAIXISSIMA    59898\n",
       "ALTA          26700\n",
       "ALTISSIMA     19102\n",
       "MEDIA         15050\n",
       "Name: count, dtype: int64"
      ]
     },
     "metadata": {},
     "output_type": "display_data"
    },
    {
     "data": {
      "text/plain": [
       "VAR81\n",
       "ALTISSIMA     36953\n",
       "MEDIA         26580\n",
       "ALTA          24571\n",
       "BAIXA         17175\n",
       "BAIXISSIMA    15471\n",
       "Name: count, dtype: int64"
      ]
     },
     "metadata": {},
     "output_type": "display_data"
    },
    {
     "data": {
      "text/plain": [
       "VAR82\n",
       "BAIXISSIMA    65499\n",
       "ALTA          29722\n",
       "ALTISSIMA     25529\n",
       "Name: count, dtype: int64"
      ]
     },
     "metadata": {},
     "output_type": "display_data"
    },
    {
     "data": {
      "text/plain": [
       "VAR83\n",
       "BAIXISSIMA    51743\n",
       "ALTA          25963\n",
       "MEDIA         25662\n",
       "ALTISSIMA     17382\n",
       "Name: count, dtype: int64"
      ]
     },
     "metadata": {},
     "output_type": "display_data"
    },
    {
     "data": {
      "text/plain": [
       "VAR84\n",
       "BAIXISSIMA    65810\n",
       "ALTA          28177\n",
       "ALTISSIMA     25609\n",
       "MEDIA          1154\n",
       "Name: count, dtype: int64"
      ]
     },
     "metadata": {},
     "output_type": "display_data"
    },
    {
     "data": {
      "text/plain": [
       "VAR85\n",
       "BAIXISSIMA    44325\n",
       "ALTA          30812\n",
       "MEDIA         23267\n",
       "ALTISSIMA     22346\n",
       "Name: count, dtype: int64"
      ]
     },
     "metadata": {},
     "output_type": "display_data"
    },
    {
     "data": {
      "text/plain": [
       "VAR86\n",
       "BAIXISSIMA    37426\n",
       "MEDIA         31083\n",
       "ALTA          27750\n",
       "ALTISSIMA     24491\n",
       "Name: count, dtype: int64"
      ]
     },
     "metadata": {},
     "output_type": "display_data"
    },
    {
     "data": {
      "text/plain": [
       "VAR87\n",
       "MEDIA         35053\n",
       "ALTA          28290\n",
       "ALTISSIMA     26086\n",
       "BAIXISSIMA    24289\n",
       "BAIXA          7032\n",
       "Name: count, dtype: int64"
      ]
     },
     "metadata": {},
     "output_type": "display_data"
    },
    {
     "data": {
      "text/plain": [
       "VAR88\n",
       "ALTISSIMA     35604\n",
       "MEDIA         28230\n",
       "ALTA          24599\n",
       "BAIXISSIMA    21921\n",
       "BAIXA         10396\n",
       "Name: count, dtype: int64"
      ]
     },
     "metadata": {},
     "output_type": "display_data"
    },
    {
     "data": {
      "text/plain": [
       "VAR89\n",
       "BAIXISSIMA    42291\n",
       "ALTA          30849\n",
       "MEDIA         30666\n",
       "ALTISSIMA     16944\n",
       "Name: count, dtype: int64"
      ]
     },
     "metadata": {},
     "output_type": "display_data"
    },
    {
     "data": {
      "text/plain": [
       "VAR90\n",
       "BAIXISSIMA    106186\n",
       "ALTISSIMA      14564\n",
       "Name: count, dtype: int64"
      ]
     },
     "metadata": {},
     "output_type": "display_data"
    },
    {
     "data": {
      "text/plain": [
       "VAR91\n",
       "ALTISSIMA     32846\n",
       "MEDIA         28909\n",
       "BAIXISSIMA    25997\n",
       "ALTA          25093\n",
       "BAIXA          7905\n",
       "Name: count, dtype: int64"
      ]
     },
     "metadata": {},
     "output_type": "display_data"
    },
    {
     "data": {
      "text/plain": [
       "VAR92\n",
       "MEDIA         38791\n",
       "BAIXISSIMA    32408\n",
       "ALTISSIMA     25014\n",
       "ALTA          24537\n",
       "Name: count, dtype: int64"
      ]
     },
     "metadata": {},
     "output_type": "display_data"
    },
    {
     "data": {
      "text/plain": [
       "VAR93\n",
       "BAIXISSIMA    74062\n",
       "ALTISSIMA     25619\n",
       "ALTA          21069\n",
       "Name: count, dtype: int64"
      ]
     },
     "metadata": {},
     "output_type": "display_data"
    },
    {
     "data": {
      "text/plain": [
       "VAR94\n",
       "BAIXISSIMA    46254\n",
       "ALTA          31279\n",
       "ALTISSIMA     23039\n",
       "MEDIA         20178\n",
       "Name: count, dtype: int64"
      ]
     },
     "metadata": {},
     "output_type": "display_data"
    },
    {
     "data": {
      "text/plain": [
       "VAR95\n",
       "BAIXISSIMA    63289\n",
       "ALTA          39679\n",
       "ALTISSIMA     17782\n",
       "Name: count, dtype: int64"
      ]
     },
     "metadata": {},
     "output_type": "display_data"
    },
    {
     "data": {
      "text/plain": [
       "VAR96\n",
       "ALTA          31969\n",
       "MEDIA         28947\n",
       "ALTISSIMA     26196\n",
       "BAIXISSIMA    24034\n",
       "BAIXA          9604\n",
       "Name: count, dtype: int64"
      ]
     },
     "metadata": {},
     "output_type": "display_data"
    },
    {
     "data": {
      "text/plain": [
       "VAR97\n",
       "MEDIA         41475\n",
       "BAIXISSIMA    30749\n",
       "ALTA          27246\n",
       "ALTISSIMA     21280\n",
       "Name: count, dtype: int64"
      ]
     },
     "metadata": {},
     "output_type": "display_data"
    },
    {
     "data": {
      "text/plain": [
       "VAR98\n",
       "BAIXISSIMA    41309\n",
       "MEDIA         31222\n",
       "ALTA          26286\n",
       "ALTISSIMA     21933\n",
       "Name: count, dtype: int64"
      ]
     },
     "metadata": {},
     "output_type": "display_data"
    },
    {
     "data": {
      "text/plain": [
       "VAR99\n",
       "ALTISSIMA     34151\n",
       "ALTA          27331\n",
       "MEDIA         26316\n",
       "BAIXISSIMA    23616\n",
       "BAIXA          9336\n",
       "Name: count, dtype: int64"
      ]
     },
     "metadata": {},
     "output_type": "display_data"
    },
    {
     "data": {
      "text/plain": [
       "VAR100\n",
       "BAIXISSIMA    101340\n",
       "ALTISSIMA      19410\n",
       "Name: count, dtype: int64"
      ]
     },
     "metadata": {},
     "output_type": "display_data"
    },
    {
     "data": {
      "text/plain": [
       "VAR101\n",
       "BAIXISSIMA    44655\n",
       "MEDIA         27963\n",
       "ALTA          27687\n",
       "ALTISSIMA     20445\n",
       "Name: count, dtype: int64"
      ]
     },
     "metadata": {},
     "output_type": "display_data"
    },
    {
     "data": {
      "text/plain": [
       "VAR102\n",
       "LONGE            40346\n",
       "MUITO LONGE      32923\n",
       "MEDIO            23967\n",
       "PROXIMO          22345\n",
       "MUITO PROXIMO     1169\n",
       "Name: count, dtype: int64"
      ]
     },
     "metadata": {},
     "output_type": "display_data"
    },
    {
     "data": {
      "text/plain": [
       "VAR103\n",
       "MUITO LONGE      37359\n",
       "LONGE            31591\n",
       "MEDIO            27052\n",
       "PROXIMO          20470\n",
       "MUITO PROXIMO     4278\n",
       "Name: count, dtype: int64"
      ]
     },
     "metadata": {},
     "output_type": "display_data"
    },
    {
     "data": {
      "text/plain": [
       "VAR104\n",
       "MUITO LONGE      37668\n",
       "LONGE            33534\n",
       "MEDIO            25068\n",
       "PROXIMO          21955\n",
       "MUITO PROXIMO     2525\n",
       "Name: count, dtype: int64"
      ]
     },
     "metadata": {},
     "output_type": "display_data"
    },
    {
     "data": {
      "text/plain": [
       "VAR105\n",
       "MUITO LONGE      43056\n",
       "LONGE            35069\n",
       "MEDIO            30095\n",
       "PROXIMO           9328\n",
       "MUITO PROXIMO     3202\n",
       "Name: count, dtype: int64"
      ]
     },
     "metadata": {},
     "output_type": "display_data"
    },
    {
     "data": {
      "text/plain": [
       "VAR106\n",
       "MUITO LONGE      37402\n",
       "LONGE            31475\n",
       "MEDIO            27237\n",
       "PROXIMO          23240\n",
       "MUITO PROXIMO     1396\n",
       "Name: count, dtype: int64"
      ]
     },
     "metadata": {},
     "output_type": "display_data"
    },
    {
     "data": {
      "text/plain": [
       "VAR107\n",
       "LONGE            37906\n",
       "MUITO LONGE      33681\n",
       "MEDIO            29120\n",
       "PROXIMO          19910\n",
       "MUITO PROXIMO      133\n",
       "Name: count, dtype: int64"
      ]
     },
     "metadata": {},
     "output_type": "display_data"
    },
    {
     "data": {
      "text/plain": [
       "VAR108\n",
       "MEDIO            36798\n",
       "MUITO LONGE      32933\n",
       "LONGE            26054\n",
       "PROXIMO          22703\n",
       "MUITO PROXIMO     2262\n",
       "Name: count, dtype: int64"
      ]
     },
     "metadata": {},
     "output_type": "display_data"
    },
    {
     "data": {
      "text/plain": [
       "VAR109\n",
       "LONGE            42766\n",
       "MUITO LONGE      34815\n",
       "MEDIO            32165\n",
       "PROXIMO           9099\n",
       "MUITO PROXIMO     1905\n",
       "Name: count, dtype: int64"
      ]
     },
     "metadata": {},
     "output_type": "display_data"
    },
    {
     "data": {
      "text/plain": [
       "VAR110\n",
       "MUITO LONGE      37998\n",
       "LONGE            34575\n",
       "MEDIO            25222\n",
       "PROXIMO          22426\n",
       "MUITO PROXIMO      529\n",
       "Name: count, dtype: int64"
      ]
     },
     "metadata": {},
     "output_type": "display_data"
    },
    {
     "data": {
      "text/plain": [
       "VAR111\n",
       "MUITO LONGE      37052\n",
       "MEDIO            31590\n",
       "LONGE            29511\n",
       "PROXIMO          20598\n",
       "MUITO PROXIMO     1999\n",
       "Name: count, dtype: int64"
      ]
     },
     "metadata": {},
     "output_type": "display_data"
    },
    {
     "data": {
      "text/plain": [
       "VAR112\n",
       "MUITO LONGE      36875\n",
       "LONGE            30324\n",
       "MEDIO            29396\n",
       "PROXIMO          23286\n",
       "MUITO PROXIMO      869\n",
       "Name: count, dtype: int64"
      ]
     },
     "metadata": {},
     "output_type": "display_data"
    },
    {
     "data": {
      "text/plain": [
       "VAR113\n",
       "MUITO LONGE      37346\n",
       "LONGE            30195\n",
       "PROXIMO          27344\n",
       "MEDIO            25756\n",
       "MUITO PROXIMO      109\n",
       "Name: count, dtype: int64"
      ]
     },
     "metadata": {},
     "output_type": "display_data"
    },
    {
     "data": {
      "text/plain": [
       "VAR114\n",
       "MUITO LONGE      37722\n",
       "LONGE            34375\n",
       "MEDIO            27933\n",
       "PROXIMO          20532\n",
       "MUITO PROXIMO      188\n",
       "Name: count, dtype: int64"
      ]
     },
     "metadata": {},
     "output_type": "display_data"
    },
    {
     "data": {
      "text/plain": [
       "VAR115\n",
       "LONGE            37600\n",
       "MUITO LONGE      32487\n",
       "MEDIO            32224\n",
       "PROXIMO          16714\n",
       "MUITO PROXIMO     1725\n",
       "Name: count, dtype: int64"
      ]
     },
     "metadata": {},
     "output_type": "display_data"
    },
    {
     "data": {
      "text/plain": [
       "VAR116\n",
       "MUITO LONGE      35450\n",
       "MEDIO            31117\n",
       "LONGE            24874\n",
       "PROXIMO          16619\n",
       "MUITO PROXIMO    12690\n",
       "Name: count, dtype: int64"
      ]
     },
     "metadata": {},
     "output_type": "display_data"
    },
    {
     "data": {
      "text/plain": [
       "VAR117\n",
       "MUITO LONGE      40428\n",
       "LONGE            33181\n",
       "PROXIMO          23987\n",
       "MEDIO            20376\n",
       "MUITO PROXIMO     2778\n",
       "Name: count, dtype: int64"
      ]
     },
     "metadata": {},
     "output_type": "display_data"
    },
    {
     "data": {
      "text/plain": [
       "VAR118\n",
       "MUITO LONGE      35326\n",
       "LONGE            32351\n",
       "MEDIO            25596\n",
       "MUITO PROXIMO    14651\n",
       "PROXIMO          12826\n",
       "Name: count, dtype: int64"
      ]
     },
     "metadata": {},
     "output_type": "display_data"
    },
    {
     "data": {
      "text/plain": [
       "VAR119\n",
       "MUITO LONGE      34635\n",
       "LONGE            29967\n",
       "MEDIO            29748\n",
       "PROXIMO          26373\n",
       "MUITO PROXIMO       27\n",
       "Name: count, dtype: int64"
      ]
     },
     "metadata": {},
     "output_type": "display_data"
    },
    {
     "data": {
      "text/plain": [
       "VAR120\n",
       "MUITO LONGE    105177\n",
       "PROXIMO         15573\n",
       "Name: count, dtype: int64"
      ]
     },
     "metadata": {},
     "output_type": "display_data"
    },
    {
     "data": {
      "text/plain": [
       "VAR121\n",
       "MUITO LONGE    35628\n",
       "MEDIO          31134\n",
       "LONGE          27087\n",
       "PROXIMO        26901\n",
       "Name: count, dtype: int64"
      ]
     },
     "metadata": {},
     "output_type": "display_data"
    },
    {
     "data": {
      "text/plain": [
       "VAR122\n",
       "MUITO LONGE      36835\n",
       "LONGE            31957\n",
       "MEDIO            26533\n",
       "PROXIMO          24755\n",
       "MUITO PROXIMO      670\n",
       "Name: count, dtype: int64"
      ]
     },
     "metadata": {},
     "output_type": "display_data"
    },
    {
     "data": {
      "text/plain": [
       "VAR123\n",
       "MUITO LONGE      38272\n",
       "MEDIO            33099\n",
       "LONGE            25473\n",
       "PROXIMO          21115\n",
       "MUITO PROXIMO     2791\n",
       "Name: count, dtype: int64"
      ]
     },
     "metadata": {},
     "output_type": "display_data"
    },
    {
     "data": {
      "text/plain": [
       "VAR124\n",
       "MUITO LONGE      34959\n",
       "LONGE            29931\n",
       "MEDIO            29866\n",
       "PROXIMO          21342\n",
       "MUITO PROXIMO     4652\n",
       "Name: count, dtype: int64"
      ]
     },
     "metadata": {},
     "output_type": "display_data"
    },
    {
     "data": {
      "text/plain": [
       "VAR125\n",
       "MUITO LONGE      37466\n",
       "MEDIO            31507\n",
       "PROXIMO          24845\n",
       "LONGE            24304\n",
       "MUITO PROXIMO     2628\n",
       "Name: count, dtype: int64"
      ]
     },
     "metadata": {},
     "output_type": "display_data"
    },
    {
     "data": {
      "text/plain": [
       "VAR126\n",
       "MEDIO            38025\n",
       "LONGE            34042\n",
       "MUITO LONGE      33420\n",
       "PROXIMO          14446\n",
       "MUITO PROXIMO      817\n",
       "Name: count, dtype: int64"
      ]
     },
     "metadata": {},
     "output_type": "display_data"
    },
    {
     "data": {
      "text/plain": [
       "VAR127\n",
       "MUITO LONGE      41950\n",
       "LONGE            30749\n",
       "MEDIO            28409\n",
       "PROXIMO          19535\n",
       "MUITO PROXIMO      107\n",
       "Name: count, dtype: int64"
      ]
     },
     "metadata": {},
     "output_type": "display_data"
    },
    {
     "data": {
      "text/plain": [
       "VAR128\n",
       "MUITO LONGE      38057\n",
       "MEDIO            29096\n",
       "LONGE            27399\n",
       "PROXIMO          20715\n",
       "MUITO PROXIMO     5483\n",
       "Name: count, dtype: int64"
      ]
     },
     "metadata": {},
     "output_type": "display_data"
    },
    {
     "data": {
      "text/plain": [
       "VAR129\n",
       "MUITO LONGE      37893\n",
       "LONGE            31658\n",
       "MEDIO            28969\n",
       "PROXIMO          21660\n",
       "MUITO PROXIMO      570\n",
       "Name: count, dtype: int64"
      ]
     },
     "metadata": {},
     "output_type": "display_data"
    },
    {
     "data": {
      "text/plain": [
       "VAR130\n",
       "MUITO LONGE      37546\n",
       "LONGE            33591\n",
       "MEDIO            27857\n",
       "PROXIMO          21655\n",
       "MUITO PROXIMO      101\n",
       "Name: count, dtype: int64"
      ]
     },
     "metadata": {},
     "output_type": "display_data"
    },
    {
     "data": {
      "text/plain": [
       "VAR131\n",
       "LONGE            36895\n",
       "MEDIO            32281\n",
       "MUITO LONGE      28442\n",
       "PROXIMO          20779\n",
       "MUITO PROXIMO     2353\n",
       "Name: count, dtype: int64"
      ]
     },
     "metadata": {},
     "output_type": "display_data"
    },
    {
     "data": {
      "text/plain": [
       "VAR132\n",
       "MUITO LONGE      36128\n",
       "LONGE            28189\n",
       "MEDIO            28140\n",
       "PROXIMO          23089\n",
       "MUITO PROXIMO     5204\n",
       "Name: count, dtype: int64"
      ]
     },
     "metadata": {},
     "output_type": "display_data"
    },
    {
     "data": {
      "text/plain": [
       "VAR133\n",
       "MUITO LONGE      37861\n",
       "LONGE            32708\n",
       "MEDIO            28096\n",
       "PROXIMO          19114\n",
       "MUITO PROXIMO     2971\n",
       "Name: count, dtype: int64"
      ]
     },
     "metadata": {},
     "output_type": "display_data"
    },
    {
     "data": {
      "text/plain": [
       "VAR134\n",
       "MUITO LONGE      35692\n",
       "LONGE            32193\n",
       "MEDIO            28142\n",
       "PROXIMO          23646\n",
       "MUITO PROXIMO     1077\n",
       "Name: count, dtype: int64"
      ]
     },
     "metadata": {},
     "output_type": "display_data"
    },
    {
     "data": {
      "text/plain": [
       "VAR135\n",
       "MUITO LONGE      36641\n",
       "MEDIO            30992\n",
       "LONGE            25006\n",
       "PROXIMO          22864\n",
       "MUITO PROXIMO     5247\n",
       "Name: count, dtype: int64"
      ]
     },
     "metadata": {},
     "output_type": "display_data"
    },
    {
     "data": {
      "text/plain": [
       "VAR136\n",
       "MUITO LONGE      43895\n",
       "LONGE            32081\n",
       "MEDIO            25467\n",
       "PROXIMO          19218\n",
       "MUITO PROXIMO       89\n",
       "Name: count, dtype: int64"
      ]
     },
     "metadata": {},
     "output_type": "display_data"
    },
    {
     "data": {
      "text/plain": [
       "VAR137\n",
       "MUITO LONGE      39245\n",
       "LONGE            36261\n",
       "MEDIO            31761\n",
       "PROXIMO          12445\n",
       "MUITO PROXIMO     1038\n",
       "Name: count, dtype: int64"
      ]
     },
     "metadata": {},
     "output_type": "display_data"
    },
    {
     "data": {
      "text/plain": [
       "VAR138\n",
       "MUITO LONGE      38334\n",
       "LONGE            35280\n",
       "MEDIO            29585\n",
       "PROXIMO          17086\n",
       "MUITO PROXIMO      465\n",
       "Name: count, dtype: int64"
      ]
     },
     "metadata": {},
     "output_type": "display_data"
    },
    {
     "data": {
      "text/plain": [
       "VAR139\n",
       "LONGE            38458\n",
       "MUITO LONGE      31978\n",
       "MEDIO            28485\n",
       "PROXIMO          21104\n",
       "MUITO PROXIMO      725\n",
       "Name: count, dtype: int64"
      ]
     },
     "metadata": {},
     "output_type": "display_data"
    },
    {
     "data": {
      "text/plain": [
       "VAR140\n",
       "MUITO LONGE      55345\n",
       "MUITO PROXIMO    25652\n",
       "MEDIO            19219\n",
       "LONGE            17006\n",
       "PROXIMO           3528\n",
       "Name: count, dtype: int64"
      ]
     },
     "metadata": {},
     "output_type": "display_data"
    },
    {
     "data": {
      "text/plain": [
       "VAR142\n",
       "E    94223\n",
       "D    23072\n",
       "C     3221\n",
       "B      204\n",
       "A       30\n",
       "Name: count, dtype: int64"
      ]
     },
     "metadata": {},
     "output_type": "display_data"
    },
    {
     "data": {
      "text/plain": [
       "VAR143\n",
       "N    120071\n",
       "S       679\n",
       "Name: count, dtype: int64"
      ]
     },
     "metadata": {},
     "output_type": "display_data"
    },
    {
     "data": {
      "text/plain": [
       "VAR144\n",
       "N    120582\n",
       "S       168\n",
       "Name: count, dtype: int64"
      ]
     },
     "metadata": {},
     "output_type": "display_data"
    },
    {
     "data": {
      "text/plain": [
       "VAR148\n",
       "EMAIL INEXISTENTE                                         52379\n",
       "EMAIL INEXISTENTE#@#NOME INEXISTENTE#@#CEP INEXISTENTE    50779\n",
       "OPERACAO REALIZADA COM SUCESSO                             9560\n",
       "NOME INEXISTENTE#@#EMAIL INEXISTENTE                       7130\n",
       "CEP INEXISTENTE#@#EMAIL INEXISTENTE                         480\n",
       "NOME INEXISTENTE                                            413\n",
       "CEP INEXISTENTE                                               6\n",
       "NOME INEXISTENTE#@#CEP INEXISTENTE                            3\n",
       "Name: count, dtype: int64"
      ]
     },
     "metadata": {},
     "output_type": "display_data"
    },
    {
     "data": {
      "text/plain": [
       "VAR149\n",
       "2.6.1    120750\n",
       "Name: count, dtype: int64"
      ]
     },
     "metadata": {},
     "output_type": "display_data"
    }
   ],
   "source": [
    "# Checagem das variáveis categóricas e seus valores\n",
    "for column in df_train[vars_categoricas].columns:\n",
    "    display(df_train[column].value_counts())"
   ]
  },
  {
   "cell_type": "code",
   "execution_count": 25,
   "metadata": {},
   "outputs": [],
   "source": [
    "# Remoção de coluna descenessária\n",
    "df_train.drop(columns='VAR148', inplace=True)\n",
    "vars_categoricas.remove('VAR148')"
   ]
  },
  {
   "cell_type": "code",
   "execution_count": 26,
   "metadata": {},
   "outputs": [
    {
     "name": "stderr",
     "output_type": "stream",
     "text": [
      "/var/folders/nz/py9tl9994k5dyc2gp_kb7nt80000gn/T/ipykernel_5507/2990816582.py:5: FutureWarning: Downcasting behavior in `replace` is deprecated and will be removed in a future version. To retain the old behavior, explicitly call `result.infer_objects(copy=False)`. To opt-in to the future behavior, set `pd.set_option('future.no_silent_downcasting', True)`\n",
      "  df_train[lst_flags] = df_train[lst_flags].replace({'S': 1, 'N': 0})\n",
      "/var/folders/nz/py9tl9994k5dyc2gp_kb7nt80000gn/T/ipykernel_5507/2990816582.py:6: FutureWarning: Downcasting behavior in `replace` is deprecated and will be removed in a future version. To retain the old behavior, explicitly call `result.infer_objects(copy=False)`. To opt-in to the future behavior, set `pd.set_option('future.no_silent_downcasting', True)`\n",
      "  df_test[lst_flags] = df_test[lst_flags].replace({'S': 1, 'N': 0})\n"
     ]
    }
   ],
   "source": [
    "# Lista de variáveis sim e não (flags)\n",
    "lst_flags = [x for x in df_train[vars_categoricas].columns if df_train[x].isin(['S', 'N']).all()]\n",
    "\n",
    "# Trocando os valores dessas colunas\n",
    "df_train[lst_flags] = df_train[lst_flags].replace({'S': 1, 'N': 0})\n",
    "df_test[lst_flags] = df_test[lst_flags].replace({'S': 1, 'N': 0})"
   ]
  },
  {
   "cell_type": "code",
   "execution_count": 27,
   "metadata": {},
   "outputs": [],
   "source": [
    "# Lista de variáveis para label encoder\n",
    "lst_label_encode = ['VAR10', *[f'VAR{i}' for i in range(66, 141)]]\n",
    "\n",
    "# Instanciando o método de label encoder\n",
    "label_encoder = LabelEncoder()\n",
    "\n",
    "# Dicionário para guardar os valores do mapeamento\n",
    "label_encoders = {}\n",
    "\n",
    "# Label Encoding df_train\n",
    "for var in lst_label_encode:\n",
    "    label_encoders[var] = label_encoder.fit(df_train[var])\n",
    "    df_train[var] = label_encoder.transform(df_train[var])\n",
    "\n",
    "# Label Encoding df_test\n",
    "for var in lst_label_encode:\n",
    "\n",
    "    # Adicionando a categoria desconhecido\n",
    "    label_encoder.classes_ = np.append(label_encoder.classes_, 'DESCONHECIDO')\n",
    "    \n",
    "    # Aplicando a classe desconhecida\n",
    "    df_test[var] = df_test[var].apply(lambda x: x if x in label_encoder.classes_[:-1] else 'DESCONHECIDO')\n",
    "    \n",
    "    # Aplicação final do encoding\n",
    "    df_test[var] = label_encoder.transform(df_test[var])"
   ]
  },
  {
   "cell_type": "code",
   "execution_count": 28,
   "metadata": {},
   "outputs": [],
   "source": [
    "# Lista de variaveis para aplicação de one hot encoding\n",
    "lst_one_hot_encoding = [x for x in vars_categoricas if x not in lst_flags and x not in lst_label_encode]\n",
    "\n",
    "# One Hot Encoding df_train\n",
    "df_train = pd.get_dummies(df_train, columns=lst_one_hot_encoding)\n",
    "\n",
    "# Selecionando as colunas no df_train\n",
    "train_columns = df_train.columns\n",
    "\n",
    "# One Hot Encoding df_test\n",
    "df_test = pd.get_dummies(df_test, columns=lst_one_hot_encoding)\n",
    "\n",
    "# Mantendo apenas as colunas resultado no encoding no df_train\n",
    "df_test = df_test.reindex(columns=train_columns, fill_value=0)\n",
    "\n",
    "# Convertendo colunas booleanas\n",
    "lst_vars_bool = df_train.select_dtypes(include=['bool']).columns\n",
    "df_train[lst_vars_bool] = df_train[lst_vars_bool].astype(int)\n",
    "df_test[lst_vars_bool] = df_test[lst_vars_bool].astype(int)\n"
   ]
  },
  {
   "cell_type": "markdown",
   "metadata": {},
   "source": [
    "### SCALER\n",
    "\n",
    "Esse passo é importante principalmente em modelos tipo regressão logística e, nesse caso, se mostrou relevante, visto que as variáveis tem amplitudes bem diferentes."
   ]
  },
  {
   "cell_type": "code",
   "execution_count": 29,
   "metadata": {},
   "outputs": [],
   "source": [
    "# Instanciando objeto de normalização\n",
    "scaler = MinMaxScaler()\n",
    "\n",
    "# Lista de colunas para escalonar\n",
    "df_train['IDADE_ORIGINAL'] = df_train['IDADE']\n",
    "df_test['IDADE_ORIGINAL'] = df_test['IDADE']\n",
    "lst_scaler = [x for x in df_train.columns if x not in ['ref_date_trunc', 'REF_DATE', 'TARGET', 'ID', 'IDADE_ORIGINAL']]\n",
    "\n",
    "# Aplicando o scaler\n",
    "df_train[lst_scaler] = scaler.fit_transform(df_train[lst_scaler])\n",
    "df_test[lst_scaler] = scaler.transform(df_test[lst_scaler])"
   ]
  },
  {
   "cell_type": "markdown",
   "metadata": {},
   "source": [
    "## FEATURE SELECTION"
   ]
  },
  {
   "cell_type": "code",
   "execution_count": 30,
   "metadata": {},
   "outputs": [
    {
     "name": "stdout",
     "output_type": "stream",
     "text": [
      "Variáveis selecionadas pelo SelectKBest:\n",
      "['IDADE', 'VAR12', 'VAR14', 'VAR24', 'VAR39', 'VAR82', 'VAR84', 'VAR95', 'VAR120', 'VAR2_F', 'VAR2_M', 'VAR5_AL', 'VAR5_AP', 'VAR8_D', 'VAR31_CAIXA ECONOMICA FEDERAL', 'VAR32_CREDITADA', 'VAR32_SALDO INEXISTENTE', 'VAR142_B', 'VAR142_D', 'VAR142_E']\n"
     ]
    }
   ],
   "source": [
    "# Criando dataframes do SelectKBest\n",
    "X = df_train[lst_scaler]\n",
    "y = df_train['TARGET']\n",
    "\n",
    "# Número de features a serem escolhidas\n",
    "n_vars = 20\n",
    "\n",
    "# Feature selection com SelectKBest\n",
    "select = SelectKBest(score_func=chi2, k=n_vars)\n",
    "select.fit_transform(X, y)\n",
    "vars_selecionadas = list(X.columns[select.get_support()])\n",
    "print(\"Variáveis selecionadas pelo SelectKBest:\")\n",
    "print(vars_selecionadas)"
   ]
  },
  {
   "cell_type": "markdown",
   "metadata": {},
   "source": [
    "## MODEL TRAINING"
   ]
  },
  {
   "cell_type": "code",
   "execution_count": 31,
   "metadata": {},
   "outputs": [
    {
     "name": "stdout",
     "output_type": "stream",
     "text": [
      "Linhas de treino: 120750 (69.9996%)\n",
      "Linhas de teste: 51751 (30.0004%)\n"
     ]
    }
   ],
   "source": [
    "# Preparando dados de treino\n",
    "X = df_train[vars_selecionadas]\n",
    "y = df_train['TARGET']\n",
    "\n",
    "# Preparando dados de teste\n",
    "X_teste = df_test[vars_selecionadas]\n",
    "y_teste = df_test['TARGET']\n",
    "\n",
    "print(f'Linhas de treino: {X.shape[0]} ({X.shape[0]/(X.shape[0] + X_teste.shape[0]) * 100:.4f}%)')\n",
    "print(f'Linhas de teste: {X_teste.shape[0]} ({X_teste.shape[0]/(X.shape[0] + X_teste.shape[0]) * 100:.4f}%)')"
   ]
  },
  {
   "cell_type": "markdown",
   "metadata": {},
   "source": [
    "### BALANCEAMENTO DO DATASET"
   ]
  },
  {
   "cell_type": "code",
   "execution_count": 32,
   "metadata": {},
   "outputs": [
    {
     "name": "stdout",
     "output_type": "stream",
     "text": [
      "Before SMOTE: TARGET\n",
      "0    91163\n",
      "1    29587\n",
      "Name: count, dtype: int64\n",
      "After SMOTE: TARGET\n",
      "0    91163\n",
      "1    91163\n",
      "Name: count, dtype: int64\n"
     ]
    }
   ],
   "source": [
    "# Instantiate the SMOTE object\n",
    "smote = SMOTE(random_state=seed)\n",
    "\n",
    "# Apply SMOTE to balance the dataset\n",
    "X_resampled, y_resampled = smote.fit_resample(X, y)\n",
    "\n",
    "# Check the new class distribution\n",
    "print(f\"Before SMOTE: {y.value_counts()}\")\n",
    "print(f\"After SMOTE: {y_resampled.value_counts()}\")"
   ]
  },
  {
   "cell_type": "code",
   "execution_count": 34,
   "metadata": {},
   "outputs": [],
   "source": [
    "## Initialize the XGBoost model\n",
    "#modelo = xgb.XGBClassifier(\n",
    "#    max_depth=6,  # You can tune this parameter\n",
    "#    learning_rate=0.1,  # You can tune this parameter\n",
    "#    n_estimators=500,  # Number of boosting rounds\n",
    "#    objective='binary:logistic',  # For binary classification\n",
    "#    random_state=seed\n",
    "#)\n",
    "#\n",
    "## Train the model\n",
    "#modelo.fit(X_resampled, y_resampled)\n",
    "\n",
    "# Instantiate base models\n",
    "xgb_model = xgb.XGBClassifier(random_state=42)\n",
    "svm_model = SVC(probability=True, random_state=42)  # 'probability=True' to get predicted probabilities\n",
    "knn_model = KNeighborsClassifier()\n",
    "\n",
    "# Train base models\n",
    "xgb_model.fit(X, y)\n",
    "svm_model.fit(X, y)\n",
    "#knn_model.fit(X, y)\n",
    "\n",
    "# Generate predictions on validation data\n",
    "xgb_pred = xgb_model.predict_proba(X)[:, 1]  # Probability for class 1\n",
    "svm_pred = svm_model.predict_proba(X)[:, 1]  # Probability for class 1\n",
    "# knn_pred = knn_model.predict_proba(X)[:, 1]  # Probability for class 1\n",
    "\n",
    "# Create a new DataFrame with the predictions as features for the meta-model\n",
    "meta_features = pd.DataFrame({\n",
    "    'xgb_pred': xgb_pred,\n",
    "    'svm_pred': svm_pred,\n",
    "#    'knn_pred': knn_pred\n",
    "})\n",
    "\n",
    "# Train a Logistic Regression meta-model on the base model predictions\n",
    "modelo = LogisticRegression(random_state=42)\n",
    "modelo.fit(meta_features, y)"
   ]
  },
  {
   "cell_type": "markdown",
   "metadata": {},
   "source": [
    "#### INDICADORES DF_TREINO"
   ]
  },
  {
   "cell_type": "code",
   "execution_count": null,
   "metadata": {},
   "outputs": [
    {
     "name": "stdout",
     "output_type": "stream",
     "text": [
      "80.60000000000001\n"
     ]
    }
   ],
   "source": [
    "# Cálculo do indicador de acurácia do modelo\n",
    "predictions = modelo.predict(X)\n",
    "\n",
    "accuracy = accuracy_score(y, predictions)\n",
    "accuracy = round(accuracy, 3)*100\n",
    "print(accuracy)"
   ]
  },
  {
   "cell_type": "code",
   "execution_count": null,
   "metadata": {},
   "outputs": [
    {
     "name": "stdout",
     "output_type": "stream",
     "text": [
      "              precision    recall  f1-score   support\n",
      "\n",
      "           0       0.81      0.96      0.88     91163\n",
      "           1       0.74      0.32      0.45     29587\n",
      "\n",
      "    accuracy                           0.81    120750\n",
      "   macro avg       0.78      0.64      0.67    120750\n",
      "weighted avg       0.80      0.81      0.78    120750\n",
      "\n"
     ]
    }
   ],
   "source": [
    "# Cálculo dos indicadores de precision, recall e f1-score\n",
    "print(classification_report(y, predictions))"
   ]
  },
  {
   "cell_type": "code",
   "execution_count": null,
   "metadata": {},
   "outputs": [
    {
     "data": {
      "image/png": "[encoded data removed]",
      "text/plain": [
       "<Figure size 800x600 with 1 Axes>"
      ]
     },
     "metadata": {},
     "output_type": "display_data"
    }
   ],
   "source": [
    "# Plot da matriz de confusão\n",
    "matriz_confusao = confusion_matrix(y, predictions)\n",
    "\n",
    "plt.figure(figsize=(8, 6))\n",
    "sns.heatmap(matriz_confusao, annot=True, fmt='d', cmap='Blues', cbar=False)\n",
    "plt.title(\"Matriz de Confusão\")\n",
    "plt.xlabel('Rótulo Previsto')\n",
    "plt.ylabel('Rótulo Real')\n",
    "plt.show()"
   ]
  },
  {
   "cell_type": "code",
   "execution_count": null,
   "metadata": {},
   "outputs": [
    {
     "name": "stdout",
     "output_type": "stream",
     "text": [
      "roc_auc 0.8303456527340033\n",
      "GINI 0.6606913054680066\n"
     ]
    },
    {
     "data": {
      "image/png": "[encoded data removed]",
      "text/plain": [
       "<Figure size 500x500 with 1 Axes>"
      ]
     },
     "metadata": {},
     "output_type": "display_data"
    }
   ],
   "source": [
    "# Plot da curva ROC\n",
    "prob_previsao = modelo.predict_proba(X)[:,1]\n",
    "\n",
    "tfp, tvp, limite = roc_curve(y, prob_previsao)\n",
    "print('roc_auc', roc_auc_score(y, prob_previsao))\n",
    "print('GINI', 2*roc_auc_score(y, prob_previsao)-1)\n",
    "\n",
    "\n",
    "plt.subplots(1, figsize=(5,5))\n",
    "plt.title('Curva ROC')\n",
    "plt.plot(tfp,tvp)\n",
    "plt.xlabel('Especifidade')\n",
    "plt.ylabel('Sensibilidade')\n",
    "plt.plot([0, 1], ls=\"--\", c = 'red') #plotando linha guia pontilhada vermelha\n",
    "plt.plot([0, 0], [1, 0], ls=\"--\", c = 'green'), plt.plot([1, 1], ls=\"--\", c = 'green') #plotando linha guia pontilhada verde\n",
    "plt.show()"
   ]
  },
  {
   "cell_type": "markdown",
   "metadata": {},
   "source": [
    "#### INDICADORES DE DF_TESTE"
   ]
  },
  {
   "cell_type": "code",
   "execution_count": null,
   "metadata": {},
   "outputs": [
    {
     "name": "stdout",
     "output_type": "stream",
     "text": [
      "74.9\n"
     ]
    }
   ],
   "source": [
    "# Cálculo do indicador de acurácia do modelo\n",
    "predictions = modelo.predict(X_teste)\n",
    "\n",
    "accuracy = accuracy_score(y_teste, predictions)\n",
    "accuracy = round(accuracy, 3)*100\n",
    "print(accuracy)"
   ]
  },
  {
   "cell_type": "code",
   "execution_count": null,
   "metadata": {},
   "outputs": [
    {
     "name": "stdout",
     "output_type": "stream",
     "text": [
      "              precision    recall  f1-score   support\n",
      "\n",
      "           0       0.78      0.93      0.85     39071\n",
      "           1       0.47      0.19      0.27     12680\n",
      "\n",
      "    accuracy                           0.75     51751\n",
      "   macro avg       0.62      0.56      0.56     51751\n",
      "weighted avg       0.70      0.75      0.71     51751\n",
      "\n"
     ]
    }
   ],
   "source": [
    "# Cálculo dos indicadores de precision, recall e f1-score\n",
    "print(classification_report(y_teste, predictions))"
   ]
  },
  {
   "cell_type": "code",
   "execution_count": null,
   "metadata": {},
   "outputs": [
    {
     "data": {
      "image/png": "[encoded data removed]",
      "text/plain": [
       "<Figure size 800x600 with 1 Axes>"
      ]
     },
     "metadata": {},
     "output_type": "display_data"
    }
   ],
   "source": [
    "# Plot da matriz de confusão\n",
    "matriz_confusao = confusion_matrix(y_teste, predictions)\n",
    "\n",
    "plt.figure(figsize=(8, 6))\n",
    "sns.heatmap(matriz_confusao, annot=True, fmt='d', cmap='Blues', cbar=False)\n",
    "plt.title(\"Matriz de Confusão\")\n",
    "plt.xlabel('Rótulo Previsto')\n",
    "plt.ylabel('Rótulo Real')\n",
    "plt.show()"
   ]
  },
  {
   "cell_type": "code",
   "execution_count": null,
   "metadata": {},
   "outputs": [
    {
     "name": "stdout",
     "output_type": "stream",
     "text": [
      "roc_auc 0.6893701162172852\n",
      "GINI 0.37874023243457033\n"
     ]
    },
    {
     "data": {
      "image/png": "[encoded data removed]",
      "text/plain": [
       "<Figure size 500x500 with 1 Axes>"
      ]
     },
     "metadata": {},
     "output_type": "display_data"
    }
   ],
   "source": [
    "# Plot da curva ROC\n",
    "prob_previsao = modelo.predict_proba(X_teste)[:,1]\n",
    "\n",
    "tfp, tvp, limite = roc_curve(y_teste, prob_previsao)\n",
    "print('roc_auc', roc_auc_score(y_teste, prob_previsao))\n",
    "print('GINI', 2*roc_auc_score(y_teste, prob_previsao)-1)\n",
    "\n",
    "\n",
    "plt.subplots(1, figsize=(5,5))\n",
    "plt.title('Curva ROC')\n",
    "plt.plot(tfp,tvp)\n",
    "plt.xlabel('Especifidade')\n",
    "plt.ylabel('Sensibilidade')\n",
    "plt.plot([0, 1], ls=\"--\", c = 'red') #plotando linha guia pontilhada vermelha\n",
    "plt.plot([0, 0], [1, 0], ls=\"--\", c = 'green'), plt.plot([1, 1], ls=\"--\", c = 'green') #plotando linha guia pontilhada verde\n",
    "plt.show()"
   ]
  },
  {
   "cell_type": "markdown",
   "metadata": {},
   "source": [
    "#### CÁLCULO DO KS"
   ]
  },
  {
   "cell_type": "code",
   "execution_count": null,
   "metadata": {},
   "outputs": [
    {
     "data": {
      "text/plain": [
       "KstestResult(statistic=np.float64(0.4999709968303703), pvalue=np.float64(0.0), statistic_location=np.float32(0.268188), statistic_sign=np.int8(1))"
      ]
     },
     "execution_count": 82,
     "metadata": {},
     "output_type": "execute_result"
    }
   ],
   "source": [
    "df_train['predicted'] = modelo.predict(X)\n",
    "df_train['probability_default'] = modelo.predict_proba(X)[:,1]\n",
    "\n",
    "class0 = df_train[df_train['TARGET'] == 0]\n",
    "class1 = df_train[df_train['TARGET'] == 1]\n",
    "\n",
    "ks_2samp(class0['probability_default'], class1['probability_default'])"
   ]
  },
  {
   "cell_type": "code",
   "execution_count": null,
   "metadata": {},
   "outputs": [
    {
     "data": {
      "text/plain": [
       "KstestResult(statistic=np.float64(0.2818079772592272), pvalue=np.float64(0.0), statistic_location=np.float32(0.23906857), statistic_sign=np.int8(1))"
      ]
     },
     "execution_count": 83,
     "metadata": {},
     "output_type": "execute_result"
    }
   ],
   "source": [
    "df_test['predicted'] = modelo.predict(X_teste)\n",
    "df_test['probability_default'] = modelo.predict_proba(X_teste)[:,1]\n",
    "\n",
    "class0 = df_test[df_test['TARGET'] == 0]\n",
    "class1 = df_test[df_test['TARGET'] == 1]\n",
    "\n",
    "ks_2samp(class0['probability_default'], class1['probability_default'])"
   ]
  },
  {
   "cell_type": "markdown",
   "metadata": {},
   "source": [
    "## ANÁLISE FINANCEIRA"
   ]
  },
  {
   "cell_type": "code",
   "execution_count": null,
   "metadata": {},
   "outputs": [],
   "source": [
    "# Politica AS IS \n",
    "df_train['predicted-as-is'] = np.where(df_train['IDADE_ORIGINAL'] > 29, 0, 1)\n",
    "df_test['predicted-as-is'] = np.where(df_test['IDADE_ORIGINAL'] > 29, 0, 1)"
   ]
  },
  {
   "cell_type": "markdown",
   "metadata": {},
   "source": [
    "#### INDICADORES DE DF_TESTE"
   ]
  },
  {
   "cell_type": "code",
   "execution_count": null,
   "metadata": {},
   "outputs": [
    {
     "name": "stdout",
     "output_type": "stream",
     "text": [
      "67.60000000000001\n"
     ]
    }
   ],
   "source": [
    "# Cálculo do indicador de acurácia do modelo\n",
    "predictions = df_test['predicted-as-is']\n",
    "\n",
    "accuracy = accuracy_score(y_teste, predictions)\n",
    "accuracy = round(accuracy, 3)*100\n",
    "print(accuracy)"
   ]
  },
  {
   "cell_type": "code",
   "execution_count": null,
   "metadata": {},
   "outputs": [
    {
     "name": "stdout",
     "output_type": "stream",
     "text": [
      "              precision    recall  f1-score   support\n",
      "\n",
      "           0       0.77      0.81      0.79     39071\n",
      "           1       0.30      0.25      0.27     12680\n",
      "\n",
      "    accuracy                           0.68     51751\n",
      "   macro avg       0.54      0.53      0.53     51751\n",
      "weighted avg       0.66      0.68      0.66     51751\n",
      "\n"
     ]
    }
   ],
   "source": [
    "# Cálculo dos indicadores de precision, recall e f1-score\n",
    "print(classification_report(y_teste, predictions))"
   ]
  },
  {
   "cell_type": "code",
   "execution_count": null,
   "metadata": {},
   "outputs": [
    {
     "data": {
      "image/png": "[encoded data removed]",
      "text/plain": [
       "<Figure size 800x600 with 1 Axes>"
      ]
     },
     "metadata": {},
     "output_type": "display_data"
    }
   ],
   "source": [
    "# Plot da matriz de confusão\n",
    "matriz_confusao = confusion_matrix(y_teste, predictions)\n",
    "\n",
    "plt.figure(figsize=(8, 6))\n",
    "sns.heatmap(matriz_confusao, annot=True, fmt='d', cmap='Blues', cbar=False)\n",
    "plt.title(\"Matriz de Confusão\")\n",
    "plt.xlabel('Rótulo Previsto')\n",
    "plt.ylabel('Rótulo Real')\n",
    "plt.show()"
   ]
  },
  {
   "cell_type": "code",
   "execution_count": null,
   "metadata": {},
   "outputs": [
    {
     "name": "stdout",
     "output_type": "stream",
     "text": [
      "roc_auc 0.6893701162172852\n",
      "GINI 0.37874023243457033\n"
     ]
    },
    {
     "data": {
      "image/png": "[encoded data removed]",
      "text/plain": [
       "<Figure size 500x500 with 1 Axes>"
      ]
     },
     "metadata": {},
     "output_type": "display_data"
    }
   ],
   "source": [
    "# Plot da curva ROC\n",
    "prob_previsao = modelo.predict_proba(X_teste)[:,1]\n",
    "\n",
    "tfp, tvp, limite = roc_curve(y_teste, prob_previsao)\n",
    "print('roc_auc', roc_auc_score(y_teste, prob_previsao))\n",
    "print('GINI', 2*roc_auc_score(y_teste, prob_previsao)-1)\n",
    "\n",
    "\n",
    "plt.subplots(1, figsize=(5,5))\n",
    "plt.title('Curva ROC')\n",
    "plt.plot(tfp,tvp)\n",
    "plt.xlabel('Especifidade')\n",
    "plt.ylabel('Sensibilidade')\n",
    "plt.plot([0, 1], ls=\"--\", c = 'red') #plotando linha guia pontilhada vermelha\n",
    "plt.plot([0, 0], [1, 0], ls=\"--\", c = 'green'), plt.plot([1, 1], ls=\"--\", c = 'green') #plotando linha guia pontilhada verde\n",
    "plt.show()"
   ]
  }
 ],
 "metadata": {
  "kernelspec": {
   "display_name": "Python 3.9.12 ('venv': venv)",
   "language": "python",
   "name": "python3"
  },
  "language_info": {
   "codemirror_mode": {
    "name": "ipython",
    "version": 3
   },
   "file_extension": ".py",
   "mimetype": "text/x-python",
   "name": "python",
   "nbconvert_exporter": "python",
   "pygments_lexer": "ipython3",
   "version": "3.9.12"
  },
  "orig_nbformat": 4,
  "vscode": {
   "interpreter": {
    "hash": "00ddbe63c7a16289472ebddb6e287018a3e774c94677f6debbf50c01c77b8c07"
   }
  }
 },
 "nbformat": 4,
 "nbformat_minor": 2
}
