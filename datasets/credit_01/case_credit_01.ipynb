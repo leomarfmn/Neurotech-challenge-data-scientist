{
 "cells": [
  {
   "cell_type": "markdown",
   "metadata": {},
   "source": [
    "## README"
   ]
  },
  {
   "cell_type": "markdown",
   "metadata": {},
   "source": [
    "Notebook criado para resolver o problema 1 do desafio de cientista de dados, da Neurotech."
   ]
  },
  {
   "cell_type": "markdown",
   "metadata": {},
   "source": [
    "## SETUP"
   ]
  },
  {
   "cell_type": "code",
   "execution_count": 1,
   "metadata": {},
   "outputs": [],
   "source": [
    "# Bibliotecas de uso geral\n",
    "import numpy as np\n",
    "import pandas as pd\n",
    "import seaborn as sns\n",
    "import matplotlib.pyplot as plt\n",
    "\n",
    "# Tratamento dos dados\n",
    "from sklearn.preprocessing import LabelEncoder\n",
    "from sklearn.preprocessing import MinMaxScaler\n",
    "from imblearn.over_sampling import SMOTE\n",
    "\n",
    "# Bibliotecas utilizadas para as etapas iniciais de Feature Selection\n",
    "from sklearn.feature_selection import SelectKBest, chi2\n",
    "\n",
    "# Bibliotecas de modelagem\n",
    "from sklearn.linear_model import LogisticRegression\n",
    "import xgboost as xgb\n",
    "from sklearn.svm import SVC\n",
    "from sklearn.neighbors import KNeighborsClassifier\n",
    "from imblearn.ensemble import BalancedRandomForestClassifier\n",
    "\n",
    "# Bibliotecas utilizadas para a avaliação dos modelos\n",
    "from sklearn.metrics import accuracy_score\n",
    "from sklearn.metrics import confusion_matrix\n",
    "from sklearn.metrics import classification_report\n",
    "from sklearn.metrics import roc_curve, roc_auc_score\n",
    "\n",
    "# Avaliação de propriedades estatísticas\n",
    "import statsmodels.api as sm\n",
    "from scipy.stats import ks_2samp\n",
    "\n",
    "# Configurações do pandas e do python\n",
    "pd.set_option('display.max_rows', 50)\n",
    "import warnings\n",
    "warnings.filterwarnings(\"ignore\")\n"
   ]
  },
  {
   "cell_type": "markdown",
   "metadata": {},
   "source": [
    "## FUNÇÕES E CONSTANTES"
   ]
  },
  {
   "cell_type": "code",
   "execution_count": 2,
   "metadata": {},
   "outputs": [],
   "source": [
    "# Definição de variável para reproducibilidade\n",
    "seed = 101"
   ]
  },
  {
   "cell_type": "code",
   "execution_count": 3,
   "metadata": {},
   "outputs": [],
   "source": [
    "def plot_categorical_distribution(df, var):\n",
    "    # Cria os plots das variáveis categóricas\n",
    "    plt.figure(figsize=(8, 6))\n",
    "    sns.countplot(data=df, x=var, palette='Set2')\n",
    "    plt.title(f'Distribuição da variável: {var}')\n",
    "    plt.xlabel(var)\n",
    "    plt.ylabel('Contagem')\n",
    "    plt.xticks(rotation=45)\n",
    "    plt.tight_layout()\n",
    "    plt.show()"
   ]
  },
  {
   "cell_type": "code",
   "execution_count": 4,
   "metadata": {},
   "outputs": [],
   "source": [
    "def plot_numerical_distribution(df, var, bins=20):\n",
    "    # Cria os plots das variáveis numéricas\n",
    "    plt.figure(figsize=(8, 6))\n",
    "    sns.histplot(df, x=var, hue='TARGET', bins=bins, kde=True, palette='Set1', edgecolor='black')\n",
    "    plt.title(f'Distribuição da variável: {var} pelo TARGET')\n",
    "    plt.xlabel(var)\n",
    "    plt.ylabel('Frequência')\n",
    "    plt.tight_layout()\n",
    "    plt.show()"
   ]
  },
  {
   "cell_type": "markdown",
   "metadata": {},
   "source": [
    "## INGESTÃO DE DADOS"
   ]
  },
  {
   "cell_type": "code",
   "execution_count": 5,
   "metadata": {},
   "outputs": [
    {
     "data": {
      "text/plain": [
       "(120750, 151)"
      ]
     },
     "execution_count": 5,
     "metadata": {},
     "output_type": "execute_result"
    }
   ],
   "source": [
    "df_train = pd.read_csv('train.gz')\n",
    "df_train.shape"
   ]
  },
  {
   "cell_type": "code",
   "execution_count": 6,
   "metadata": {},
   "outputs": [
    {
     "data": {
      "text/plain": [
       "(51751, 151)"
      ]
     },
     "execution_count": 6,
     "metadata": {},
     "output_type": "execute_result"
    }
   ],
   "source": [
    "df_test = pd.read_csv('test.gz')\n",
    "df_test.shape"
   ]
  },
  {
   "cell_type": "code",
   "execution_count": 7,
   "metadata": {},
   "outputs": [
    {
     "data": {
      "text/plain": [
       "(91965, 150)"
      ]
     },
     "execution_count": 7,
     "metadata": {},
     "output_type": "execute_result"
    }
   ],
   "source": [
    "df_oot = pd.read_csv('oot.gz')\n",
    "df_oot.shape"
   ]
  },
  {
   "cell_type": "markdown",
   "metadata": {},
   "source": [
    "## EDA E FEATURE ENGINEERING"
   ]
  },
  {
   "cell_type": "markdown",
   "metadata": {},
   "source": [
    "### ANÁLISES MACRO"
   ]
  },
  {
   "cell_type": "code",
   "execution_count": 8,
   "metadata": {},
   "outputs": [
    {
     "data": {
      "text/plain": [
       "REF_DATE     object\n",
       "TARGET        int64\n",
       "VAR2         object\n",
       "IDADE       float64\n",
       "VAR4         object\n",
       "             ...   \n",
       "VAR146      float64\n",
       "VAR147        int64\n",
       "VAR148       object\n",
       "VAR149       object\n",
       "ID            int64\n",
       "Length: 151, dtype: object"
      ]
     },
     "execution_count": 8,
     "metadata": {},
     "output_type": "execute_result"
    }
   ],
   "source": [
    "df_train.dtypes"
   ]
  },
  {
   "cell_type": "code",
   "execution_count": 9,
   "metadata": {},
   "outputs": [
    {
     "data": {
      "text/html": [
       "<div>\n",
       "<style scoped>\n",
       "    .dataframe tbody tr th:only-of-type {\n",
       "        vertical-align: middle;\n",
       "    }\n",
       "\n",
       "    .dataframe tbody tr th {\n",
       "        vertical-align: top;\n",
       "    }\n",
       "\n",
       "    .dataframe thead th {\n",
       "        text-align: right;\n",
       "    }\n",
       "</style>\n",
       "<table border=\"1\" class=\"dataframe\">\n",
       "  <thead>\n",
       "    <tr style=\"text-align: right;\">\n",
       "      <th></th>\n",
       "      <th>REF_DATE</th>\n",
       "      <th>TARGET</th>\n",
       "      <th>VAR2</th>\n",
       "      <th>IDADE</th>\n",
       "      <th>VAR4</th>\n",
       "      <th>VAR5</th>\n",
       "      <th>VAR6</th>\n",
       "      <th>VAR7</th>\n",
       "      <th>VAR8</th>\n",
       "      <th>VAR9</th>\n",
       "      <th>...</th>\n",
       "      <th>VAR141</th>\n",
       "      <th>VAR142</th>\n",
       "      <th>VAR143</th>\n",
       "      <th>VAR144</th>\n",
       "      <th>VAR145</th>\n",
       "      <th>VAR146</th>\n",
       "      <th>VAR147</th>\n",
       "      <th>VAR148</th>\n",
       "      <th>VAR149</th>\n",
       "      <th>ID</th>\n",
       "    </tr>\n",
       "  </thead>\n",
       "  <tbody>\n",
       "    <tr>\n",
       "      <th>0</th>\n",
       "      <td>2017-06-01 00:00:00+00:00</td>\n",
       "      <td>0</td>\n",
       "      <td>M</td>\n",
       "      <td>34.137</td>\n",
       "      <td>NaN</td>\n",
       "      <td>RO</td>\n",
       "      <td>-8.808779</td>\n",
       "      <td>-63.87847</td>\n",
       "      <td>D</td>\n",
       "      <td>E</td>\n",
       "      <td>...</td>\n",
       "      <td>2680.289259</td>\n",
       "      <td>D</td>\n",
       "      <td>NaN</td>\n",
       "      <td>NaN</td>\n",
       "      <td>NaN</td>\n",
       "      <td>NaN</td>\n",
       "      <td>102</td>\n",
       "      <td>EMAIL INEXISTENTE#@#NOME INEXISTENTE#@#CEP INE...</td>\n",
       "      <td>2.6.1</td>\n",
       "      <td>181755</td>\n",
       "    </tr>\n",
       "    <tr>\n",
       "      <th>1</th>\n",
       "      <td>2017-08-18 00:00:00+00:00</td>\n",
       "      <td>0</td>\n",
       "      <td>M</td>\n",
       "      <td>40.447</td>\n",
       "      <td>NaN</td>\n",
       "      <td>PB</td>\n",
       "      <td>-7.146537</td>\n",
       "      <td>-34.92608</td>\n",
       "      <td>E</td>\n",
       "      <td>E</td>\n",
       "      <td>...</td>\n",
       "      <td>1777.725469</td>\n",
       "      <td>E</td>\n",
       "      <td>NaN</td>\n",
       "      <td>NaN</td>\n",
       "      <td>NaN</td>\n",
       "      <td>NaN</td>\n",
       "      <td>102</td>\n",
       "      <td>EMAIL INEXISTENTE#@#NOME INEXISTENTE#@#CEP INE...</td>\n",
       "      <td>2.6.1</td>\n",
       "      <td>287633</td>\n",
       "    </tr>\n",
       "  </tbody>\n",
       "</table>\n",
       "<p>2 rows × 151 columns</p>\n",
       "</div>"
      ],
      "text/plain": [
       "                    REF_DATE  TARGET VAR2   IDADE VAR4 VAR5      VAR6  \\\n",
       "0  2017-06-01 00:00:00+00:00       0    M  34.137  NaN   RO -8.808779   \n",
       "1  2017-08-18 00:00:00+00:00       0    M  40.447  NaN   PB -7.146537   \n",
       "\n",
       "       VAR7 VAR8 VAR9  ...       VAR141  VAR142  VAR143  VAR144  VAR145  \\\n",
       "0 -63.87847    D    E  ...  2680.289259       D     NaN     NaN     NaN   \n",
       "1 -34.92608    E    E  ...  1777.725469       E     NaN     NaN     NaN   \n",
       "\n",
       "   VAR146  VAR147                                             VAR148  VAR149  \\\n",
       "0     NaN     102  EMAIL INEXISTENTE#@#NOME INEXISTENTE#@#CEP INE...   2.6.1   \n",
       "1     NaN     102  EMAIL INEXISTENTE#@#NOME INEXISTENTE#@#CEP INE...   2.6.1   \n",
       "\n",
       "       ID  \n",
       "0  181755  \n",
       "1  287633  \n",
       "\n",
       "[2 rows x 151 columns]"
      ]
     },
     "execution_count": 9,
     "metadata": {},
     "output_type": "execute_result"
    }
   ],
   "source": [
    "df_train.head(2)"
   ]
  },
  {
   "cell_type": "code",
   "execution_count": 10,
   "metadata": {},
   "outputs": [],
   "source": [
    "# Divisão das variáveis entre numéricas e categóricas\n",
    "vars_discretas = df_train.select_dtypes(include=['int']).columns.tolist()\n",
    "vars_continuas = df_train.select_dtypes(include=['float']).columns.tolist()\n",
    "vars_categoricas = df_train.select_dtypes(exclude=['float', 'int']).columns.tolist()\n",
    "vars_numericas = df_train.select_dtypes(include='number').columns.tolist()\n",
    "\n",
    "# Remoção dos campos que não entrarão no loop de EDA\n",
    "vars_categoricas.remove('REF_DATE')\n",
    "vars_discretas.remove('TARGET')\n",
    "vars_discretas.remove('ID')\n",
    "vars_numericas.remove('TARGET')\n",
    "vars_numericas.remove('ID')"
   ]
  },
  {
   "cell_type": "code",
   "execution_count": 11,
   "metadata": {},
   "outputs": [
    {
     "name": "stdout",
     "output_type": "stream",
     "text": [
      "Referência mais antiga: 2017-01-02 00:00:00+00:00\n",
      "Referência mais recente: 2017-08-31 00:00:00+00:00\n"
     ]
    }
   ],
   "source": [
    "# Valores mínimos e máximos da referência\n",
    "print(f\"Referência mais antiga: {df_train['REF_DATE'].min()}\")\n",
    "print(f\"Referência mais recente: {df_train['REF_DATE'].max()}\")"
   ]
  },
  {
   "cell_type": "code",
   "execution_count": 12,
   "metadata": {},
   "outputs": [
    {
     "data": {
      "text/html": [
       "<div>\n",
       "<style scoped>\n",
       "    .dataframe tbody tr th:only-of-type {\n",
       "        vertical-align: middle;\n",
       "    }\n",
       "\n",
       "    .dataframe tbody tr th {\n",
       "        vertical-align: top;\n",
       "    }\n",
       "\n",
       "    .dataframe thead th {\n",
       "        text-align: right;\n",
       "    }\n",
       "</style>\n",
       "<table border=\"1\" class=\"dataframe\">\n",
       "  <thead>\n",
       "    <tr style=\"text-align: right;\">\n",
       "      <th></th>\n",
       "      <th>IDADE</th>\n",
       "      <th>VAR6</th>\n",
       "      <th>VAR7</th>\n",
       "      <th>VAR11</th>\n",
       "      <th>VAR12</th>\n",
       "      <th>VAR13</th>\n",
       "      <th>VAR14</th>\n",
       "      <th>VAR15</th>\n",
       "      <th>VAR16</th>\n",
       "      <th>VAR17</th>\n",
       "      <th>...</th>\n",
       "      <th>VAR40</th>\n",
       "      <th>VAR41</th>\n",
       "      <th>VAR42</th>\n",
       "      <th>VAR44</th>\n",
       "      <th>VAR46</th>\n",
       "      <th>VAR47</th>\n",
       "      <th>VAR141</th>\n",
       "      <th>VAR145</th>\n",
       "      <th>VAR146</th>\n",
       "      <th>VAR147</th>\n",
       "    </tr>\n",
       "  </thead>\n",
       "  <tbody>\n",
       "    <tr>\n",
       "      <th>count</th>\n",
       "      <td>107040.000000</td>\n",
       "      <td>117394.000000</td>\n",
       "      <td>117394.000000</td>\n",
       "      <td>74488.000000</td>\n",
       "      <td>65724.000000</td>\n",
       "      <td>15530.000000</td>\n",
       "      <td>95197.000000</td>\n",
       "      <td>58269.000000</td>\n",
       "      <td>44981.000000</td>\n",
       "      <td>15530.000000</td>\n",
       "      <td>...</td>\n",
       "      <td>117466.000000</td>\n",
       "      <td>117811.000000</td>\n",
       "      <td>107048.000000</td>\n",
       "      <td>401.000000</td>\n",
       "      <td>294.000000</td>\n",
       "      <td>120750.000000</td>\n",
       "      <td>120750.000000</td>\n",
       "      <td>679.000000</td>\n",
       "      <td>168.000000</td>\n",
       "      <td>120750.000000</td>\n",
       "    </tr>\n",
       "    <tr>\n",
       "      <th>mean</th>\n",
       "      <td>42.125255</td>\n",
       "      <td>-14.411389</td>\n",
       "      <td>-45.903480</td>\n",
       "      <td>0.235917</td>\n",
       "      <td>0.290241</td>\n",
       "      <td>0.313850</td>\n",
       "      <td>0.241245</td>\n",
       "      <td>0.185754</td>\n",
       "      <td>2.044374</td>\n",
       "      <td>2.132795</td>\n",
       "      <td>...</td>\n",
       "      <td>0.531287</td>\n",
       "      <td>0.631175</td>\n",
       "      <td>0.504619</td>\n",
       "      <td>1691.738429</td>\n",
       "      <td>6984.218469</td>\n",
       "      <td>0.256543</td>\n",
       "      <td>1854.833006</td>\n",
       "      <td>4018.743785</td>\n",
       "      <td>1942.649762</td>\n",
       "      <td>101.841656</td>\n",
       "    </tr>\n",
       "    <tr>\n",
       "      <th>std</th>\n",
       "      <td>15.198476</td>\n",
       "      <td>8.995077</td>\n",
       "      <td>7.529788</td>\n",
       "      <td>0.625609</td>\n",
       "      <td>0.308937</td>\n",
       "      <td>0.241229</td>\n",
       "      <td>0.262687</td>\n",
       "      <td>0.195320</td>\n",
       "      <td>3.170869</td>\n",
       "      <td>2.171140</td>\n",
       "      <td>...</td>\n",
       "      <td>0.115968</td>\n",
       "      <td>0.222607</td>\n",
       "      <td>0.069614</td>\n",
       "      <td>2177.830516</td>\n",
       "      <td>4621.964093</td>\n",
       "      <td>0.406746</td>\n",
       "      <td>893.999792</td>\n",
       "      <td>3700.836248</td>\n",
       "      <td>3143.757850</td>\n",
       "      <td>0.540016</td>\n",
       "    </tr>\n",
       "    <tr>\n",
       "      <th>min</th>\n",
       "      <td>18.014000</td>\n",
       "      <td>-33.521563</td>\n",
       "      <td>-72.900276</td>\n",
       "      <td>-4.000000</td>\n",
       "      <td>0.000000</td>\n",
       "      <td>0.000000</td>\n",
       "      <td>0.000000</td>\n",
       "      <td>0.000000</td>\n",
       "      <td>0.083333</td>\n",
       "      <td>0.002740</td>\n",
       "      <td>...</td>\n",
       "      <td>0.208688</td>\n",
       "      <td>0.000000</td>\n",
       "      <td>0.006658</td>\n",
       "      <td>0.000000</td>\n",
       "      <td>0.000000</td>\n",
       "      <td>0.000000</td>\n",
       "      <td>0.000000</td>\n",
       "      <td>0.000000</td>\n",
       "      <td>0.000000</td>\n",
       "      <td>100.000000</td>\n",
       "    </tr>\n",
       "    <tr>\n",
       "      <th>25%</th>\n",
       "      <td>30.057250</td>\n",
       "      <td>-22.842778</td>\n",
       "      <td>-49.903564</td>\n",
       "      <td>0.000000</td>\n",
       "      <td>0.055000</td>\n",
       "      <td>0.056000</td>\n",
       "      <td>0.105000</td>\n",
       "      <td>0.078000</td>\n",
       "      <td>0.250000</td>\n",
       "      <td>0.493151</td>\n",
       "      <td>...</td>\n",
       "      <td>0.447559</td>\n",
       "      <td>0.440572</td>\n",
       "      <td>0.463579</td>\n",
       "      <td>642.000000</td>\n",
       "      <td>3888.995000</td>\n",
       "      <td>0.000000</td>\n",
       "      <td>1513.227400</td>\n",
       "      <td>1633.195000</td>\n",
       "      <td>0.000000</td>\n",
       "      <td>102.000000</td>\n",
       "    </tr>\n",
       "    <tr>\n",
       "      <th>50%</th>\n",
       "      <td>39.867000</td>\n",
       "      <td>-13.010590</td>\n",
       "      <td>-46.574908</td>\n",
       "      <td>0.000000</td>\n",
       "      <td>0.159000</td>\n",
       "      <td>0.318000</td>\n",
       "      <td>0.140000</td>\n",
       "      <td>0.112000</td>\n",
       "      <td>0.833333</td>\n",
       "      <td>0.816438</td>\n",
       "      <td>...</td>\n",
       "      <td>0.510023</td>\n",
       "      <td>0.542298</td>\n",
       "      <td>0.496036</td>\n",
       "      <td>769.000000</td>\n",
       "      <td>5386.310000</td>\n",
       "      <td>0.003000</td>\n",
       "      <td>1627.157652</td>\n",
       "      <td>3024.480000</td>\n",
       "      <td>935.120000</td>\n",
       "      <td>102.000000</td>\n",
       "    </tr>\n",
       "    <tr>\n",
       "      <th>75%</th>\n",
       "      <td>52.997000</td>\n",
       "      <td>-6.357067</td>\n",
       "      <td>-39.023621</td>\n",
       "      <td>0.000000</td>\n",
       "      <td>0.505000</td>\n",
       "      <td>0.507000</td>\n",
       "      <td>0.168000</td>\n",
       "      <td>0.153000</td>\n",
       "      <td>2.416667</td>\n",
       "      <td>4.079452</td>\n",
       "      <td>...</td>\n",
       "      <td>0.582701</td>\n",
       "      <td>0.898052</td>\n",
       "      <td>0.522576</td>\n",
       "      <td>1747.500000</td>\n",
       "      <td>9601.390000</td>\n",
       "      <td>0.421000</td>\n",
       "      <td>1820.670284</td>\n",
       "      <td>5217.670000</td>\n",
       "      <td>2260.125000</td>\n",
       "      <td>102.000000</td>\n",
       "    </tr>\n",
       "    <tr>\n",
       "      <th>max</th>\n",
       "      <td>105.477000</td>\n",
       "      <td>4.602823</td>\n",
       "      <td>-32.429516</td>\n",
       "      <td>4.000000</td>\n",
       "      <td>1.500000</td>\n",
       "      <td>1.000000</td>\n",
       "      <td>1.700000</td>\n",
       "      <td>1.000000</td>\n",
       "      <td>15.999999</td>\n",
       "      <td>8.999999</td>\n",
       "      <td>...</td>\n",
       "      <td>0.920685</td>\n",
       "      <td>1.000000</td>\n",
       "      <td>0.910865</td>\n",
       "      <td>17374.940000</td>\n",
       "      <td>26523.920000</td>\n",
       "      <td>1.000000</td>\n",
       "      <td>33954.140000</td>\n",
       "      <td>33954.140000</td>\n",
       "      <td>17229.200000</td>\n",
       "      <td>102.000000</td>\n",
       "    </tr>\n",
       "  </tbody>\n",
       "</table>\n",
       "<p>8 rows × 35 columns</p>\n",
       "</div>"
      ],
      "text/plain": [
       "               IDADE           VAR6           VAR7         VAR11  \\\n",
       "count  107040.000000  117394.000000  117394.000000  74488.000000   \n",
       "mean       42.125255     -14.411389     -45.903480      0.235917   \n",
       "std        15.198476       8.995077       7.529788      0.625609   \n",
       "min        18.014000     -33.521563     -72.900276     -4.000000   \n",
       "25%        30.057250     -22.842778     -49.903564      0.000000   \n",
       "50%        39.867000     -13.010590     -46.574908      0.000000   \n",
       "75%        52.997000      -6.357067     -39.023621      0.000000   \n",
       "max       105.477000       4.602823     -32.429516      4.000000   \n",
       "\n",
       "              VAR12         VAR13         VAR14         VAR15         VAR16  \\\n",
       "count  65724.000000  15530.000000  95197.000000  58269.000000  44981.000000   \n",
       "mean       0.290241      0.313850      0.241245      0.185754      2.044374   \n",
       "std        0.308937      0.241229      0.262687      0.195320      3.170869   \n",
       "min        0.000000      0.000000      0.000000      0.000000      0.083333   \n",
       "25%        0.055000      0.056000      0.105000      0.078000      0.250000   \n",
       "50%        0.159000      0.318000      0.140000      0.112000      0.833333   \n",
       "75%        0.505000      0.507000      0.168000      0.153000      2.416667   \n",
       "max        1.500000      1.000000      1.700000      1.000000     15.999999   \n",
       "\n",
       "              VAR17  ...          VAR40          VAR41          VAR42  \\\n",
       "count  15530.000000  ...  117466.000000  117811.000000  107048.000000   \n",
       "mean       2.132795  ...       0.531287       0.631175       0.504619   \n",
       "std        2.171140  ...       0.115968       0.222607       0.069614   \n",
       "min        0.002740  ...       0.208688       0.000000       0.006658   \n",
       "25%        0.493151  ...       0.447559       0.440572       0.463579   \n",
       "50%        0.816438  ...       0.510023       0.542298       0.496036   \n",
       "75%        4.079452  ...       0.582701       0.898052       0.522576   \n",
       "max        8.999999  ...       0.920685       1.000000       0.910865   \n",
       "\n",
       "              VAR44         VAR46          VAR47         VAR141        VAR145  \\\n",
       "count    401.000000    294.000000  120750.000000  120750.000000    679.000000   \n",
       "mean    1691.738429   6984.218469       0.256543    1854.833006   4018.743785   \n",
       "std     2177.830516   4621.964093       0.406746     893.999792   3700.836248   \n",
       "min        0.000000      0.000000       0.000000       0.000000      0.000000   \n",
       "25%      642.000000   3888.995000       0.000000    1513.227400   1633.195000   \n",
       "50%      769.000000   5386.310000       0.003000    1627.157652   3024.480000   \n",
       "75%     1747.500000   9601.390000       0.421000    1820.670284   5217.670000   \n",
       "max    17374.940000  26523.920000       1.000000   33954.140000  33954.140000   \n",
       "\n",
       "             VAR146         VAR147  \n",
       "count    168.000000  120750.000000  \n",
       "mean    1942.649762     101.841656  \n",
       "std     3143.757850       0.540016  \n",
       "min        0.000000     100.000000  \n",
       "25%        0.000000     102.000000  \n",
       "50%      935.120000     102.000000  \n",
       "75%     2260.125000     102.000000  \n",
       "max    17229.200000     102.000000  \n",
       "\n",
       "[8 rows x 35 columns]"
      ]
     },
     "execution_count": 12,
     "metadata": {},
     "output_type": "execute_result"
    }
   ],
   "source": [
    "# Mostrando a amplitude das variáveis numéricas\n",
    "df_train[vars_numericas].describe()"
   ]
  },
  {
   "cell_type": "markdown",
   "metadata": {},
   "source": [
    "### VARIÁVEIS ID E TARGET\n",
    "\n",
    "Conclusões: \n",
    "1. Cada cliente é único, não há IDs repetidos\n",
    "2. Os dados estão desbalanceados em termos de target\n",
    "3. A taxa de concessão parece ser constante (aproximadamente 4 em cada 5 clientes), mas algo parece ter acontecido em março de 2017, quando o número de IDs atingiu um pico localizado e a taxa de concessão caiu de 80% para 50% (valores aproximados)."
   ]
  },
  {
   "cell_type": "code",
   "execution_count": 13,
   "metadata": {},
   "outputs": [
    {
     "data": {
      "text/plain": [
       "120750"
      ]
     },
     "execution_count": 13,
     "metadata": {},
     "output_type": "execute_result"
    }
   ],
   "source": [
    "# Não existem valores repetidos de ID\n",
    "df_train['ID'].nunique()"
   ]
  },
  {
   "cell_type": "code",
   "execution_count": 14,
   "metadata": {},
   "outputs": [
    {
     "name": "stdout",
     "output_type": "stream",
     "text": [
      "Distribuição da variável target:\n"
     ]
    },
    {
     "data": {
      "text/plain": [
       "TARGET\n",
       "0    0.754973\n",
       "1    0.245027\n",
       "Name: proportion, dtype: float64"
      ]
     },
     "execution_count": 14,
     "metadata": {},
     "output_type": "execute_result"
    }
   ],
   "source": [
    "# Variável target\n",
    "print(f'Distribuição da variável target:')\n",
    "df_train['TARGET'].value_counts(normalize=True)"
   ]
  },
  {
   "cell_type": "code",
   "execution_count": 15,
   "metadata": {},
   "outputs": [
    {
     "data": {
      "text/plain": [
       "ref_date_trunc\n",
       "2017-01-01    3441\n",
       "2017-02-01    3087\n",
       "2017-03-01    7950\n",
       "2017-04-01    2795\n",
       "2017-05-01    2971\n",
       "2017-06-01    2964\n",
       "2017-07-01    3084\n",
       "2017-08-01    3295\n",
       "Name: TARGET, dtype: int64"
      ]
     },
     "metadata": {},
     "output_type": "display_data"
    },
    {
     "data": {
      "text/plain": [
       "<Axes: xlabel='ref_date_trunc'>"
      ]
     },
     "execution_count": 15,
     "metadata": {},
     "output_type": "execute_result"
    },
    {
     "data": {
      "image/png": "[encoded data removed]",
      "text/plain": [
       "<Figure size 1000x600 with 1 Axes>"
      ]
     },
     "metadata": {},
     "output_type": "display_data"
    }
   ],
   "source": [
    "# Distribuição da variável target ao longo do tempo\n",
    "df_train['ref_date_trunc'] = pd.to_datetime(df_train['REF_DATE']).dt.strftime('%Y-%m-01')\n",
    "df_test['ref_date_trunc'] = pd.to_datetime(df_test['REF_DATE']).dt.strftime('%Y-%m-01')\n",
    "\n",
    "display(df_train[df_train['TARGET'] == 1].groupby('ref_date_trunc')['TARGET'].count())\n",
    "\n",
    "target_counts = df_train[df_train['TARGET'] == 1].groupby('ref_date_trunc')['TARGET'].count()\n",
    "plt.figure(figsize=(10, 6))\n",
    "sns.lineplot(x=target_counts.index, y=target_counts.values)"
   ]
  },
  {
   "cell_type": "code",
   "execution_count": 16,
   "metadata": {},
   "outputs": [
    {
     "data": {
      "text/plain": [
       "ref_date_trunc\n",
       "2017-01-01    0.236706\n",
       "2017-02-01    0.225378\n",
       "2017-03-01    0.495451\n",
       "2017-04-01    0.207037\n",
       "2017-05-01    0.208931\n",
       "2017-06-01    0.196852\n",
       "2017-07-01    0.187534\n",
       "2017-08-01    0.191037\n",
       "Name: TARGET, dtype: float64"
      ]
     },
     "metadata": {},
     "output_type": "display_data"
    }
   ],
   "source": [
    "# Distribuição da variável target ao longo do tempo\n",
    "display(df_train.groupby('ref_date_trunc')['TARGET'].mean())"
   ]
  },
  {
   "cell_type": "code",
   "execution_count": 17,
   "metadata": {},
   "outputs": [
    {
     "data": {
      "text/plain": [
       "ref_date_trunc\n",
       "2017-01-01    14537\n",
       "2017-02-01    13697\n",
       "2017-03-01    16046\n",
       "2017-04-01    13500\n",
       "2017-05-01    14220\n",
       "2017-06-01    15057\n",
       "2017-07-01    16445\n",
       "2017-08-01    17248\n",
       "Name: ID, dtype: int64"
      ]
     },
     "metadata": {},
     "output_type": "display_data"
    },
    {
     "data": {
      "text/plain": [
       "<Axes: xlabel='ref_date_trunc'>"
      ]
     },
     "execution_count": 17,
     "metadata": {},
     "output_type": "execute_result"
    },
    {
     "data": {
      "image/png": "[encoded data removed]",
      "text/plain": [
       "<Figure size 1000x600 with 1 Axes>"
      ]
     },
     "metadata": {},
     "output_type": "display_data"
    }
   ],
   "source": [
    "# Distribuição da variável ID ao longo do tempo\n",
    "display(df_train.groupby('ref_date_trunc')['ID'].count())\n",
    "\n",
    "target_counts = df_train.groupby('ref_date_trunc')['ID'].count()\n",
    "\n",
    "plt.figure(figsize=(10, 6))  # Optional: set the size of the plot\n",
    "sns.lineplot(x=target_counts.index, y=target_counts.values)"
   ]
  },
  {
   "cell_type": "markdown",
   "metadata": {},
   "source": [
    "### PLOT DE VARIÁVEIS\n",
    "\n",
    "Como as variáveis estão mascaradas e não há muita interpretação, os códigos abaixo apenas ilustram o tipo de análise por gráfico que pode ser feito."
   ]
  },
  {
   "cell_type": "markdown",
   "metadata": {},
   "source": [
    "#### VARIÁVEIS CATEGÓRICAS"
   ]
  },
  {
   "cell_type": "code",
   "execution_count": 18,
   "metadata": {},
   "outputs": [
    {
     "data": {
      "image/png": "[encoded data removed]",
      "text/plain": [
       "<Figure size 800x600 with 1 Axes>"
      ]
     },
     "metadata": {},
     "output_type": "display_data"
    },
    {
     "data": {
      "image/png": "[encoded data removed]",
      "text/plain": [
       "<Figure size 800x600 with 1 Axes>"
      ]
     },
     "metadata": {},
     "output_type": "display_data"
    },
    {
     "data": {
      "image/png": "[encoded data removed]",
      "text/plain": [
       "<Figure size 800x600 with 1 Axes>"
      ]
     },
     "metadata": {},
     "output_type": "display_data"
    }
   ],
   "source": [
    "# Loop para gerar o gráfico de cada variável\n",
    "for var in vars_categoricas[:3]:\n",
    "    plot_categorical_distribution(df_train, var)"
   ]
  },
  {
   "cell_type": "markdown",
   "metadata": {},
   "source": [
    "#### VARIÁVEIS NUMÉRICAS"
   ]
  },
  {
   "cell_type": "code",
   "execution_count": 19,
   "metadata": {},
   "outputs": [
    {
     "data": {
      "image/png": "[encoded data removed]",
      "text/plain": [
       "<Figure size 800x600 with 1 Axes>"
      ]
     },
     "metadata": {},
     "output_type": "display_data"
    },
    {
     "data": {
      "image/png": "[encoded data removed]",
      "text/plain": [
       "<Figure size 800x600 with 1 Axes>"
      ]
     },
     "metadata": {},
     "output_type": "display_data"
    },
    {
     "data": {
      "image/png": "[encoded data removed]",
      "text/plain": [
       "<Figure size 800x600 with 1 Axes>"
      ]
     },
     "metadata": {},
     "output_type": "display_data"
    }
   ],
   "source": [
    "# Loop para gerar o gráfico de cada variável\n",
    "for var in vars_numericas[:3]:\n",
    "    plot_numerical_distribution(df_train, var)"
   ]
  },
  {
   "cell_type": "markdown",
   "metadata": {},
   "source": [
    "### NULOS, NEGATIVOS E INFINITO\n",
    "\n",
    "Conclusões:\n",
    "1. Não é possível saber se os valores negativos estão incorretos, visto que os nomes dos campos estão mascarados\n",
    "2. Não há valores mais ou menos infinito\n",
    "3. Aparentemente, boa parte dos campos tem valores nulos. Com exceção do campo IDADE, todos os demais campos estão mascarados. Assim, os campos numéricos serão preenchidos com a mediana e os campos categóricos com a moda"
   ]
  },
  {
   "cell_type": "code",
   "execution_count": 20,
   "metadata": {},
   "outputs": [
    {
     "name": "stdout",
     "output_type": "stream",
     "text": [
      "Valores negativos em VAR6: 115892\n",
      "Valores negativos em VAR7: 117394\n",
      "Valores negativos em VAR11: 583\n"
     ]
    }
   ],
   "source": [
    "# Lista de variáveis com valores negativos\n",
    "lst_vars_with_negative = list()\n",
    "\n",
    "# Loop que checa as colunas com valores negativos\n",
    "for column in df_train.columns:\n",
    "    if(df_train[column].dtype != 'object'):\n",
    "        if((df_train[column] < 0).sum() > 0): \n",
    "            print(f\"Valores negativos em {column}: {(df_train[column] < 0).sum()}\")\n",
    "            lst_vars_with_negative.append(column)"
   ]
  },
  {
   "cell_type": "code",
   "execution_count": 21,
   "metadata": {},
   "outputs": [],
   "source": [
    "# Lista de variáveis com valores infinitos\n",
    "lst_vars_with_inf = list()\n",
    "\n",
    "# Loop que checa as colunas com valores nulos\n",
    "for column in df_train.columns:\n",
    "    if(df_train[column].dtype != 'object'):\n",
    "        if((np.isneginf(df_train[column]).sum() > 0) | (np.isposinf(df_train[column]).sum() > 0)): \n",
    "            print(f\"Valores infiinitos em {column}: {np.isneginf(df_train[column]).sum() + np.isposinf(df_train[column]).sum()}\")\n",
    "            lst_vars_with_inf.append(column)"
   ]
  },
  {
   "cell_type": "code",
   "execution_count": 22,
   "metadata": {},
   "outputs": [
    {
     "name": "stdout",
     "output_type": "stream",
     "text": [
      "Nulos em VAR2: 14619\n",
      "Nulos em IDADE: 13710\n",
      "Nulos em VAR4: 120548\n",
      "Nulos em VAR5: 3356\n",
      "Nulos em VAR6: 3356\n",
      "Nulos em VAR7: 3356\n",
      "Nulos em VAR8: 53110\n",
      "Nulos em VAR9: 3303\n",
      "Nulos em VAR10: 3276\n",
      "Nulos em VAR11: 46262\n",
      "Nulos em VAR12: 55026\n",
      "Nulos em VAR13: 105220\n",
      "Nulos em VAR14: 25553\n",
      "Nulos em VAR15: 62481\n",
      "Nulos em VAR16: 75769\n",
      "Nulos em VAR17: 105220\n",
      "Nulos em VAR18: 25553\n",
      "Nulos em VAR19: 62481\n",
      "Nulos em VAR20: 109397\n",
      "Nulos em VAR21: 105157\n",
      "Nulos em VAR22: 62421\n",
      "Nulos em VAR23: 105220\n",
      "Nulos em VAR24: 23465\n",
      "Nulos em VAR25: 62481\n",
      "Nulos em VAR26: 119742\n",
      "Nulos em VAR27: 119708\n",
      "Nulos em VAR28: 108031\n",
      "Nulos em VAR29: 96026\n",
      "Nulos em VAR30: 108031\n",
      "Nulos em VAR31: 116833\n",
      "Nulos em VAR32: 78698\n",
      "Nulos em VAR33: 112129\n",
      "Nulos em VAR34: 112129\n",
      "Nulos em VAR35: 94654\n",
      "Nulos em VAR36: 95706\n",
      "Nulos em VAR37: 95706\n",
      "Nulos em VAR38: 119981\n",
      "Nulos em VAR39: 71\n",
      "Nulos em VAR40: 3284\n",
      "Nulos em VAR41: 2939\n",
      "Nulos em VAR42: 13702\n",
      "Nulos em VAR43: 120349\n",
      "Nulos em VAR44: 120349\n",
      "Nulos em VAR45: 120456\n",
      "Nulos em VAR46: 120456\n",
      "Nulos em VAR48: 112338\n",
      "Nulos em VAR49: 13706\n",
      "Nulos em VAR50: 13706\n",
      "Nulos em VAR51: 13706\n",
      "Nulos em VAR52: 13706\n",
      "Nulos em VAR53: 13706\n",
      "Nulos em VAR54: 13706\n",
      "Nulos em VAR55: 13706\n",
      "Nulos em VAR56: 13706\n",
      "Nulos em VAR57: 13706\n",
      "Nulos em VAR58: 13706\n",
      "Nulos em VAR59: 13706\n",
      "Nulos em VAR60: 13706\n",
      "Nulos em VAR61: 13706\n",
      "Nulos em VAR62: 13706\n",
      "Nulos em VAR63: 13706\n",
      "Nulos em VAR64: 13706\n",
      "Nulos em VAR65: 13706\n",
      "Nulos em VAR66: 2939\n",
      "Nulos em VAR67: 2939\n",
      "Nulos em VAR68: 2939\n",
      "Nulos em VAR69: 2939\n",
      "Nulos em VAR70: 2939\n",
      "Nulos em VAR71: 2939\n",
      "Nulos em VAR72: 2939\n",
      "Nulos em VAR73: 2939\n",
      "Nulos em VAR74: 2939\n",
      "Nulos em VAR75: 2939\n",
      "Nulos em VAR76: 2939\n",
      "Nulos em VAR77: 2939\n",
      "Nulos em VAR78: 2939\n",
      "Nulos em VAR79: 2939\n",
      "Nulos em VAR80: 2939\n",
      "Nulos em VAR81: 2939\n",
      "Nulos em VAR82: 2939\n",
      "Nulos em VAR83: 2939\n",
      "Nulos em VAR84: 2939\n",
      "Nulos em VAR85: 2939\n",
      "Nulos em VAR86: 2939\n",
      "Nulos em VAR87: 2939\n",
      "Nulos em VAR88: 2939\n",
      "Nulos em VAR89: 2939\n",
      "Nulos em VAR90: 2939\n",
      "Nulos em VAR91: 2939\n",
      "Nulos em VAR92: 2939\n",
      "Nulos em VAR93: 2939\n",
      "Nulos em VAR94: 2939\n",
      "Nulos em VAR95: 2939\n",
      "Nulos em VAR96: 2939\n",
      "Nulos em VAR97: 2939\n",
      "Nulos em VAR98: 2939\n",
      "Nulos em VAR99: 2939\n",
      "Nulos em VAR100: 2939\n",
      "Nulos em VAR101: 2939\n",
      "Nulos em VAR102: 2939\n",
      "Nulos em VAR103: 2939\n",
      "Nulos em VAR104: 2939\n",
      "Nulos em VAR105: 2939\n",
      "Nulos em VAR106: 2939\n",
      "Nulos em VAR107: 2939\n",
      "Nulos em VAR108: 2939\n",
      "Nulos em VAR109: 2939\n",
      "Nulos em VAR110: 2939\n",
      "Nulos em VAR111: 2939\n",
      "Nulos em VAR112: 2939\n",
      "Nulos em VAR113: 2939\n",
      "Nulos em VAR114: 2939\n",
      "Nulos em VAR115: 2939\n",
      "Nulos em VAR116: 2939\n",
      "Nulos em VAR117: 2939\n",
      "Nulos em VAR118: 2939\n",
      "Nulos em VAR119: 2939\n",
      "Nulos em VAR120: 2939\n",
      "Nulos em VAR121: 2939\n",
      "Nulos em VAR122: 2939\n",
      "Nulos em VAR123: 2939\n",
      "Nulos em VAR124: 2939\n",
      "Nulos em VAR125: 2939\n",
      "Nulos em VAR126: 2939\n",
      "Nulos em VAR127: 2939\n",
      "Nulos em VAR128: 2939\n",
      "Nulos em VAR129: 2939\n",
      "Nulos em VAR130: 2939\n",
      "Nulos em VAR131: 2939\n",
      "Nulos em VAR132: 2939\n",
      "Nulos em VAR133: 2939\n",
      "Nulos em VAR134: 2939\n",
      "Nulos em VAR135: 2939\n",
      "Nulos em VAR136: 2939\n",
      "Nulos em VAR137: 2939\n",
      "Nulos em VAR138: 2939\n",
      "Nulos em VAR139: 2939\n",
      "Nulos em VAR140: 2939\n",
      "Nulos em VAR142: 165\n",
      "Nulos em VAR143: 119174\n",
      "Nulos em VAR144: 119174\n",
      "Nulos em VAR145: 120071\n",
      "Nulos em VAR146: 120582\n"
     ]
    }
   ],
   "source": [
    "# Lista de variáveis com valores nulos\n",
    "lst_vars_with_null = list()\n",
    "\n",
    "# Loop que checa as colunas com valores nulos\n",
    "for column in df_train.columns:\n",
    "    if(df_train[column].isnull().sum() > 0): \n",
    "        print(f\"Nulos em {column}: {df_train[column].isnull().sum()}\")\n",
    "        lst_vars_with_null.append(column)"
   ]
  },
  {
   "cell_type": "code",
   "execution_count": 23,
   "metadata": {},
   "outputs": [],
   "source": [
    "# Cálculo das modas e medianas para preencher os valores nulos\n",
    "mode_values = df_train[vars_categoricas].mode().iloc[0]\n",
    "median_values = df_train[vars_numericas].median()\n",
    "\n",
    "# Preenchimento de valores nulos\n",
    "df_train[vars_categoricas] = df_train[vars_categoricas].fillna(mode_values)\n",
    "df_train[vars_numericas] = df_train[vars_numericas].fillna(median_values)\n",
    "df_test[vars_categoricas] = df_test[vars_categoricas].fillna(mode_values)\n",
    "df_test[vars_numericas] = df_test[vars_numericas].fillna(median_values)"
   ]
  },
  {
   "cell_type": "markdown",
   "metadata": {},
   "source": [
    "### VARIÁVEIS CATEGÓRICAS\n",
    "\n",
    "Conclusão:\n",
    "1. Remover as VAR148, cujo conteúdo não é interessante para modelagem\n",
    "2. Algumas variáveis tem apenas um valor - essas serão removidas nos métodos de feature selection\n",
    "3. As variáveis onde existe uma noção clara de escalonamento, como a VAR10, receberão label encoding. \n",
    "4. As variáveis sim e não, serão substituídas por 1 e 0. \n",
    "5. As variáveis que são preenchidas de outras formas receberão one hot encoding."
   ]
  },
  {
   "cell_type": "markdown",
   "metadata": {},
   "source": []
  },
  {
   "cell_type": "code",
   "execution_count": 24,
   "metadata": {},
   "outputs": [
    {
     "data": {
      "text/plain": [
       "VAR2\n",
       "F    74750\n",
       "M    46000\n",
       "Name: count, dtype: int64"
      ]
     },
     "metadata": {},
     "output_type": "display_data"
    },
    {
     "data": {
      "text/plain": [
       "VAR4\n",
       "S    120750\n",
       "Name: count, dtype: int64"
      ]
     },
     "metadata": {},
     "output_type": "display_data"
    },
    {
     "data": {
      "text/plain": [
       "VAR5\n",
       "SP    22435\n",
       "BA    10306\n",
       "PA    10159\n",
       "RS     8410\n",
       "CE     8262\n",
       "MG     7757\n",
       "PE     7056\n",
       "RJ     4617\n",
       "AM     4145\n",
       "RN     3800\n",
       "PR     3668\n",
       "PB     3085\n",
       "AL     2800\n",
       "ES     2765\n",
       "MS     2515\n",
       "GO     2369\n",
       "AC     2304\n",
       "MA     2083\n",
       "MT     2015\n",
       "SC     2013\n",
       "PI     1858\n",
       "RO     1731\n",
       "AP     1292\n",
       "SE     1175\n",
       "DF      790\n",
       "TO      767\n",
       "RR      573\n",
       "Name: count, dtype: int64"
      ]
     },
     "metadata": {},
     "output_type": "display_data"
    },
    {
     "data": {
      "text/plain": [
       "VAR8\n",
       "E    108038\n",
       "D      9130\n",
       "C      2972\n",
       "B       449\n",
       "A       161\n",
       "Name: count, dtype: int64"
      ]
     },
     "metadata": {},
     "output_type": "display_data"
    },
    {
     "data": {
      "text/plain": [
       "VAR9\n",
       "E    119433\n",
       "C       726\n",
       "D       537\n",
       "B        47\n",
       "A         7\n",
       "Name: count, dtype: int64"
      ]
     },
     "metadata": {},
     "output_type": "display_data"
    },
    {
     "data": {
      "text/plain": [
       "VAR10\n",
       "MEDIA         43533\n",
       "ALTISSIMA     37260\n",
       "ALTA          20842\n",
       "BAIXA         13577\n",
       "BAIXISSIMA     5538\n",
       "Name: count, dtype: int64"
      ]
     },
     "metadata": {},
     "output_type": "display_data"
    },
    {
     "data": {
      "text/plain": [
       "VAR31\n",
       "BANCO DO BRASIL                         118270\n",
       "CAIXA ECONOMICA FEDERAL                    779\n",
       "BANCO BRADESCO                             776\n",
       "BANCO ITAU                                 471\n",
       "BANCO SANTANDER                            265\n",
       "BANCO DO ESTADO DO RIO GRANDE DO SUL       137\n",
       "HSBC BANK BRASIL                            52\n",
       "Name: count, dtype: int64"
      ]
     },
     "metadata": {},
     "output_type": "display_data"
    },
    {
     "data": {
      "text/plain": [
       "VAR32\n",
       "DECLARACAO NAO ENVIADA         113671\n",
       "CREDITADA                        3667\n",
       "SALDO INEXISTENTE                1669\n",
       "IMPOSTO A PAGAR                  1229\n",
       "DECLARACAO ENVIADA                415\n",
       "DEVOLVIDA A RECEITA FEDERAL        61\n",
       "AGUARDANDO REAGENDAMENTO           38\n",
       "Name: count, dtype: int64"
      ]
     },
     "metadata": {},
     "output_type": "display_data"
    },
    {
     "data": {
      "text/plain": [
       "VAR33\n",
       "S    120750\n",
       "Name: count, dtype: int64"
      ]
     },
     "metadata": {},
     "output_type": "display_data"
    },
    {
     "data": {
      "text/plain": [
       "VAR34\n",
       "PMDB       113171\n",
       "PT            832\n",
       "PSDB          800\n",
       "PDT           691\n",
       "PP            639\n",
       "PTB           594\n",
       "DEM           526\n",
       "PR            408\n",
       "PSB           351\n",
       "PRB           326\n",
       "PC DO B       251\n",
       "PPS           230\n",
       "PSC           227\n",
       "PV            211\n",
       "PMN           147\n",
       "PSD           145\n",
       "PSL           132\n",
       "PSDC          123\n",
       "PHS           113\n",
       "PRP           112\n",
       "PSOL          112\n",
       "PT DO B       108\n",
       "PTC           100\n",
       "PTN            91\n",
       "SD             82\n",
       "PRTB           67\n",
       "PROS           52\n",
       "PEN            46\n",
       "PPL            30\n",
       "PCB            15\n",
       "PSTU            8\n",
       "REDE            7\n",
       "PCO             2\n",
       "NOVO            1\n",
       "Name: count, dtype: int64"
      ]
     },
     "metadata": {},
     "output_type": "display_data"
    },
    {
     "data": {
      "text/plain": [
       "VAR35\n",
       "S    120750\n",
       "Name: count, dtype: int64"
      ]
     },
     "metadata": {},
     "output_type": "display_data"
    },
    {
     "data": {
      "text/plain": [
       "VAR36\n",
       "S    120750\n",
       "Name: count, dtype: int64"
      ]
     },
     "metadata": {},
     "output_type": "display_data"
    },
    {
     "data": {
      "text/plain": [
       "VAR38\n",
       "S    120750\n",
       "Name: count, dtype: int64"
      ]
     },
     "metadata": {},
     "output_type": "display_data"
    },
    {
     "data": {
      "text/plain": [
       "VAR43\n",
       "S    120750\n",
       "Name: count, dtype: int64"
      ]
     },
     "metadata": {},
     "output_type": "display_data"
    },
    {
     "data": {
      "text/plain": [
       "VAR45\n",
       "S    120750\n",
       "Name: count, dtype: int64"
      ]
     },
     "metadata": {},
     "output_type": "display_data"
    },
    {
     "data": {
      "text/plain": [
       "VAR48\n",
       "N    116933\n",
       "S      3817\n",
       "Name: count, dtype: int64"
      ]
     },
     "metadata": {},
     "output_type": "display_data"
    },
    {
     "data": {
      "text/plain": [
       "VAR49\n",
       "S    112868\n",
       "N      7882\n",
       "Name: count, dtype: int64"
      ]
     },
     "metadata": {},
     "output_type": "display_data"
    },
    {
     "data": {
      "text/plain": [
       "VAR50\n",
       "N    91021\n",
       "S    29729\n",
       "Name: count, dtype: int64"
      ]
     },
     "metadata": {},
     "output_type": "display_data"
    },
    {
     "data": {
      "text/plain": [
       "VAR51\n",
       "N    117458\n",
       "S      3292\n",
       "Name: count, dtype: int64"
      ]
     },
     "metadata": {},
     "output_type": "display_data"
    },
    {
     "data": {
      "text/plain": [
       "VAR52\n",
       "N    112702\n",
       "S      8048\n",
       "Name: count, dtype: int64"
      ]
     },
     "metadata": {},
     "output_type": "display_data"
    },
    {
     "data": {
      "text/plain": [
       "VAR53\n",
       "N    118547\n",
       "S      2203\n",
       "Name: count, dtype: int64"
      ]
     },
     "metadata": {},
     "output_type": "display_data"
    },
    {
     "data": {
      "text/plain": [
       "VAR54\n",
       "N    117435\n",
       "S      3315\n",
       "Name: count, dtype: int64"
      ]
     },
     "metadata": {},
     "output_type": "display_data"
    },
    {
     "data": {
      "text/plain": [
       "VAR55\n",
       "N    114087\n",
       "S      6663\n",
       "Name: count, dtype: int64"
      ]
     },
     "metadata": {},
     "output_type": "display_data"
    },
    {
     "data": {
      "text/plain": [
       "VAR56\n",
       "N    103216\n",
       "S     17534\n",
       "Name: count, dtype: int64"
      ]
     },
     "metadata": {},
     "output_type": "display_data"
    },
    {
     "data": {
      "text/plain": [
       "VAR57\n",
       "N    118897\n",
       "S      1853\n",
       "Name: count, dtype: int64"
      ]
     },
     "metadata": {},
     "output_type": "display_data"
    },
    {
     "data": {
      "text/plain": [
       "VAR58\n",
       "N    119504\n",
       "S      1246\n",
       "Name: count, dtype: int64"
      ]
     },
     "metadata": {},
     "output_type": "display_data"
    },
    {
     "data": {
      "text/plain": [
       "VAR59\n",
       "N    116786\n",
       "S      3964\n",
       "Name: count, dtype: int64"
      ]
     },
     "metadata": {},
     "output_type": "display_data"
    },
    {
     "data": {
      "text/plain": [
       "VAR60\n",
       "N    114361\n",
       "S      6389\n",
       "Name: count, dtype: int64"
      ]
     },
     "metadata": {},
     "output_type": "display_data"
    },
    {
     "data": {
      "text/plain": [
       "VAR61\n",
       "N    106622\n",
       "S     14128\n",
       "Name: count, dtype: int64"
      ]
     },
     "metadata": {},
     "output_type": "display_data"
    },
    {
     "data": {
      "text/plain": [
       "VAR62\n",
       "N    117113\n",
       "S      3637\n",
       "Name: count, dtype: int64"
      ]
     },
     "metadata": {},
     "output_type": "display_data"
    },
    {
     "data": {
      "text/plain": [
       "VAR63\n",
       "N    109949\n",
       "S     10801\n",
       "Name: count, dtype: int64"
      ]
     },
     "metadata": {},
     "output_type": "display_data"
    },
    {
     "data": {
      "text/plain": [
       "VAR64\n",
       "N    114196\n",
       "S      6554\n",
       "Name: count, dtype: int64"
      ]
     },
     "metadata": {},
     "output_type": "display_data"
    },
    {
     "data": {
      "text/plain": [
       "VAR65\n",
       "N    102397\n",
       "S     18353\n",
       "Name: count, dtype: int64"
      ]
     },
     "metadata": {},
     "output_type": "display_data"
    },
    {
     "data": {
      "text/plain": [
       "VAR66\n",
       "MEDIA         37809\n",
       "BAIXISSIMA    32366\n",
       "ALTA          27288\n",
       "ALTISSIMA     23287\n",
       "Name: count, dtype: int64"
      ]
     },
     "metadata": {},
     "output_type": "display_data"
    },
    {
     "data": {
      "text/plain": [
       "VAR67\n",
       "BAIXISSIMA    77875\n",
       "ALTISSIMA     25899\n",
       "ALTA          16976\n",
       "Name: count, dtype: int64"
      ]
     },
     "metadata": {},
     "output_type": "display_data"
    },
    {
     "data": {
      "text/plain": [
       "VAR68\n",
       "BAIXISSIMA    50768\n",
       "ALTA          29591\n",
       "MEDIA         21427\n",
       "ALTISSIMA     18964\n",
       "Name: count, dtype: int64"
      ]
     },
     "metadata": {},
     "output_type": "display_data"
    },
    {
     "data": {
      "text/plain": [
       "VAR69\n",
       "BAIXISSIMA    68153\n",
       "ALTA          29546\n",
       "ALTISSIMA     14415\n",
       "MEDIA          8636\n",
       "Name: count, dtype: int64"
      ]
     },
     "metadata": {},
     "output_type": "display_data"
    },
    {
     "data": {
      "text/plain": [
       "VAR70\n",
       "MEDIA         41826\n",
       "BAIXISSIMA    29369\n",
       "ALTA          27906\n",
       "ALTISSIMA     21649\n",
       "Name: count, dtype: int64"
      ]
     },
     "metadata": {},
     "output_type": "display_data"
    },
    {
     "data": {
      "text/plain": [
       "VAR71\n",
       "MEDIA         34129\n",
       "ALTA          29947\n",
       "ALTISSIMA     26824\n",
       "BAIXISSIMA    23980\n",
       "BAIXA          5870\n",
       "Name: count, dtype: int64"
      ]
     },
     "metadata": {},
     "output_type": "display_data"
    },
    {
     "data": {
      "text/plain": [
       "VAR72\n",
       "BAIXISSIMA    55760\n",
       "ALTA          30482\n",
       "MEDIA         18258\n",
       "ALTISSIMA     16250\n",
       "Name: count, dtype: int64"
      ]
     },
     "metadata": {},
     "output_type": "display_data"
    },
    {
     "data": {
      "text/plain": [
       "VAR73\n",
       "BAIXISSIMA    54600\n",
       "ALTA          30410\n",
       "ALTISSIMA     18624\n",
       "MEDIA         17116\n",
       "Name: count, dtype: int64"
      ]
     },
     "metadata": {},
     "output_type": "display_data"
    },
    {
     "data": {
      "text/plain": [
       "VAR74\n",
       "MEDIA         36246\n",
       "BAIXISSIMA    32654\n",
       "ALTA          26409\n",
       "ALTISSIMA     25441\n",
       "Name: count, dtype: int64"
      ]
     },
     "metadata": {},
     "output_type": "display_data"
    },
    {
     "data": {
      "text/plain": [
       "VAR75\n",
       "BAIXISSIMA    37848\n",
       "MEDIA         33412\n",
       "ALTA          25364\n",
       "ALTISSIMA     24126\n",
       "Name: count, dtype: int64"
      ]
     },
     "metadata": {},
     "output_type": "display_data"
    },
    {
     "data": {
      "text/plain": [
       "VAR76\n",
       "ALTA          42888\n",
       "BAIXISSIMA    38211\n",
       "ALTISSIMA     22257\n",
       "MEDIA         17394\n",
       "Name: count, dtype: int64"
      ]
     },
     "metadata": {},
     "output_type": "display_data"
    },
    {
     "data": {
      "text/plain": [
       "VAR77\n",
       "BAIXISSIMA    57235\n",
       "ALTA          27569\n",
       "ALTISSIMA     18821\n",
       "MEDIA         17125\n",
       "Name: count, dtype: int64"
      ]
     },
     "metadata": {},
     "output_type": "display_data"
    },
    {
     "data": {
      "text/plain": [
       "VAR78\n",
       "BAIXISSIMA    40168\n",
       "MEDIA         33584\n",
       "ALTA          24975\n",
       "ALTISSIMA     22023\n",
       "Name: count, dtype: int64"
      ]
     },
     "metadata": {},
     "output_type": "display_data"
    },
    {
     "data": {
      "text/plain": [
       "VAR79\n",
       "BAIXISSIMA    53246\n",
       "ALTA          33755\n",
       "ALTISSIMA     18676\n",
       "MEDIA         15073\n",
       "Name: count, dtype: int64"
      ]
     },
     "metadata": {},
     "output_type": "display_data"
    },
    {
     "data": {
      "text/plain": [
       "VAR80\n",
       "BAIXISSIMA    59898\n",
       "ALTA          26700\n",
       "ALTISSIMA     19102\n",
       "MEDIA         15050\n",
       "Name: count, dtype: int64"
      ]
     },
     "metadata": {},
     "output_type": "display_data"
    },
    {
     "data": {
      "text/plain": [
       "VAR81\n",
       "ALTISSIMA     36953\n",
       "MEDIA         26580\n",
       "ALTA          24571\n",
       "BAIXA         17175\n",
       "BAIXISSIMA    15471\n",
       "Name: count, dtype: int64"
      ]
     },
     "metadata": {},
     "output_type": "display_data"
    },
    {
     "data": {
      "text/plain": [
       "VAR82\n",
       "BAIXISSIMA    65499\n",
       "ALTA          29722\n",
       "ALTISSIMA     25529\n",
       "Name: count, dtype: int64"
      ]
     },
     "metadata": {},
     "output_type": "display_data"
    },
    {
     "data": {
      "text/plain": [
       "VAR83\n",
       "BAIXISSIMA    51743\n",
       "ALTA          25963\n",
       "MEDIA         25662\n",
       "ALTISSIMA     17382\n",
       "Name: count, dtype: int64"
      ]
     },
     "metadata": {},
     "output_type": "display_data"
    },
    {
     "data": {
      "text/plain": [
       "VAR84\n",
       "BAIXISSIMA    65810\n",
       "ALTA          28177\n",
       "ALTISSIMA     25609\n",
       "MEDIA          1154\n",
       "Name: count, dtype: int64"
      ]
     },
     "metadata": {},
     "output_type": "display_data"
    },
    {
     "data": {
      "text/plain": [
       "VAR85\n",
       "BAIXISSIMA    44325\n",
       "ALTA          30812\n",
       "MEDIA         23267\n",
       "ALTISSIMA     22346\n",
       "Name: count, dtype: int64"
      ]
     },
     "metadata": {},
     "output_type": "display_data"
    },
    {
     "data": {
      "text/plain": [
       "VAR86\n",
       "BAIXISSIMA    37426\n",
       "MEDIA         31083\n",
       "ALTA          27750\n",
       "ALTISSIMA     24491\n",
       "Name: count, dtype: int64"
      ]
     },
     "metadata": {},
     "output_type": "display_data"
    },
    {
     "data": {
      "text/plain": [
       "VAR87\n",
       "MEDIA         35053\n",
       "ALTA          28290\n",
       "ALTISSIMA     26086\n",
       "BAIXISSIMA    24289\n",
       "BAIXA          7032\n",
       "Name: count, dtype: int64"
      ]
     },
     "metadata": {},
     "output_type": "display_data"
    },
    {
     "data": {
      "text/plain": [
       "VAR88\n",
       "ALTISSIMA     35604\n",
       "MEDIA         28230\n",
       "ALTA          24599\n",
       "BAIXISSIMA    21921\n",
       "BAIXA         10396\n",
       "Name: count, dtype: int64"
      ]
     },
     "metadata": {},
     "output_type": "display_data"
    },
    {
     "data": {
      "text/plain": [
       "VAR89\n",
       "BAIXISSIMA    42291\n",
       "ALTA          30849\n",
       "MEDIA         30666\n",
       "ALTISSIMA     16944\n",
       "Name: count, dtype: int64"
      ]
     },
     "metadata": {},
     "output_type": "display_data"
    },
    {
     "data": {
      "text/plain": [
       "VAR90\n",
       "BAIXISSIMA    106186\n",
       "ALTISSIMA      14564\n",
       "Name: count, dtype: int64"
      ]
     },
     "metadata": {},
     "output_type": "display_data"
    },
    {
     "data": {
      "text/plain": [
       "VAR91\n",
       "ALTISSIMA     32846\n",
       "MEDIA         28909\n",
       "BAIXISSIMA    25997\n",
       "ALTA          25093\n",
       "BAIXA          7905\n",
       "Name: count, dtype: int64"
      ]
     },
     "metadata": {},
     "output_type": "display_data"
    },
    {
     "data": {
      "text/plain": [
       "VAR92\n",
       "MEDIA         38791\n",
       "BAIXISSIMA    32408\n",
       "ALTISSIMA     25014\n",
       "ALTA          24537\n",
       "Name: count, dtype: int64"
      ]
     },
     "metadata": {},
     "output_type": "display_data"
    },
    {
     "data": {
      "text/plain": [
       "VAR93\n",
       "BAIXISSIMA    74062\n",
       "ALTISSIMA     25619\n",
       "ALTA          21069\n",
       "Name: count, dtype: int64"
      ]
     },
     "metadata": {},
     "output_type": "display_data"
    },
    {
     "data": {
      "text/plain": [
       "VAR94\n",
       "BAIXISSIMA    46254\n",
       "ALTA          31279\n",
       "ALTISSIMA     23039\n",
       "MEDIA         20178\n",
       "Name: count, dtype: int64"
      ]
     },
     "metadata": {},
     "output_type": "display_data"
    },
    {
     "data": {
      "text/plain": [
       "VAR95\n",
       "BAIXISSIMA    63289\n",
       "ALTA          39679\n",
       "ALTISSIMA     17782\n",
       "Name: count, dtype: int64"
      ]
     },
     "metadata": {},
     "output_type": "display_data"
    },
    {
     "data": {
      "text/plain": [
       "VAR96\n",
       "ALTA          31969\n",
       "MEDIA         28947\n",
       "ALTISSIMA     26196\n",
       "BAIXISSIMA    24034\n",
       "BAIXA          9604\n",
       "Name: count, dtype: int64"
      ]
     },
     "metadata": {},
     "output_type": "display_data"
    },
    {
     "data": {
      "text/plain": [
       "VAR97\n",
       "MEDIA         41475\n",
       "BAIXISSIMA    30749\n",
       "ALTA          27246\n",
       "ALTISSIMA     21280\n",
       "Name: count, dtype: int64"
      ]
     },
     "metadata": {},
     "output_type": "display_data"
    },
    {
     "data": {
      "text/plain": [
       "VAR98\n",
       "BAIXISSIMA    41309\n",
       "MEDIA         31222\n",
       "ALTA          26286\n",
       "ALTISSIMA     21933\n",
       "Name: count, dtype: int64"
      ]
     },
     "metadata": {},
     "output_type": "display_data"
    },
    {
     "data": {
      "text/plain": [
       "VAR99\n",
       "ALTISSIMA     34151\n",
       "ALTA          27331\n",
       "MEDIA         26316\n",
       "BAIXISSIMA    23616\n",
       "BAIXA          9336\n",
       "Name: count, dtype: int64"
      ]
     },
     "metadata": {},
     "output_type": "display_data"
    },
    {
     "data": {
      "text/plain": [
       "VAR100\n",
       "BAIXISSIMA    101340\n",
       "ALTISSIMA      19410\n",
       "Name: count, dtype: int64"
      ]
     },
     "metadata": {},
     "output_type": "display_data"
    },
    {
     "data": {
      "text/plain": [
       "VAR101\n",
       "BAIXISSIMA    44655\n",
       "MEDIA         27963\n",
       "ALTA          27687\n",
       "ALTISSIMA     20445\n",
       "Name: count, dtype: int64"
      ]
     },
     "metadata": {},
     "output_type": "display_data"
    },
    {
     "data": {
      "text/plain": [
       "VAR102\n",
       "LONGE            40346\n",
       "MUITO LONGE      32923\n",
       "MEDIO            23967\n",
       "PROXIMO          22345\n",
       "MUITO PROXIMO     1169\n",
       "Name: count, dtype: int64"
      ]
     },
     "metadata": {},
     "output_type": "display_data"
    },
    {
     "data": {
      "text/plain": [
       "VAR103\n",
       "MUITO LONGE      37359\n",
       "LONGE            31591\n",
       "MEDIO            27052\n",
       "PROXIMO          20470\n",
       "MUITO PROXIMO     4278\n",
       "Name: count, dtype: int64"
      ]
     },
     "metadata": {},
     "output_type": "display_data"
    },
    {
     "data": {
      "text/plain": [
       "VAR104\n",
       "MUITO LONGE      37668\n",
       "LONGE            33534\n",
       "MEDIO            25068\n",
       "PROXIMO          21955\n",
       "MUITO PROXIMO     2525\n",
       "Name: count, dtype: int64"
      ]
     },
     "metadata": {},
     "output_type": "display_data"
    },
    {
     "data": {
      "text/plain": [
       "VAR105\n",
       "MUITO LONGE      43056\n",
       "LONGE            35069\n",
       "MEDIO            30095\n",
       "PROXIMO           9328\n",
       "MUITO PROXIMO     3202\n",
       "Name: count, dtype: int64"
      ]
     },
     "metadata": {},
     "output_type": "display_data"
    },
    {
     "data": {
      "text/plain": [
       "VAR106\n",
       "MUITO LONGE      37402\n",
       "LONGE            31475\n",
       "MEDIO            27237\n",
       "PROXIMO          23240\n",
       "MUITO PROXIMO     1396\n",
       "Name: count, dtype: int64"
      ]
     },
     "metadata": {},
     "output_type": "display_data"
    },
    {
     "data": {
      "text/plain": [
       "VAR107\n",
       "LONGE            37906\n",
       "MUITO LONGE      33681\n",
       "MEDIO            29120\n",
       "PROXIMO          19910\n",
       "MUITO PROXIMO      133\n",
       "Name: count, dtype: int64"
      ]
     },
     "metadata": {},
     "output_type": "display_data"
    },
    {
     "data": {
      "text/plain": [
       "VAR108\n",
       "MEDIO            36798\n",
       "MUITO LONGE      32933\n",
       "LONGE            26054\n",
       "PROXIMO          22703\n",
       "MUITO PROXIMO     2262\n",
       "Name: count, dtype: int64"
      ]
     },
     "metadata": {},
     "output_type": "display_data"
    },
    {
     "data": {
      "text/plain": [
       "VAR109\n",
       "LONGE            42766\n",
       "MUITO LONGE      34815\n",
       "MEDIO            32165\n",
       "PROXIMO           9099\n",
       "MUITO PROXIMO     1905\n",
       "Name: count, dtype: int64"
      ]
     },
     "metadata": {},
     "output_type": "display_data"
    },
    {
     "data": {
      "text/plain": [
       "VAR110\n",
       "MUITO LONGE      37998\n",
       "LONGE            34575\n",
       "MEDIO            25222\n",
       "PROXIMO          22426\n",
       "MUITO PROXIMO      529\n",
       "Name: count, dtype: int64"
      ]
     },
     "metadata": {},
     "output_type": "display_data"
    },
    {
     "data": {
      "text/plain": [
       "VAR111\n",
       "MUITO LONGE      37052\n",
       "MEDIO            31590\n",
       "LONGE            29511\n",
       "PROXIMO          20598\n",
       "MUITO PROXIMO     1999\n",
       "Name: count, dtype: int64"
      ]
     },
     "metadata": {},
     "output_type": "display_data"
    },
    {
     "data": {
      "text/plain": [
       "VAR112\n",
       "MUITO LONGE      36875\n",
       "LONGE            30324\n",
       "MEDIO            29396\n",
       "PROXIMO          23286\n",
       "MUITO PROXIMO      869\n",
       "Name: count, dtype: int64"
      ]
     },
     "metadata": {},
     "output_type": "display_data"
    },
    {
     "data": {
      "text/plain": [
       "VAR113\n",
       "MUITO LONGE      37346\n",
       "LONGE            30195\n",
       "PROXIMO          27344\n",
       "MEDIO            25756\n",
       "MUITO PROXIMO      109\n",
       "Name: count, dtype: int64"
      ]
     },
     "metadata": {},
     "output_type": "display_data"
    },
    {
     "data": {
      "text/plain": [
       "VAR114\n",
       "MUITO LONGE      37722\n",
       "LONGE            34375\n",
       "MEDIO            27933\n",
       "PROXIMO          20532\n",
       "MUITO PROXIMO      188\n",
       "Name: count, dtype: int64"
      ]
     },
     "metadata": {},
     "output_type": "display_data"
    },
    {
     "data": {
      "text/plain": [
       "VAR115\n",
       "LONGE            37600\n",
       "MUITO LONGE      32487\n",
       "MEDIO            32224\n",
       "PROXIMO          16714\n",
       "MUITO PROXIMO     1725\n",
       "Name: count, dtype: int64"
      ]
     },
     "metadata": {},
     "output_type": "display_data"
    },
    {
     "data": {
      "text/plain": [
       "VAR116\n",
       "MUITO LONGE      35450\n",
       "MEDIO            31117\n",
       "LONGE            24874\n",
       "PROXIMO          16619\n",
       "MUITO PROXIMO    12690\n",
       "Name: count, dtype: int64"
      ]
     },
     "metadata": {},
     "output_type": "display_data"
    },
    {
     "data": {
      "text/plain": [
       "VAR117\n",
       "MUITO LONGE      40428\n",
       "LONGE            33181\n",
       "PROXIMO          23987\n",
       "MEDIO            20376\n",
       "MUITO PROXIMO     2778\n",
       "Name: count, dtype: int64"
      ]
     },
     "metadata": {},
     "output_type": "display_data"
    },
    {
     "data": {
      "text/plain": [
       "VAR118\n",
       "MUITO LONGE      35326\n",
       "LONGE            32351\n",
       "MEDIO            25596\n",
       "MUITO PROXIMO    14651\n",
       "PROXIMO          12826\n",
       "Name: count, dtype: int64"
      ]
     },
     "metadata": {},
     "output_type": "display_data"
    },
    {
     "data": {
      "text/plain": [
       "VAR119\n",
       "MUITO LONGE      34635\n",
       "LONGE            29967\n",
       "MEDIO            29748\n",
       "PROXIMO          26373\n",
       "MUITO PROXIMO       27\n",
       "Name: count, dtype: int64"
      ]
     },
     "metadata": {},
     "output_type": "display_data"
    },
    {
     "data": {
      "text/plain": [
       "VAR120\n",
       "MUITO LONGE    105177\n",
       "PROXIMO         15573\n",
       "Name: count, dtype: int64"
      ]
     },
     "metadata": {},
     "output_type": "display_data"
    },
    {
     "data": {
      "text/plain": [
       "VAR121\n",
       "MUITO LONGE    35628\n",
       "MEDIO          31134\n",
       "LONGE          27087\n",
       "PROXIMO        26901\n",
       "Name: count, dtype: int64"
      ]
     },
     "metadata": {},
     "output_type": "display_data"
    },
    {
     "data": {
      "text/plain": [
       "VAR122\n",
       "MUITO LONGE      36835\n",
       "LONGE            31957\n",
       "MEDIO            26533\n",
       "PROXIMO          24755\n",
       "MUITO PROXIMO      670\n",
       "Name: count, dtype: int64"
      ]
     },
     "metadata": {},
     "output_type": "display_data"
    },
    {
     "data": {
      "text/plain": [
       "VAR123\n",
       "MUITO LONGE      38272\n",
       "MEDIO            33099\n",
       "LONGE            25473\n",
       "PROXIMO          21115\n",
       "MUITO PROXIMO     2791\n",
       "Name: count, dtype: int64"
      ]
     },
     "metadata": {},
     "output_type": "display_data"
    },
    {
     "data": {
      "text/plain": [
       "VAR124\n",
       "MUITO LONGE      34959\n",
       "LONGE            29931\n",
       "MEDIO            29866\n",
       "PROXIMO          21342\n",
       "MUITO PROXIMO     4652\n",
       "Name: count, dtype: int64"
      ]
     },
     "metadata": {},
     "output_type": "display_data"
    },
    {
     "data": {
      "text/plain": [
       "VAR125\n",
       "MUITO LONGE      37466\n",
       "MEDIO            31507\n",
       "PROXIMO          24845\n",
       "LONGE            24304\n",
       "MUITO PROXIMO     2628\n",
       "Name: count, dtype: int64"
      ]
     },
     "metadata": {},
     "output_type": "display_data"
    },
    {
     "data": {
      "text/plain": [
       "VAR126\n",
       "MEDIO            38025\n",
       "LONGE            34042\n",
       "MUITO LONGE      33420\n",
       "PROXIMO          14446\n",
       "MUITO PROXIMO      817\n",
       "Name: count, dtype: int64"
      ]
     },
     "metadata": {},
     "output_type": "display_data"
    },
    {
     "data": {
      "text/plain": [
       "VAR127\n",
       "MUITO LONGE      41950\n",
       "LONGE            30749\n",
       "MEDIO            28409\n",
       "PROXIMO          19535\n",
       "MUITO PROXIMO      107\n",
       "Name: count, dtype: int64"
      ]
     },
     "metadata": {},
     "output_type": "display_data"
    },
    {
     "data": {
      "text/plain": [
       "VAR128\n",
       "MUITO LONGE      38057\n",
       "MEDIO            29096\n",
       "LONGE            27399\n",
       "PROXIMO          20715\n",
       "MUITO PROXIMO     5483\n",
       "Name: count, dtype: int64"
      ]
     },
     "metadata": {},
     "output_type": "display_data"
    },
    {
     "data": {
      "text/plain": [
       "VAR129\n",
       "MUITO LONGE      37893\n",
       "LONGE            31658\n",
       "MEDIO            28969\n",
       "PROXIMO          21660\n",
       "MUITO PROXIMO      570\n",
       "Name: count, dtype: int64"
      ]
     },
     "metadata": {},
     "output_type": "display_data"
    },
    {
     "data": {
      "text/plain": [
       "VAR130\n",
       "MUITO LONGE      37546\n",
       "LONGE            33591\n",
       "MEDIO            27857\n",
       "PROXIMO          21655\n",
       "MUITO PROXIMO      101\n",
       "Name: count, dtype: int64"
      ]
     },
     "metadata": {},
     "output_type": "display_data"
    },
    {
     "data": {
      "text/plain": [
       "VAR131\n",
       "LONGE            36895\n",
       "MEDIO            32281\n",
       "MUITO LONGE      28442\n",
       "PROXIMO          20779\n",
       "MUITO PROXIMO     2353\n",
       "Name: count, dtype: int64"
      ]
     },
     "metadata": {},
     "output_type": "display_data"
    },
    {
     "data": {
      "text/plain": [
       "VAR132\n",
       "MUITO LONGE      36128\n",
       "LONGE            28189\n",
       "MEDIO            28140\n",
       "PROXIMO          23089\n",
       "MUITO PROXIMO     5204\n",
       "Name: count, dtype: int64"
      ]
     },
     "metadata": {},
     "output_type": "display_data"
    },
    {
     "data": {
      "text/plain": [
       "VAR133\n",
       "MUITO LONGE      37861\n",
       "LONGE            32708\n",
       "MEDIO            28096\n",
       "PROXIMO          19114\n",
       "MUITO PROXIMO     2971\n",
       "Name: count, dtype: int64"
      ]
     },
     "metadata": {},
     "output_type": "display_data"
    },
    {
     "data": {
      "text/plain": [
       "VAR134\n",
       "MUITO LONGE      35692\n",
       "LONGE            32193\n",
       "MEDIO            28142\n",
       "PROXIMO          23646\n",
       "MUITO PROXIMO     1077\n",
       "Name: count, dtype: int64"
      ]
     },
     "metadata": {},
     "output_type": "display_data"
    },
    {
     "data": {
      "text/plain": [
       "VAR135\n",
       "MUITO LONGE      36641\n",
       "MEDIO            30992\n",
       "LONGE            25006\n",
       "PROXIMO          22864\n",
       "MUITO PROXIMO     5247\n",
       "Name: count, dtype: int64"
      ]
     },
     "metadata": {},
     "output_type": "display_data"
    },
    {
     "data": {
      "text/plain": [
       "VAR136\n",
       "MUITO LONGE      43895\n",
       "LONGE            32081\n",
       "MEDIO            25467\n",
       "PROXIMO          19218\n",
       "MUITO PROXIMO       89\n",
       "Name: count, dtype: int64"
      ]
     },
     "metadata": {},
     "output_type": "display_data"
    },
    {
     "data": {
      "text/plain": [
       "VAR137\n",
       "MUITO LONGE      39245\n",
       "LONGE            36261\n",
       "MEDIO            31761\n",
       "PROXIMO          12445\n",
       "MUITO PROXIMO     1038\n",
       "Name: count, dtype: int64"
      ]
     },
     "metadata": {},
     "output_type": "display_data"
    },
    {
     "data": {
      "text/plain": [
       "VAR138\n",
       "MUITO LONGE      38334\n",
       "LONGE            35280\n",
       "MEDIO            29585\n",
       "PROXIMO          17086\n",
       "MUITO PROXIMO      465\n",
       "Name: count, dtype: int64"
      ]
     },
     "metadata": {},
     "output_type": "display_data"
    },
    {
     "data": {
      "text/plain": [
       "VAR139\n",
       "LONGE            38458\n",
       "MUITO LONGE      31978\n",
       "MEDIO            28485\n",
       "PROXIMO          21104\n",
       "MUITO PROXIMO      725\n",
       "Name: count, dtype: int64"
      ]
     },
     "metadata": {},
     "output_type": "display_data"
    },
    {
     "data": {
      "text/plain": [
       "VAR140\n",
       "MUITO LONGE      55345\n",
       "MUITO PROXIMO    25652\n",
       "MEDIO            19219\n",
       "LONGE            17006\n",
       "PROXIMO           3528\n",
       "Name: count, dtype: int64"
      ]
     },
     "metadata": {},
     "output_type": "display_data"
    },
    {
     "data": {
      "text/plain": [
       "VAR142\n",
       "E    94223\n",
       "D    23072\n",
       "C     3221\n",
       "B      204\n",
       "A       30\n",
       "Name: count, dtype: int64"
      ]
     },
     "metadata": {},
     "output_type": "display_data"
    },
    {
     "data": {
      "text/plain": [
       "VAR143\n",
       "N    120071\n",
       "S       679\n",
       "Name: count, dtype: int64"
      ]
     },
     "metadata": {},
     "output_type": "display_data"
    },
    {
     "data": {
      "text/plain": [
       "VAR144\n",
       "N    120582\n",
       "S       168\n",
       "Name: count, dtype: int64"
      ]
     },
     "metadata": {},
     "output_type": "display_data"
    },
    {
     "data": {
      "text/plain": [
       "VAR148\n",
       "EMAIL INEXISTENTE                                         52379\n",
       "EMAIL INEXISTENTE#@#NOME INEXISTENTE#@#CEP INEXISTENTE    50779\n",
       "OPERACAO REALIZADA COM SUCESSO                             9560\n",
       "NOME INEXISTENTE#@#EMAIL INEXISTENTE                       7130\n",
       "CEP INEXISTENTE#@#EMAIL INEXISTENTE                         480\n",
       "NOME INEXISTENTE                                            413\n",
       "CEP INEXISTENTE                                               6\n",
       "NOME INEXISTENTE#@#CEP INEXISTENTE                            3\n",
       "Name: count, dtype: int64"
      ]
     },
     "metadata": {},
     "output_type": "display_data"
    },
    {
     "data": {
      "text/plain": [
       "VAR149\n",
       "2.6.1    120750\n",
       "Name: count, dtype: int64"
      ]
     },
     "metadata": {},
     "output_type": "display_data"
    }
   ],
   "source": [
    "# Checagem das variáveis categóricas e seus valores\n",
    "for column in df_train[vars_categoricas].columns:\n",
    "    display(df_train[column].value_counts())"
   ]
  },
  {
   "cell_type": "code",
   "execution_count": 25,
   "metadata": {},
   "outputs": [],
   "source": [
    "# Remoção de coluna descenessária\n",
    "df_train.drop(columns='VAR148', inplace=True)\n",
    "vars_categoricas.remove('VAR148')"
   ]
  },
  {
   "cell_type": "code",
   "execution_count": 26,
   "metadata": {},
   "outputs": [],
   "source": [
    "# Lista de variáveis sim e não (flags)\n",
    "lst_flags = [x for x in df_train[vars_categoricas].columns if df_train[x].isin(['S', 'N']).all()]\n",
    "\n",
    "# Trocando os valores dessas colunas\n",
    "df_train[lst_flags] = df_train[lst_flags].replace({'S': 1, 'N': 0})\n",
    "df_test[lst_flags] = df_test[lst_flags].replace({'S': 1, 'N': 0})"
   ]
  },
  {
   "cell_type": "code",
   "execution_count": 27,
   "metadata": {},
   "outputs": [],
   "source": [
    "# Lista de variáveis para label encoder\n",
    "lst_label_encode = ['VAR10', *[f'VAR{i}' for i in range(66, 141)]]\n",
    "\n",
    "# Instanciando o método de label encoder\n",
    "label_encoder = LabelEncoder()\n",
    "\n",
    "# Dicionário para guardar os valores do mapeamento\n",
    "label_encoders = {}\n",
    "\n",
    "# Label Encoding df_train\n",
    "for var in lst_label_encode:\n",
    "    label_encoders[var] = label_encoder.fit(df_train[var])\n",
    "    df_train[var] = label_encoder.transform(df_train[var])\n",
    "\n",
    "# Label Encoding df_test\n",
    "for var in lst_label_encode:\n",
    "\n",
    "    # Adicionando a categoria desconhecido\n",
    "    label_encoder.classes_ = np.append(label_encoder.classes_, 'DESCONHECIDO')\n",
    "    \n",
    "    # Aplicando a classe desconhecida\n",
    "    df_test[var] = df_test[var].apply(lambda x: x if x in label_encoder.classes_[:-1] else 'DESCONHECIDO')\n",
    "    \n",
    "    # Aplicação final do encoding\n",
    "    df_test[var] = label_encoder.transform(df_test[var])"
   ]
  },
  {
   "cell_type": "code",
   "execution_count": 28,
   "metadata": {},
   "outputs": [],
   "source": [
    "# Lista de variaveis para aplicação de one hot encoding\n",
    "lst_one_hot_encoding = [x for x in vars_categoricas if x not in lst_flags and x not in lst_label_encode]\n",
    "\n",
    "# One Hot Encoding df_train\n",
    "df_train = pd.get_dummies(df_train, columns=lst_one_hot_encoding)\n",
    "\n",
    "# Selecionando as colunas no df_train\n",
    "train_columns = df_train.columns\n",
    "\n",
    "# One Hot Encoding df_test\n",
    "df_test = pd.get_dummies(df_test, columns=lst_one_hot_encoding)\n",
    "\n",
    "# Mantendo apenas as colunas resultado no encoding no df_train\n",
    "df_test = df_test.reindex(columns=train_columns, fill_value=0)\n",
    "\n",
    "# Convertendo colunas booleanas\n",
    "lst_vars_bool = df_train.select_dtypes(include=['bool']).columns\n",
    "df_train[lst_vars_bool] = df_train[lst_vars_bool].astype(int)\n",
    "df_test[lst_vars_bool] = df_test[lst_vars_bool].astype(int)\n"
   ]
  },
  {
   "cell_type": "markdown",
   "metadata": {},
   "source": [
    "### SCALER\n",
    "\n",
    "Esse passo é importante principalmente em modelos tipo regressão logística e, nesse caso, se mostrou relevante, visto que as variáveis tem amplitudes bem diferentes."
   ]
  },
  {
   "cell_type": "code",
   "execution_count": 29,
   "metadata": {},
   "outputs": [],
   "source": [
    "# Instanciando objeto de normalização\n",
    "scaler = MinMaxScaler()\n",
    "\n",
    "# Lista de colunas para escalonar\n",
    "df_train['IDADE_ORIGINAL'] = df_train['IDADE']\n",
    "df_test['IDADE_ORIGINAL'] = df_test['IDADE']\n",
    "lst_scaler = [x for x in df_train.columns if x not in ['ref_date_trunc', 'REF_DATE', 'TARGET', 'ID', 'IDADE_ORIGINAL']]\n",
    "\n",
    "# Aplicando o scaler\n",
    "df_train[lst_scaler] = scaler.fit_transform(df_train[lst_scaler])\n",
    "df_test[lst_scaler] = scaler.transform(df_test[lst_scaler])"
   ]
  },
  {
   "cell_type": "markdown",
   "metadata": {},
   "source": [
    "## FEATURE SELECTION"
   ]
  },
  {
   "cell_type": "code",
   "execution_count": 30,
   "metadata": {},
   "outputs": [
    {
     "name": "stdout",
     "output_type": "stream",
     "text": [
      "Variáveis selecionadas pelo SelectKBest:\n",
      "['IDADE', 'VAR6', 'VAR7', 'VAR10', 'VAR12', 'VAR14', 'VAR15', 'VAR16', 'VAR17', 'VAR18', 'VAR19', 'VAR24', 'VAR39', 'VAR40', 'VAR41', 'VAR47', 'VAR48', 'VAR50', 'VAR52', 'VAR53', 'VAR54', 'VAR55', 'VAR56', 'VAR61', 'VAR63', 'VAR64', 'VAR66', 'VAR67', 'VAR68', 'VAR70', 'VAR71', 'VAR72', 'VAR73', 'VAR74', 'VAR75', 'VAR76', 'VAR77', 'VAR79', 'VAR81', 'VAR82', 'VAR84', 'VAR85', 'VAR86', 'VAR87', 'VAR88', 'VAR89', 'VAR90', 'VAR91', 'VAR92', 'VAR93', 'VAR94', 'VAR95', 'VAR96', 'VAR98', 'VAR99', 'VAR100', 'VAR105', 'VAR114', 'VAR116', 'VAR117', 'VAR118', 'VAR119', 'VAR120', 'VAR121', 'VAR127', 'VAR133', 'VAR136', 'VAR137', 'VAR140', 'VAR143', 'VAR144', 'VAR147', 'VAR2_F', 'VAR2_M', 'VAR5_AC', 'VAR5_AL', 'VAR5_AM', 'VAR5_AP', 'VAR5_MG', 'VAR5_MS', 'VAR5_MT', 'VAR5_PA', 'VAR5_PB', 'VAR5_PE', 'VAR5_PI', 'VAR5_PR', 'VAR5_RN', 'VAR5_RO', 'VAR5_RR', 'VAR5_RS', 'VAR5_SC', 'VAR5_SE', 'VAR5_SP', 'VAR8_A', 'VAR8_B', 'VAR8_D', 'VAR8_E', 'VAR31_BANCO BRADESCO', 'VAR31_BANCO DO ESTADO DO RIO GRANDE DO SUL', 'VAR31_BANCO SANTANDER', 'VAR31_CAIXA ECONOMICA FEDERAL', 'VAR31_HSBC BANK BRASIL', 'VAR32_CREDITADA', 'VAR32_DECLARACAO NAO ENVIADA', 'VAR32_IMPOSTO A PAGAR', 'VAR32_SALDO INEXISTENTE', 'VAR34_DEM', 'VAR34_PDT', 'VAR34_PP', 'VAR34_PPL', 'VAR34_PPS', 'VAR34_PSB', 'VAR34_PSDC', 'VAR34_PT', 'VAR34_PTB', 'VAR142_A', 'VAR142_B', 'VAR142_C', 'VAR142_D', 'VAR142_E']\n"
     ]
    }
   ],
   "source": [
    "# Criando dataframes do SelectKBest\n",
    "X = df_train[lst_scaler]\n",
    "y = df_train['TARGET']\n",
    "\n",
    "# Número de features a serem escolhidas\n",
    "n_vars = 120\n",
    "\n",
    "# Feature selection com SelectKBest\n",
    "select = SelectKBest(score_func=chi2, k=n_vars)\n",
    "select.fit_transform(X, y)\n",
    "vars_selecionadas = list(X.columns[select.get_support()])\n",
    "print(\"Variáveis selecionadas pelo SelectKBest:\")\n",
    "print(vars_selecionadas)"
   ]
  },
  {
   "cell_type": "markdown",
   "metadata": {},
   "source": [
    "## MODEL TRAINING"
   ]
  },
  {
   "cell_type": "code",
   "execution_count": 31,
   "metadata": {},
   "outputs": [
    {
     "name": "stdout",
     "output_type": "stream",
     "text": [
      "Linhas de treino: 120750 (69.9996%)\n",
      "Linhas de teste: 51751 (30.0004%)\n"
     ]
    }
   ],
   "source": [
    "# Preparando dados de treino\n",
    "X = df_train[vars_selecionadas]\n",
    "y = df_train['TARGET']\n",
    "\n",
    "# Preparando dados de teste\n",
    "X_teste = df_test[vars_selecionadas]\n",
    "y_teste = df_test['TARGET']\n",
    "\n",
    "print(f'Linhas de treino: {X.shape[0]} ({X.shape[0]/(X.shape[0] + X_teste.shape[0]) * 100:.4f}%)')\n",
    "print(f'Linhas de teste: {X_teste.shape[0]} ({X_teste.shape[0]/(X.shape[0] + X_teste.shape[0]) * 100:.4f}%)')"
   ]
  },
  {
   "cell_type": "markdown",
   "metadata": {},
   "source": [
    "### CRIAÇÃO DE VARIÁVEL DE BALANCEAMENTO"
   ]
  },
  {
   "cell_type": "code",
   "execution_count": 32,
   "metadata": {},
   "outputs": [
    {
     "name": "stdout",
     "output_type": "stream",
     "text": [
      "Before SMOTE: TARGET\n",
      "0    91163\n",
      "1    29587\n",
      "Name: count, dtype: int64\n",
      "After SMOTE: TARGET\n",
      "0    91163\n",
      "1    91163\n",
      "Name: count, dtype: int64\n"
     ]
    }
   ],
   "source": [
    "# Instantiate the SMOTE object\n",
    "smote = SMOTE(random_state=seed)\n",
    "\n",
    "# Apply SMOTE to balance the dataset\n",
    "X_resampled, y_resampled = smote.fit_resample(X, y)\n",
    "\n",
    "# Check the new class distribution\n",
    "print(f\"Before SMOTE: {y.value_counts()}\")\n",
    "print(f\"After SMOTE: {y_resampled.value_counts()}\")"
   ]
  },
  {
   "cell_type": "code",
   "execution_count": 33,
   "metadata": {},
   "outputs": [],
   "source": [
    "# Classificação dos datasets originais utilizando o modelo balanceado\n",
    "modelo_lr_balanceado = LogisticRegression(max_iter = 500, random_state=seed, penalty = 'l2')\n",
    "modelo_lr_balanceado.fit(X_resampled, y_resampled)\n",
    "X['lr_balanceado_prediction'] = modelo_lr_balanceado.predict(X)\n",
    "X_teste['lr_balanceado_prediction'] = modelo_lr_balanceado.predict(X_teste)"
   ]
  },
  {
   "cell_type": "markdown",
   "metadata": {},
   "source": [
    "### TREINAMENTO DE ENSEMBLE"
   ]
  },
  {
   "cell_type": "code",
   "execution_count": 34,
   "metadata": {},
   "outputs": [
    {
     "data": {
      "text/html": [
       "<style>#sk-container-id-1 {\n",
       "  /* Definition of color scheme common for light and dark mode */\n",
       "  --sklearn-color-text: black;\n",
       "  --sklearn-color-line: gray;\n",
       "  /* Definition of color scheme for unfitted estimators */\n",
       "  --sklearn-color-unfitted-level-0: #fff5e6;\n",
       "  --sklearn-color-unfitted-level-1: #f6e4d2;\n",
       "  --sklearn-color-unfitted-level-2: #ffe0b3;\n",
       "  --sklearn-color-unfitted-level-3: chocolate;\n",
       "  /* Definition of color scheme for fitted estimators */\n",
       "  --sklearn-color-fitted-level-0: #f0f8ff;\n",
       "  --sklearn-color-fitted-level-1: #d4ebff;\n",
       "  --sklearn-color-fitted-level-2: #b3dbfd;\n",
       "  --sklearn-color-fitted-level-3: cornflowerblue;\n",
       "\n",
       "  /* Specific color for light theme */\n",
       "  --sklearn-color-text-on-default-background: var(--sg-text-color, var(--theme-code-foreground, var(--jp-content-font-color1, black)));\n",
       "  --sklearn-color-background: var(--sg-background-color, var(--theme-background, var(--jp-layout-color0, white)));\n",
       "  --sklearn-color-border-box: var(--sg-text-color, var(--theme-code-foreground, var(--jp-content-font-color1, black)));\n",
       "  --sklearn-color-icon: #696969;\n",
       "\n",
       "  @media (prefers-color-scheme: dark) {\n",
       "    /* Redefinition of color scheme for dark theme */\n",
       "    --sklearn-color-text-on-default-background: var(--sg-text-color, var(--theme-code-foreground, var(--jp-content-font-color1, white)));\n",
       "    --sklearn-color-background: var(--sg-background-color, var(--theme-background, var(--jp-layout-color0, #111)));\n",
       "    --sklearn-color-border-box: var(--sg-text-color, var(--theme-code-foreground, var(--jp-content-font-color1, white)));\n",
       "    --sklearn-color-icon: #878787;\n",
       "  }\n",
       "}\n",
       "\n",
       "#sk-container-id-1 {\n",
       "  color: var(--sklearn-color-text);\n",
       "}\n",
       "\n",
       "#sk-container-id-1 pre {\n",
       "  padding: 0;\n",
       "}\n",
       "\n",
       "#sk-container-id-1 input.sk-hidden--visually {\n",
       "  border: 0;\n",
       "  clip: rect(1px 1px 1px 1px);\n",
       "  clip: rect(1px, 1px, 1px, 1px);\n",
       "  height: 1px;\n",
       "  margin: -1px;\n",
       "  overflow: hidden;\n",
       "  padding: 0;\n",
       "  position: absolute;\n",
       "  width: 1px;\n",
       "}\n",
       "\n",
       "#sk-container-id-1 div.sk-dashed-wrapped {\n",
       "  border: 1px dashed var(--sklearn-color-line);\n",
       "  margin: 0 0.4em 0.5em 0.4em;\n",
       "  box-sizing: border-box;\n",
       "  padding-bottom: 0.4em;\n",
       "  background-color: var(--sklearn-color-background);\n",
       "}\n",
       "\n",
       "#sk-container-id-1 div.sk-container {\n",
       "  /* jupyter's `normalize.less` sets `[hidden] { display: none; }`\n",
       "     but bootstrap.min.css set `[hidden] { display: none !important; }`\n",
       "     so we also need the `!important` here to be able to override the\n",
       "     default hidden behavior on the sphinx rendered scikit-learn.org.\n",
       "     See: https://github.com/scikit-learn/scikit-learn/issues/21755 */\n",
       "  display: inline-block !important;\n",
       "  position: relative;\n",
       "}\n",
       "\n",
       "#sk-container-id-1 div.sk-text-repr-fallback {\n",
       "  display: none;\n",
       "}\n",
       "\n",
       "div.sk-parallel-item,\n",
       "div.sk-serial,\n",
       "div.sk-item {\n",
       "  /* draw centered vertical line to link estimators */\n",
       "  background-image: linear-gradient(var(--sklearn-color-text-on-default-background), var(--sklearn-color-text-on-default-background));\n",
       "  background-size: 2px 100%;\n",
       "  background-repeat: no-repeat;\n",
       "  background-position: center center;\n",
       "}\n",
       "\n",
       "/* Parallel-specific style estimator block */\n",
       "\n",
       "#sk-container-id-1 div.sk-parallel-item::after {\n",
       "  content: \"\";\n",
       "  width: 100%;\n",
       "  border-bottom: 2px solid var(--sklearn-color-text-on-default-background);\n",
       "  flex-grow: 1;\n",
       "}\n",
       "\n",
       "#sk-container-id-1 div.sk-parallel {\n",
       "  display: flex;\n",
       "  align-items: stretch;\n",
       "  justify-content: center;\n",
       "  background-color: var(--sklearn-color-background);\n",
       "  position: relative;\n",
       "}\n",
       "\n",
       "#sk-container-id-1 div.sk-parallel-item {\n",
       "  display: flex;\n",
       "  flex-direction: column;\n",
       "}\n",
       "\n",
       "#sk-container-id-1 div.sk-parallel-item:first-child::after {\n",
       "  align-self: flex-end;\n",
       "  width: 50%;\n",
       "}\n",
       "\n",
       "#sk-container-id-1 div.sk-parallel-item:last-child::after {\n",
       "  align-self: flex-start;\n",
       "  width: 50%;\n",
       "}\n",
       "\n",
       "#sk-container-id-1 div.sk-parallel-item:only-child::after {\n",
       "  width: 0;\n",
       "}\n",
       "\n",
       "/* Serial-specific style estimator block */\n",
       "\n",
       "#sk-container-id-1 div.sk-serial {\n",
       "  display: flex;\n",
       "  flex-direction: column;\n",
       "  align-items: center;\n",
       "  background-color: var(--sklearn-color-background);\n",
       "  padding-right: 1em;\n",
       "  padding-left: 1em;\n",
       "}\n",
       "\n",
       "\n",
       "/* Toggleable style: style used for estimator/Pipeline/ColumnTransformer box that is\n",
       "clickable and can be expanded/collapsed.\n",
       "- Pipeline and ColumnTransformer use this feature and define the default style\n",
       "- Estimators will overwrite some part of the style using the `sk-estimator` class\n",
       "*/\n",
       "\n",
       "/* Pipeline and ColumnTransformer style (default) */\n",
       "\n",
       "#sk-container-id-1 div.sk-toggleable {\n",
       "  /* Default theme specific background. It is overwritten whether we have a\n",
       "  specific estimator or a Pipeline/ColumnTransformer */\n",
       "  background-color: var(--sklearn-color-background);\n",
       "}\n",
       "\n",
       "/* Toggleable label */\n",
       "#sk-container-id-1 label.sk-toggleable__label {\n",
       "  cursor: pointer;\n",
       "  display: block;\n",
       "  width: 100%;\n",
       "  margin-bottom: 0;\n",
       "  padding: 0.5em;\n",
       "  box-sizing: border-box;\n",
       "  text-align: center;\n",
       "}\n",
       "\n",
       "#sk-container-id-1 label.sk-toggleable__label-arrow:before {\n",
       "  /* Arrow on the left of the label */\n",
       "  content: \"▸\";\n",
       "  float: left;\n",
       "  margin-right: 0.25em;\n",
       "  color: var(--sklearn-color-icon);\n",
       "}\n",
       "\n",
       "#sk-container-id-1 label.sk-toggleable__label-arrow:hover:before {\n",
       "  color: var(--sklearn-color-text);\n",
       "}\n",
       "\n",
       "/* Toggleable content - dropdown */\n",
       "\n",
       "#sk-container-id-1 div.sk-toggleable__content {\n",
       "  max-height: 0;\n",
       "  max-width: 0;\n",
       "  overflow: hidden;\n",
       "  text-align: left;\n",
       "  /* unfitted */\n",
       "  background-color: var(--sklearn-color-unfitted-level-0);\n",
       "}\n",
       "\n",
       "#sk-container-id-1 div.sk-toggleable__content.fitted {\n",
       "  /* fitted */\n",
       "  background-color: var(--sklearn-color-fitted-level-0);\n",
       "}\n",
       "\n",
       "#sk-container-id-1 div.sk-toggleable__content pre {\n",
       "  margin: 0.2em;\n",
       "  border-radius: 0.25em;\n",
       "  color: var(--sklearn-color-text);\n",
       "  /* unfitted */\n",
       "  background-color: var(--sklearn-color-unfitted-level-0);\n",
       "}\n",
       "\n",
       "#sk-container-id-1 div.sk-toggleable__content.fitted pre {\n",
       "  /* unfitted */\n",
       "  background-color: var(--sklearn-color-fitted-level-0);\n",
       "}\n",
       "\n",
       "#sk-container-id-1 input.sk-toggleable__control:checked~div.sk-toggleable__content {\n",
       "  /* Expand drop-down */\n",
       "  max-height: 200px;\n",
       "  max-width: 100%;\n",
       "  overflow: auto;\n",
       "}\n",
       "\n",
       "#sk-container-id-1 input.sk-toggleable__control:checked~label.sk-toggleable__label-arrow:before {\n",
       "  content: \"▾\";\n",
       "}\n",
       "\n",
       "/* Pipeline/ColumnTransformer-specific style */\n",
       "\n",
       "#sk-container-id-1 div.sk-label input.sk-toggleable__control:checked~label.sk-toggleable__label {\n",
       "  color: var(--sklearn-color-text);\n",
       "  background-color: var(--sklearn-color-unfitted-level-2);\n",
       "}\n",
       "\n",
       "#sk-container-id-1 div.sk-label.fitted input.sk-toggleable__control:checked~label.sk-toggleable__label {\n",
       "  background-color: var(--sklearn-color-fitted-level-2);\n",
       "}\n",
       "\n",
       "/* Estimator-specific style */\n",
       "\n",
       "/* Colorize estimator box */\n",
       "#sk-container-id-1 div.sk-estimator input.sk-toggleable__control:checked~label.sk-toggleable__label {\n",
       "  /* unfitted */\n",
       "  background-color: var(--sklearn-color-unfitted-level-2);\n",
       "}\n",
       "\n",
       "#sk-container-id-1 div.sk-estimator.fitted input.sk-toggleable__control:checked~label.sk-toggleable__label {\n",
       "  /* fitted */\n",
       "  background-color: var(--sklearn-color-fitted-level-2);\n",
       "}\n",
       "\n",
       "#sk-container-id-1 div.sk-label label.sk-toggleable__label,\n",
       "#sk-container-id-1 div.sk-label label {\n",
       "  /* The background is the default theme color */\n",
       "  color: var(--sklearn-color-text-on-default-background);\n",
       "}\n",
       "\n",
       "/* On hover, darken the color of the background */\n",
       "#sk-container-id-1 div.sk-label:hover label.sk-toggleable__label {\n",
       "  color: var(--sklearn-color-text);\n",
       "  background-color: var(--sklearn-color-unfitted-level-2);\n",
       "}\n",
       "\n",
       "/* Label box, darken color on hover, fitted */\n",
       "#sk-container-id-1 div.sk-label.fitted:hover label.sk-toggleable__label.fitted {\n",
       "  color: var(--sklearn-color-text);\n",
       "  background-color: var(--sklearn-color-fitted-level-2);\n",
       "}\n",
       "\n",
       "/* Estimator label */\n",
       "\n",
       "#sk-container-id-1 div.sk-label label {\n",
       "  font-family: monospace;\n",
       "  font-weight: bold;\n",
       "  display: inline-block;\n",
       "  line-height: 1.2em;\n",
       "}\n",
       "\n",
       "#sk-container-id-1 div.sk-label-container {\n",
       "  text-align: center;\n",
       "}\n",
       "\n",
       "/* Estimator-specific */\n",
       "#sk-container-id-1 div.sk-estimator {\n",
       "  font-family: monospace;\n",
       "  border: 1px dotted var(--sklearn-color-border-box);\n",
       "  border-radius: 0.25em;\n",
       "  box-sizing: border-box;\n",
       "  margin-bottom: 0.5em;\n",
       "  /* unfitted */\n",
       "  background-color: var(--sklearn-color-unfitted-level-0);\n",
       "}\n",
       "\n",
       "#sk-container-id-1 div.sk-estimator.fitted {\n",
       "  /* fitted */\n",
       "  background-color: var(--sklearn-color-fitted-level-0);\n",
       "}\n",
       "\n",
       "/* on hover */\n",
       "#sk-container-id-1 div.sk-estimator:hover {\n",
       "  /* unfitted */\n",
       "  background-color: var(--sklearn-color-unfitted-level-2);\n",
       "}\n",
       "\n",
       "#sk-container-id-1 div.sk-estimator.fitted:hover {\n",
       "  /* fitted */\n",
       "  background-color: var(--sklearn-color-fitted-level-2);\n",
       "}\n",
       "\n",
       "/* Specification for estimator info (e.g. \"i\" and \"?\") */\n",
       "\n",
       "/* Common style for \"i\" and \"?\" */\n",
       "\n",
       ".sk-estimator-doc-link,\n",
       "a:link.sk-estimator-doc-link,\n",
       "a:visited.sk-estimator-doc-link {\n",
       "  float: right;\n",
       "  font-size: smaller;\n",
       "  line-height: 1em;\n",
       "  font-family: monospace;\n",
       "  background-color: var(--sklearn-color-background);\n",
       "  border-radius: 1em;\n",
       "  height: 1em;\n",
       "  width: 1em;\n",
       "  text-decoration: none !important;\n",
       "  margin-left: 1ex;\n",
       "  /* unfitted */\n",
       "  border: var(--sklearn-color-unfitted-level-1) 1pt solid;\n",
       "  color: var(--sklearn-color-unfitted-level-1);\n",
       "}\n",
       "\n",
       ".sk-estimator-doc-link.fitted,\n",
       "a:link.sk-estimator-doc-link.fitted,\n",
       "a:visited.sk-estimator-doc-link.fitted {\n",
       "  /* fitted */\n",
       "  border: var(--sklearn-color-fitted-level-1) 1pt solid;\n",
       "  color: var(--sklearn-color-fitted-level-1);\n",
       "}\n",
       "\n",
       "/* On hover */\n",
       "div.sk-estimator:hover .sk-estimator-doc-link:hover,\n",
       ".sk-estimator-doc-link:hover,\n",
       "div.sk-label-container:hover .sk-estimator-doc-link:hover,\n",
       ".sk-estimator-doc-link:hover {\n",
       "  /* unfitted */\n",
       "  background-color: var(--sklearn-color-unfitted-level-3);\n",
       "  color: var(--sklearn-color-background);\n",
       "  text-decoration: none;\n",
       "}\n",
       "\n",
       "div.sk-estimator.fitted:hover .sk-estimator-doc-link.fitted:hover,\n",
       ".sk-estimator-doc-link.fitted:hover,\n",
       "div.sk-label-container:hover .sk-estimator-doc-link.fitted:hover,\n",
       ".sk-estimator-doc-link.fitted:hover {\n",
       "  /* fitted */\n",
       "  background-color: var(--sklearn-color-fitted-level-3);\n",
       "  color: var(--sklearn-color-background);\n",
       "  text-decoration: none;\n",
       "}\n",
       "\n",
       "/* Span, style for the box shown on hovering the info icon */\n",
       ".sk-estimator-doc-link span {\n",
       "  display: none;\n",
       "  z-index: 9999;\n",
       "  position: relative;\n",
       "  font-weight: normal;\n",
       "  right: .2ex;\n",
       "  padding: .5ex;\n",
       "  margin: .5ex;\n",
       "  width: min-content;\n",
       "  min-width: 20ex;\n",
       "  max-width: 50ex;\n",
       "  color: var(--sklearn-color-text);\n",
       "  box-shadow: 2pt 2pt 4pt #999;\n",
       "  /* unfitted */\n",
       "  background: var(--sklearn-color-unfitted-level-0);\n",
       "  border: .5pt solid var(--sklearn-color-unfitted-level-3);\n",
       "}\n",
       "\n",
       ".sk-estimator-doc-link.fitted span {\n",
       "  /* fitted */\n",
       "  background: var(--sklearn-color-fitted-level-0);\n",
       "  border: var(--sklearn-color-fitted-level-3);\n",
       "}\n",
       "\n",
       ".sk-estimator-doc-link:hover span {\n",
       "  display: block;\n",
       "}\n",
       "\n",
       "/* \"?\"-specific style due to the `<a>` HTML tag */\n",
       "\n",
       "#sk-container-id-1 a.estimator_doc_link {\n",
       "  float: right;\n",
       "  font-size: 1rem;\n",
       "  line-height: 1em;\n",
       "  font-family: monospace;\n",
       "  background-color: var(--sklearn-color-background);\n",
       "  border-radius: 1rem;\n",
       "  height: 1rem;\n",
       "  width: 1rem;\n",
       "  text-decoration: none;\n",
       "  /* unfitted */\n",
       "  color: var(--sklearn-color-unfitted-level-1);\n",
       "  border: var(--sklearn-color-unfitted-level-1) 1pt solid;\n",
       "}\n",
       "\n",
       "#sk-container-id-1 a.estimator_doc_link.fitted {\n",
       "  /* fitted */\n",
       "  border: var(--sklearn-color-fitted-level-1) 1pt solid;\n",
       "  color: var(--sklearn-color-fitted-level-1);\n",
       "}\n",
       "\n",
       "/* On hover */\n",
       "#sk-container-id-1 a.estimator_doc_link:hover {\n",
       "  /* unfitted */\n",
       "  background-color: var(--sklearn-color-unfitted-level-3);\n",
       "  color: var(--sklearn-color-background);\n",
       "  text-decoration: none;\n",
       "}\n",
       "\n",
       "#sk-container-id-1 a.estimator_doc_link.fitted:hover {\n",
       "  /* fitted */\n",
       "  background-color: var(--sklearn-color-fitted-level-3);\n",
       "}\n",
       "</style><div id=\"sk-container-id-1\" class=\"sk-top-container\"><div class=\"sk-text-repr-fallback\"><pre>LogisticRegression(random_state=101)</pre><b>In a Jupyter environment, please rerun this cell to show the HTML representation or trust the notebook. <br />On GitHub, the HTML representation is unable to render, please try loading this page with nbviewer.org.</b></div><div class=\"sk-container\" hidden><div class=\"sk-item\"><div class=\"sk-estimator fitted sk-toggleable\"><input class=\"sk-toggleable__control sk-hidden--visually\" id=\"sk-estimator-id-1\" type=\"checkbox\" checked><label for=\"sk-estimator-id-1\" class=\"sk-toggleable__label fitted sk-toggleable__label-arrow fitted\">&nbsp;&nbsp;LogisticRegression<a class=\"sk-estimator-doc-link fitted\" rel=\"noreferrer\" target=\"_blank\" href=\"https://scikit-learn.org/1.5/modules/generated/sklearn.linear_model.LogisticRegression.html\">?<span>Documentation for LogisticRegression</span></a><span class=\"sk-estimator-doc-link fitted\">i<span>Fitted</span></span></label><div class=\"sk-toggleable__content fitted\"><pre>LogisticRegression(random_state=101)</pre></div> </div></div></div></div>"
      ],
      "text/plain": [
       "LogisticRegression(random_state=101)"
      ]
     },
     "execution_count": 34,
     "metadata": {},
     "output_type": "execute_result"
    }
   ],
   "source": [
    "# Initialize modelos\n",
    "xgb_model = xgb.XGBClassifier(\n",
    "    max_depth=5,  # You can tune this parameter\n",
    "    learning_rate=0.1,  # You can tune this parameter\n",
    "    n_estimators=500,  # Number of boosting rounds\n",
    "    objective='binary:logistic',  # For binary classification\n",
    "    random_state=seed\n",
    ")\n",
    "knn_model = KNeighborsClassifier()\n",
    "\n",
    "xgb_model.fit(X, y)\n",
    "knn_model.fit(X, y)\n",
    "\n",
    "# Generate predictions on validation data\n",
    "xgb_pred_train = xgb_model.predict_proba(X)[:, 1]\n",
    "xgb_pred_test = xgb_model.predict_proba(X_teste)[:, 1]\n",
    "knn_pred_train = knn_model.predict_proba(X)[:, 1]\n",
    "knn_pred_test = knn_model.predict_proba(X_teste)[:, 1]\n",
    "\n",
    "# Create a new DataFrame with the predictions as features for the meta-model\n",
    "meta_features_train = pd.DataFrame({\n",
    "    'xgb_pred': xgb_pred_train,\n",
    "    'knn_pred': knn_pred_train\n",
    "})\n",
    "meta_features_test = pd.DataFrame({\n",
    "    'xgb_pred': xgb_pred_test,\n",
    "    'knn_pred': knn_pred_test\n",
    "})\n",
    "\n",
    "# Logistic Regression no ensemble\n",
    "modelo = LogisticRegression(random_state=seed)\n",
    "modelo.fit(meta_features_train, y)"
   ]
  },
  {
   "cell_type": "markdown",
   "metadata": {},
   "source": [
    "#### INDICADORES DF_TREINO"
   ]
  },
  {
   "cell_type": "code",
   "execution_count": 35,
   "metadata": {},
   "outputs": [
    {
     "name": "stdout",
     "output_type": "stream",
     "text": [
      "82.3\n"
     ]
    }
   ],
   "source": [
    "# Cálculo do indicador de acurácia do modelo\n",
    "predictions = modelo.predict(meta_features_train)\n",
    "\n",
    "accuracy = accuracy_score(y, predictions)\n",
    "accuracy = round(accuracy, 3)*100\n",
    "print(accuracy)"
   ]
  },
  {
   "cell_type": "code",
   "execution_count": 36,
   "metadata": {},
   "outputs": [
    {
     "name": "stdout",
     "output_type": "stream",
     "text": [
      "              precision    recall  f1-score   support\n",
      "\n",
      "           0       0.85      0.93      0.89     91163\n",
      "           1       0.69      0.50      0.58     29587\n",
      "\n",
      "    accuracy                           0.82    120750\n",
      "   macro avg       0.77      0.71      0.73    120750\n",
      "weighted avg       0.81      0.82      0.81    120750\n",
      "\n"
     ]
    }
   ],
   "source": [
    "# Cálculo dos indicadores de precision, recall e f1-score\n",
    "print(classification_report(y, predictions))"
   ]
  },
  {
   "cell_type": "code",
   "execution_count": 37,
   "metadata": {},
   "outputs": [
    {
     "data": {
      "image/png": "[encoded data removed]",
      "text/plain": [
       "<Figure size 800x600 with 1 Axes>"
      ]
     },
     "metadata": {},
     "output_type": "display_data"
    }
   ],
   "source": [
    "# Plot da matriz de confusão\n",
    "matriz_confusao = confusion_matrix(y, predictions)\n",
    "\n",
    "plt.figure(figsize=(8, 6))\n",
    "sns.heatmap(matriz_confusao, annot=True, fmt='d', cmap='Blues', cbar=False)\n",
    "plt.title(\"Matriz de Confusão\")\n",
    "plt.xlabel('Rótulo Previsto')\n",
    "plt.ylabel('Rótulo Real')\n",
    "plt.show()"
   ]
  },
  {
   "cell_type": "code",
   "execution_count": 38,
   "metadata": {},
   "outputs": [
    {
     "name": "stdout",
     "output_type": "stream",
     "text": [
      "roc_auc 0.8658560881523677\n",
      "GINI 0.7317121763047354\n"
     ]
    },
    {
     "data": {
      "image/png": "[encoded data removed]",
      "text/plain": [
       "<Figure size 500x500 with 1 Axes>"
      ]
     },
     "metadata": {},
     "output_type": "display_data"
    }
   ],
   "source": [
    "# Plot da curva ROC\n",
    "prob_previsao = modelo.predict_proba(meta_features_train)[:,1]\n",
    "\n",
    "tfp, tvp, limite = roc_curve(y, prob_previsao)\n",
    "print('roc_auc', roc_auc_score(y, prob_previsao))\n",
    "print('GINI', 2*roc_auc_score(y, prob_previsao)-1)\n",
    "\n",
    "\n",
    "plt.subplots(1, figsize=(5,5))\n",
    "plt.title('Curva ROC')\n",
    "plt.plot(tfp,tvp)\n",
    "plt.xlabel('Especifidade')\n",
    "plt.ylabel('Sensibilidade')\n",
    "plt.plot([0, 1], ls=\"--\", c = 'red') #plotando linha guia pontilhada vermelha\n",
    "plt.plot([0, 0], [1, 0], ls=\"--\", c = 'green'), plt.plot([1, 1], ls=\"--\", c = 'green') #plotando linha guia pontilhada verde\n",
    "plt.show()"
   ]
  },
  {
   "cell_type": "markdown",
   "metadata": {},
   "source": [
    "#### INDICADORES DE DF_TESTE"
   ]
  },
  {
   "cell_type": "code",
   "execution_count": 39,
   "metadata": {},
   "outputs": [
    {
     "name": "stdout",
     "output_type": "stream",
     "text": [
      "71.3\n"
     ]
    }
   ],
   "source": [
    "# Cálculo do indicador de acurácia do modelo\n",
    "predictions = modelo.predict(meta_features_test)\n",
    "\n",
    "accuracy = accuracy_score(y_teste, predictions)\n",
    "accuracy = round(accuracy, 3)*100\n",
    "print(accuracy)"
   ]
  },
  {
   "cell_type": "code",
   "execution_count": 40,
   "metadata": {},
   "outputs": [
    {
     "name": "stdout",
     "output_type": "stream",
     "text": [
      "              precision    recall  f1-score   support\n",
      "\n",
      "           0       0.79      0.85      0.82     39071\n",
      "           1       0.39      0.29      0.33     12680\n",
      "\n",
      "    accuracy                           0.71     51751\n",
      "   macro avg       0.59      0.57      0.57     51751\n",
      "weighted avg       0.69      0.71      0.70     51751\n",
      "\n"
     ]
    }
   ],
   "source": [
    "# Cálculo dos indicadores de precision, recall e f1-score\n",
    "print(classification_report(y_teste, predictions))"
   ]
  },
  {
   "cell_type": "code",
   "execution_count": 41,
   "metadata": {},
   "outputs": [
    {
     "data": {
      "image/png": "[encoded data removed]",
      "text/plain": [
       "<Figure size 800x600 with 1 Axes>"
      ]
     },
     "metadata": {},
     "output_type": "display_data"
    }
   ],
   "source": [
    "# Plot da matriz de confusão\n",
    "matriz_confusao = confusion_matrix(y_teste, predictions)\n",
    "\n",
    "plt.figure(figsize=(8, 6))\n",
    "sns.heatmap(matriz_confusao, annot=True, fmt='d', cmap='Blues', cbar=False)\n",
    "plt.title(\"Matriz de Confusão\")\n",
    "plt.xlabel('Rótulo Previsto')\n",
    "plt.ylabel('Rótulo Real')\n",
    "plt.show()"
   ]
  },
  {
   "cell_type": "code",
   "execution_count": 42,
   "metadata": {},
   "outputs": [
    {
     "name": "stdout",
     "output_type": "stream",
     "text": [
      "roc_auc 0.6360276319330327\n",
      "GINI 0.2720552638660654\n"
     ]
    },
    {
     "data": {
      "image/png": "[encoded data removed]",
      "text/plain": [
       "<Figure size 500x500 with 1 Axes>"
      ]
     },
     "metadata": {},
     "output_type": "display_data"
    }
   ],
   "source": [
    "# Plot da curva ROC\n",
    "prob_previsao = modelo.predict_proba(meta_features_test)[:,1]\n",
    "\n",
    "tfp, tvp, limite = roc_curve(y_teste, prob_previsao)\n",
    "print('roc_auc', roc_auc_score(y_teste, prob_previsao))\n",
    "print('GINI', 2*roc_auc_score(y_teste, prob_previsao)-1)\n",
    "\n",
    "\n",
    "plt.subplots(1, figsize=(5,5))\n",
    "plt.title('Curva ROC')\n",
    "plt.plot(tfp,tvp)\n",
    "plt.xlabel('Especifidade')\n",
    "plt.ylabel('Sensibilidade')\n",
    "plt.plot([0, 1], ls=\"--\", c = 'red') #plotando linha guia pontilhada vermelha\n",
    "plt.plot([0, 0], [1, 0], ls=\"--\", c = 'green'), plt.plot([1, 1], ls=\"--\", c = 'green') #plotando linha guia pontilhada verde\n",
    "plt.show()"
   ]
  },
  {
   "cell_type": "markdown",
   "metadata": {},
   "source": [
    "#### CÁLCULO DO KS"
   ]
  },
  {
   "cell_type": "code",
   "execution_count": 43,
   "metadata": {},
   "outputs": [
    {
     "data": {
      "text/plain": [
       "KstestResult(statistic=np.float64(0.5541662483794669), pvalue=np.float64(0.0), statistic_location=np.float64(0.22368387727104003), statistic_sign=np.int8(1))"
      ]
     },
     "execution_count": 43,
     "metadata": {},
     "output_type": "execute_result"
    }
   ],
   "source": [
    "df_train['predicted'] = modelo.predict(meta_features_train)\n",
    "df_train['probability_default'] = modelo.predict_proba(meta_features_train)[:,1]\n",
    "\n",
    "class0 = df_train[df_train['TARGET'] == 0]\n",
    "class1 = df_train[df_train['TARGET'] == 1]\n",
    "\n",
    "ks_2samp(class0['probability_default'], class1['probability_default'])"
   ]
  },
  {
   "cell_type": "code",
   "execution_count": 44,
   "metadata": {},
   "outputs": [
    {
     "data": {
      "text/plain": [
       "KstestResult(statistic=np.float64(0.19248860987281347), pvalue=np.float64(3.7795738698704e-311), statistic_location=np.float64(0.14456831136208048), statistic_sign=np.int8(1))"
      ]
     },
     "execution_count": 44,
     "metadata": {},
     "output_type": "execute_result"
    }
   ],
   "source": [
    "df_test['predicted'] = modelo.predict(meta_features_test)\n",
    "df_test['probability_default'] = modelo.predict_proba(meta_features_test)[:,1]\n",
    "\n",
    "class0 = df_test[df_test['TARGET'] == 0]\n",
    "class1 = df_test[df_test['TARGET'] == 1]\n",
    "\n",
    "ks_2samp(class0['probability_default'], class1['probability_default'])"
   ]
  },
  {
   "cell_type": "markdown",
   "metadata": {},
   "source": [
    "## ANÁLISE FINANCEIRA"
   ]
  },
  {
   "cell_type": "code",
   "execution_count": 45,
   "metadata": {},
   "outputs": [],
   "source": [
    "# Politica AS IS \n",
    "df_test['predicted-as-is'] = np.where(df_test['IDADE_ORIGINAL'] > 29, 0, 1)"
   ]
  },
  {
   "cell_type": "code",
   "execution_count": 46,
   "metadata": {},
   "outputs": [
    {
     "name": "stdout",
     "output_type": "stream",
     "text": [
      "A financeira emprestou R$7305000\n"
     ]
    }
   ],
   "source": [
    "# Pergunta 1\n",
    "print(f\"A financeira emprestou R${1000 * df_test[df_test['ref_date_trunc'] == '2017-08-01'].shape[0]}\")"
   ]
  },
  {
   "cell_type": "code",
   "execution_count": 47,
   "metadata": {},
   "outputs": [
    {
     "name": "stdout",
     "output_type": "stream",
     "text": [
      "O valor da dívida total é R$1537000\n"
     ]
    }
   ],
   "source": [
    "# Pergunta 2\n",
    "print(f\"O valor da dívida total é R${1000 * df_test[df_test['predicted-as-is'] == 1][df_test['ref_date_trunc'] == '2017-08-01'].shape[0]}\")"
   ]
  },
  {
   "cell_type": "code",
   "execution_count": 48,
   "metadata": {},
   "outputs": [
    {
     "name": "stdout",
     "output_type": "stream",
     "text": [
      "O percentual de pessoas que teve o empréstimo negado foi: 21.04%\n"
     ]
    }
   ],
   "source": [
    "# Pergunta 3.1\n",
    "print(f\"O percentual de pessoas que teve o empréstimo negado foi: {df_test[df_test['ref_date_trunc'] == '2017-08-01']['predicted-as-is'].mean()*100 :.2f}%\")"
   ]
  },
  {
   "cell_type": "code",
   "execution_count": 49,
   "metadata": {},
   "outputs": [
    {
     "name": "stdout",
     "output_type": "stream",
     "text": [
      "Definição do threshold para a política to-be: 4.57%\n"
     ]
    }
   ],
   "source": [
    "# Pergunta 3.2 \n",
    "print(f\"Definição do threshold para a política to-be: {df_test['probability_default'].quantile(0.2104) * 100 :.2f}%\")"
   ]
  },
  {
   "cell_type": "code",
   "execution_count": 50,
   "metadata": {},
   "outputs": [
    {
     "name": "stdout",
     "output_type": "stream",
     "text": [
      "O valor da dívida total na política to be seria R$5517000\n"
     ]
    }
   ],
   "source": [
    "# Politica TO BE\n",
    "df_test['predicted-to-be'] = np.where(df_test['probability_default'] > 0.0457, 1, 0)\n",
    "print(f\"O valor da dívida total na política to be seria R${1000 * df_test[df_test['predicted-to-be'] == 1][df_test['ref_date_trunc'] == '2017-08-01'].shape[0]}\")"
   ]
  },
  {
   "cell_type": "markdown",
   "metadata": {},
   "source": [
    "## BASE OOT"
   ]
  },
  {
   "cell_type": "code",
   "execution_count": 51,
   "metadata": {},
   "outputs": [],
   "source": [
    "# Preenchimento de nulos\n",
    "df_oot[vars_categoricas] = df_oot[vars_categoricas].fillna(mode_values)\n",
    "df_oot[vars_numericas] = df_oot[vars_numericas].fillna(median_values)\n",
    "\n",
    "# Substituindo variáveis flag\n",
    "df_oot[lst_flags] = df_oot[lst_flags].replace({'S': 1, 'N': 0})\n",
    "\n",
    "# Label Encoding df_oot\n",
    "for var in lst_label_encode:\n",
    "    label_encoder.classes_ = np.append(label_encoder.classes_, 'DESCONHECIDO')\n",
    "    df_oot[var] = df_oot[var].apply(lambda x: x if x in label_encoder.classes_[:-1] else 'DESCONHECIDO')\n",
    "    df_oot[var] = label_encoder.transform(df_oot[var])\n",
    "\n",
    "# One Hot Encoding df_oot\n",
    "df_oot = pd.get_dummies(df_oot, columns=lst_one_hot_encoding)\n",
    "df_oot = df_oot.reindex(columns=train_columns, fill_value=0)\n",
    "df_oot[lst_vars_bool] = df_oot[lst_vars_bool].astype(int)\n",
    "\n",
    "# Escalonando oot\n",
    "df_oot[lst_scaler] = scaler.transform(df_oot[lst_scaler])"
   ]
  },
  {
   "cell_type": "code",
   "execution_count": 53,
   "metadata": {},
   "outputs": [],
   "source": [
    "# Escorando o dataframe\n",
    "df_oot['lr_balanceado_prediction'] = modelo_lr_balanceado.predict(df_oot[vars_selecionadas])\n",
    "xgb_pred_oot = xgb_model.predict_proba(df_oot[[*vars_selecionadas, 'lr_balanceado_prediction']])[:, 1]\n",
    "knn_pred_oot = knn_model.predict_proba(df_oot[[*vars_selecionadas, 'lr_balanceado_prediction']])[:, 1]\n",
    "meta_features_oot = pd.DataFrame({\n",
    "    'xgb_pred': xgb_pred_oot,\n",
    "    'knn_pred': knn_pred_oot\n",
    "})\n",
    "df_oot['prediction'] = modelo.predict(meta_features_oot)\n",
    "df_oot['probability_default'] = modelo.predict_proba(meta_features_oot)[:, 1]\n",
    "\n",
    "# Exportação do arquivo\n",
    "df_oot.to_parquet('oot_escorado.parquet.gzip', compression='gzip')"
   ]
  }
 ],
 "metadata": {
  "kernelspec": {
   "display_name": "Python 3.9.12 ('venv': venv)",
   "language": "python",
   "name": "python3"
  },
  "language_info": {
   "codemirror_mode": {
    "name": "ipython",
    "version": 3
   },
   "file_extension": ".py",
   "mimetype": "text/x-python",
   "name": "python",
   "nbconvert_exporter": "python",
   "pygments_lexer": "ipython3",
   "version": "3.9.12"
  },
  "orig_nbformat": 4,
  "vscode": {
   "interpreter": {
    "hash": "00ddbe63c7a16289472ebddb6e287018a3e774c94677f6debbf50c01c77b8c07"
   }
  }
 },
 "nbformat": 4,
 "nbformat_minor": 2
}
